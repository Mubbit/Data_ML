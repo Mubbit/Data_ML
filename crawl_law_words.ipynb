{
 "cells": [
  {
   "cell_type": "code",
   "execution_count": 19,
   "metadata": {},
   "outputs": [],
   "source": [
    "import pandas as pd\n",
    "import xml.etree.ElementTree as ET\n",
    "from urllib.request import urlopen\n",
    "from tqdm import trange\n",
    "from bs4 import BeautifulSoup as bs\n",
    "import re"
   ]
  },
  {
   "cell_type": "markdown",
   "metadata": {},
   "source": [
    "법령명: law\n",
    "판례: prec\n",
    "법령용어"
   ]
  },
  {
   "cell_type": "code",
   "execution_count": 43,
   "metadata": {},
   "outputs": [
    {
     "data": {
      "text/plain": [
       "Index(['http://www.aihub.or.kr/kb/law/Term/납세대상자', 'http://www.aihub.or.kr/kb/law/Term/촬영후'], dtype='object')"
      ]
     },
     "execution_count": 43,
     "metadata": {},
     "output_type": "execute_result"
    }
   ],
   "source": [
    "vocab=pd.read_json('D:\\\\PanryeAI\\\\법률 지식베이스\\\\법령용어\\\\법령용어(Json)\\\\test_vocab.json')\n",
    "vocab.keys()"
   ]
  },
  {
   "cell_type": "code",
   "execution_count": 44,
   "metadata": {},
   "outputs": [
    {
     "data": {
      "text/plain": [
       "Index(['http://www.aihub.or.kr/kb/law/Term/납세대상자',\n",
       "       'http://www.aihub.or.kr/kb/law/Term/촬영후',\n",
       "       'http://www.aihub.or.kr/kb/law/Term/연금수혜폭',\n",
       "       'http://www.aihub.or.kr/kb/law/Term/보험급여분',\n",
       "       'http://www.aihub.or.kr/kb/law/Term/광역지자체인',\n",
       "       'http://www.aihub.or.kr/kb/law/Term/동일부서',\n",
       "       'http://www.aihub.or.kr/kb/law/Term/홍은',\n",
       "       'http://www.aihub.or.kr/kb/law/Term/부담부유증',\n",
       "       'http://www.aihub.or.kr/kb/law/Term/소통능력',\n",
       "       'http://www.aihub.or.kr/kb/law/Term/운동기간전',\n",
       "       ...\n",
       "       'http://www.aihub.or.kr/kb/law/Term/피란길',\n",
       "       'http://www.aihub.or.kr/kb/law/Term/자긍심',\n",
       "       'http://www.aihub.or.kr/kb/law/Term/파병만료',\n",
       "       'http://www.aihub.or.kr/kb/law/Term/시영',\n",
       "       'http://www.aihub.or.kr/kb/law/Term/촬영일정',\n",
       "       'http://www.aihub.or.kr/kb/law/Term/농협해킹',\n",
       "       'http://www.aihub.or.kr/kb/law/Term/국내정착',\n",
       "       'http://www.aihub.or.kr/kb/law/Term/기본법제정',\n",
       "       'http://www.aihub.or.kr/kb/law/Term/행정민원인',\n",
       "       'http://www.aihub.or.kr/kb/law/Term/탈세범'],\n",
       "      dtype='object', length=246045)"
      ]
     },
     "execution_count": 44,
     "metadata": {},
     "output_type": "execute_result"
    }
   ],
   "source": [
    "vocab_big=pd.read_json('D:\\\\PanryeAI\\\\법률 지식베이스\\\\법령용어\\\\법령용어(Json)\\\\nia_law_term_ontology_사전_20180117.json')\n",
    "vocab_big.keys()"
   ]
  },
  {
   "cell_type": "code",
   "execution_count": 48,
   "metadata": {},
   "outputs": [
    {
     "data": {
      "text/plain": [
       "['납세대상자', '촬영후', '연금수혜폭']"
      ]
     },
     "execution_count": 48,
     "metadata": {},
     "output_type": "execute_result"
    }
   ],
   "source": [
    "all_vocabs=[string.split('/')[-1] for string in vocab_big.keys()]\n",
    "all_vocabs[:3]"
   ]
  },
  {
   "cell_type": "code",
   "execution_count": 61,
   "metadata": {},
   "outputs": [
    {
     "name": "stdout",
     "output_type": "stream",
     "text": [
      "naver []\n"
     ]
    }
   ],
   "source": [
    "import sys\n",
    "import requests\n",
    "from bs4 import BeautifulSoup\n",
    "\n",
    "def search_naver_dic(query_keyword):\n",
    "    dic_url = \"\"\"https://ko.dict.naver.com/#/search?query={0}&range=all\"\"\"\n",
    "    r = requests.get(dic_url.format(query_keyword))\n",
    "    soup = BeautifulSoup(r.text, \"html.parser\")\n",
    "    result_means = soup.find_all(attrs={'class':'fnt_k05'})\n",
    "    print(\"naver\", result_means)\n",
    "\n",
    "search_naver_dic(all_vocabs[0])"
   ]
  },
  {
   "cell_type": "code",
   "execution_count": null,
   "metadata": {},
   "outputs": [],
   "source": [
    "url = vocab_big.keys()[0]\n",
    "print(url)\n",
    "response = urlopen(url).read()\n",
    "bs(response)"
   ]
  },
  {
   "cell_type": "code",
   "execution_count": 47,
   "metadata": {},
   "outputs": [
    {
     "name": "stdout",
     "output_type": "stream",
     "text": [
      "[{'type': 'literal', 'value': '납세대상자'}]\n",
      "[{'type': 'uri', 'value': 'http://www.aihub.or.kr/kb/law/Term/평균신고'}, {'type': 'uri', 'value': 'http://www.aihub.or.kr/kb/law/Term/세액점유비'}, {'type': 'uri', 'value': 'http://www.aihub.or.kr/kb/law/Term/시간당비용'}, {'type': 'uri', 'value': 'http://www.aihub.or.kr/kb/law/Term/세부담액'}, {'type': 'uri', 'value': 'http://www.aihub.or.kr/kb/law/Term/차등중과세'}, {'type': 'uri', 'value': 'http://www.aihub.or.kr/kb/law/Term/고액납세자'}, {'type': 'uri', 'value': 'http://www.aihub.or.kr/kb/law/Term/종부세액'}, {'type': 'uri', 'value': 'http://www.aihub.or.kr/kb/law/Term/과세표준액'}, {'type': 'uri', 'value': 'http://www.aihub.or.kr/kb/law/Term/과세불복절차'}, {'type': 'uri', 'value': 'http://www.aihub.or.kr/kb/law/Term/적용비율기준'}, {'type': 'uri', 'value': 'http://www.aihub.or.kr/kb/law/Term/납부대상자'}, {'type': 'uri', 'value': 'http://www.aihub.or.kr/kb/law/Term/가운데과세기준'}, {'type': 'uri', 'value': 'http://www.aihub.or.kr/kb/law/Term/서울시가올해'}, {'type': 'uri', 'value': 'http://www.aihub.or.kr/kb/law/Term/종합통지세'}, {'type': 'uri', 'value': 'http://www.aihub.or.kr/kb/law/Term/법인세규모'}, {'type': 'uri', 'value': 'http://www.aihub.or.kr/kb/law/Term/종합토지세'}, {'type': 'uri', 'value': 'http://www.aihub.or.kr/kb/law/Term/세금납부액'}, {'type': 'uri', 'value': 'http://www.aihub.or.kr/kb/law/Term/신고대상인원'}, {'type': 'uri', 'value': 'http://www.aihub.or.kr/kb/law/Term/증여세관련'}, {'type': 'uri', 'value': 'http://www.aihub.or.kr/kb/law/Term/과세대상자'}, {'type': 'uri', 'value': 'http://www.aihub.or.kr/kb/law/Term/세무사자격시험'}, {'type': 'uri', 'value': 'http://www.aihub.or.kr/kb/law/Term/해외출입국자료'}, {'type': 'uri', 'value': 'http://www.aihub.or.kr/kb/law/Term/실물거래확인'}, {'type': 'uri', 'value': 'http://www.aihub.or.kr/kb/law/Term/수입판매량'}, {'type': 'uri', 'value': 'http://www.aihub.or.kr/kb/law/Term/소액심판청구'}, {'type': 'uri', 'value': 'http://www.aihub.or.kr/kb/law/Term/세액'}, {'type': 'uri', 'value': 'http://www.aihub.or.kr/kb/law/Term/부과대상자'}, {'type': 'uri', 'value': 'http://www.aihub.or.kr/kb/law/Term/효력집행정지처분'}, {'type': 'uri', 'value': 'http://www.aihub.or.kr/kb/law/Term/세액순위'}, {'type': 'uri', 'value': 'http://www.aihub.or.kr/kb/law/Term/건강보험료'}]\n",
      "[{'type': 'uri', 'value': 'http://www.aihub.or.kr/kb/law/Term'}]\n"
     ]
    }
   ],
   "source": [
    "print(vocab_big.iloc[0,0])\n",
    "print(vocab_big.iloc[1,0])\n",
    "print(vocab_big.iloc[2,0])"
   ]
  }
 ],
 "metadata": {
  "kernelspec": {
   "display_name": "Python 3.9.6 64-bit",
   "language": "python",
   "name": "python3"
  },
  "language_info": {
   "codemirror_mode": {
    "name": "ipython",
    "version": 3
   },
   "file_extension": ".py",
   "mimetype": "text/x-python",
   "name": "python",
   "nbconvert_exporter": "python",
   "pygments_lexer": "ipython3",
   "version": "3.9.6"
  },
  "orig_nbformat": 4,
  "vscode": {
   "interpreter": {
    "hash": "b485adf93bff8ca269d5493edbedeaa1a759650bfde9cbea36fd7f7b559c92d8"
   }
  }
 },
 "nbformat": 4,
 "nbformat_minor": 2
}
