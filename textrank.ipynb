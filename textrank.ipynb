{
 "cells": [
  {
   "cell_type": "code",
   "execution_count": 1,
   "metadata": {},
   "outputs": [],
   "source": [
    "import pandas as pd\n",
    "import numpy as np\n",
    "import re"
   ]
  },
  {
   "cell_type": "code",
   "execution_count": 2,
   "metadata": {},
   "outputs": [],
   "source": [
    "case_list=pd.read_csv('case_list.csv')"
   ]
  },
  {
   "cell_type": "code",
   "execution_count": 12,
   "metadata": {},
   "outputs": [
    {
     "data": {
      "text/plain": [
       "221949"
      ]
     },
     "execution_count": 12,
     "metadata": {},
     "output_type": "execute_result"
    }
   ],
   "source": [
    "case_list['판례일련번호'].iloc[0]"
   ]
  },
  {
   "cell_type": "code",
   "execution_count": 13,
   "metadata": {},
   "outputs": [
    {
     "name": "stdout",
     "output_type": "stream",
     "text": [
      "221949\n"
     ]
    }
   ],
   "source": [
    "execfile(\"Cleanse.py\")\n",
    "a=Cleansed_iterated(case_list)\n",
    "k=iter(a)\n",
    "test_m=None\n",
    "for i,m in enumerate(k):\n",
    "    test_m=m#pid,word_dict,highlightable\n",
    "    print(m.pid)\n",
    "    if i==0:\n",
    "        break\n",
    "        "
   ]
  },
  {
   "cell_type": "code",
   "execution_count": 32,
   "metadata": {},
   "outputs": [
    {
     "name": "stdout",
     "output_type": "stream",
     "text": [
      "221949\n"
     ]
    }
   ],
   "source": [
    "print(test_m.passage['판례일련번호'])"
   ]
  },
  {
   "cell_type": "code",
   "execution_count": 24,
   "metadata": {},
   "outputs": [
    {
     "name": "stdout",
     "output_type": "stream",
     "text": [
      "  vocab  pos sent_id eojeol_id\n",
      "0     구  NNG       0         1\n",
      "0    고용  NNG       0         2\n",
      "0     상  XSN       0         2\n",
      "0    연령  NNG       0         3\n",
      "0    차별  NNG       0         3\n",
      "  vocab  pos sent_id eojeol_id\n",
      "0    고용  NNG       0         2\n",
      "0     상  XSN       0         2\n",
      "0    차별  NNG       0         3\n",
      "0    금지  NNG       0         3\n",
      "0    고용  NNG       0         5\n"
     ]
    }
   ],
   "source": [
    "#drop stopwords rows \n",
    "\n",
    "from konlpy.tag import Kkma \n",
    "kkma=Kkma()\n",
    "\n",
    "f=open(\"stopwords.txt\",encoding=\"utf-8\")\n",
    "stopwords=f.read()\n",
    "stopwords=re.sub('\\n','|',stopwords)\n",
    "data=test_m.word_dict[0]\n",
    "print(data.head(5))\n",
    "data=data[~data['vocab'].str.contains(stopwords)]\n",
    "print(data.head(5))\n",
    "#갑을병정 대체"
   ]
  },
  {
   "cell_type": "code",
   "execution_count": 26,
   "metadata": {},
   "outputs": [
    {
     "data": {
      "text/html": [
       "<div>\n",
       "<style scoped>\n",
       "    .dataframe tbody tr th:only-of-type {\n",
       "        vertical-align: middle;\n",
       "    }\n",
       "\n",
       "    .dataframe tbody tr th {\n",
       "        vertical-align: top;\n",
       "    }\n",
       "\n",
       "    .dataframe thead th {\n",
       "        text-align: right;\n",
       "    }\n",
       "</style>\n",
       "<table border=\"1\" class=\"dataframe\">\n",
       "  <thead>\n",
       "    <tr style=\"text-align: right;\">\n",
       "      <th></th>\n",
       "      <th>vocab</th>\n",
       "      <th>pos</th>\n",
       "      <th>sent_id</th>\n",
       "      <th>eojeol_id</th>\n",
       "    </tr>\n",
       "  </thead>\n",
       "  <tbody>\n",
       "  </tbody>\n",
       "</table>\n",
       "</div>"
      ],
      "text/plain": [
       "Empty DataFrame\n",
       "Columns: [vocab, pos, sent_id, eojeol_id]\n",
       "Index: []"
      ]
     },
     "execution_count": 26,
     "metadata": {},
     "output_type": "execute_result"
    }
   ],
   "source": [
    "data[data['vocab']=='乙']"
   ]
  },
  {
   "cell_type": "code",
   "execution_count": null,
   "metadata": {},
   "outputs": [],
   "source": [
    "re.sub('甲(갑) 乙(을) 丙(병) 丁(정) 戊(무) 己(기) 庚(경) 辛(신) 壬(임) 癸(계)"
   ]
  }
 ],
 "metadata": {
  "kernelspec": {
   "display_name": "Python 3.9.6 64-bit",
   "language": "python",
   "name": "python3"
  },
  "language_info": {
   "codemirror_mode": {
    "name": "ipython",
    "version": 3
   },
   "file_extension": ".py",
   "mimetype": "text/x-python",
   "name": "python",
   "nbconvert_exporter": "python",
   "pygments_lexer": "ipython3",
   "version": "3.9.6"
  },
  "orig_nbformat": 4,
  "vscode": {
   "interpreter": {
    "hash": "b485adf93bff8ca269d5493edbedeaa1a759650bfde9cbea36fd7f7b559c92d8"
   }
  }
 },
 "nbformat": 4,
 "nbformat_minor": 2
}
