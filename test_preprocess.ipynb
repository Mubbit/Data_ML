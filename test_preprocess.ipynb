{
 "cells": [
  {
   "cell_type": "code",
   "execution_count": 7,
   "metadata": {},
   "outputs": [],
   "source": [
    "import preprocess"
   ]
  },
  {
   "cell_type": "markdown",
   "metadata": {},
   "source": [
    "## 1. 표제어 사전 만들기 "
   ]
  },
  {
   "cell_type": "code",
   "execution_count": 39,
   "metadata": {},
   "outputs": [
    {
     "name": "stdout",
     "output_type": "stream",
     "text": [
      "json file opened\n",
      "The term of json object: 납세대상자 dict_keys(['http://www.aihub.or.kr/kb/law/name', 'http://www.aihub.or.kr/kb/law/related', 'http://www.w3.org/1999/02/22-rdf-syntax-ns#type', 'http://www.w3.org/2000/01/rdf-schema#label'])\n",
      "The term of json object: 촬영후 dict_keys(['http://www.aihub.or.kr/kb/law/name', 'http://www.aihub.or.kr/kb/law/related', 'http://www.w3.org/1999/02/22-rdf-syntax-ns#type', 'http://www.w3.org/2000/01/rdf-schema#label'])\n",
      "json file opened\n",
      "The term of json object: 납세대상자 dict_keys(['http://www.aihub.or.kr/kb/law/name', 'http://www.aihub.or.kr/kb/law/related', 'http://www.w3.org/1999/02/22-rdf-syntax-ns#type', 'http://www.w3.org/2000/01/rdf-schema#label'])\n",
      "The term of json object: 촬영후 dict_keys(['http://www.aihub.or.kr/kb/law/name', 'http://www.aihub.or.kr/kb/law/related', 'http://www.w3.org/1999/02/22-rdf-syntax-ns#type', 'http://www.w3.org/2000/01/rdf-schema#label'])\n"
     ]
    },
    {
     "data": {
      "text/html": [
       "<div>\n",
       "<style scoped>\n",
       "    .dataframe tbody tr th:only-of-type {\n",
       "        vertical-align: middle;\n",
       "    }\n",
       "\n",
       "    .dataframe tbody tr th {\n",
       "        vertical-align: top;\n",
       "    }\n",
       "\n",
       "    .dataframe thead th {\n",
       "        text-align: right;\n",
       "    }\n",
       "</style>\n",
       "<table border=\"1\" class=\"dataframe\">\n",
       "  <thead>\n",
       "    <tr style=\"text-align: right;\">\n",
       "      <th></th>\n",
       "      <th>vocab</th>\n",
       "    </tr>\n",
       "  </thead>\n",
       "  <tbody>\n",
       "    <tr>\n",
       "      <th>0</th>\n",
       "      <td>납세대상자</td>\n",
       "    </tr>\n",
       "  </tbody>\n",
       "</table>\n",
       "</div>"
      ],
      "text/plain": [
       "   vocab\n",
       "0  납세대상자"
      ]
     },
     "execution_count": 39,
     "metadata": {},
     "output_type": "execute_result"
    }
   ],
   "source": [
    "execfile(\"preprocess.py\")\n",
    "lemm_parser=ParseLemmJson(r'법률 지식베이스\\법령용어\\법령용어(Json)\\test_vocab.json')\n",
    "lemm_list,uris=lemm_parser.open()\n",
    "lemm_pd=lemm_parser.toPandas()\n",
    "lemm_pd.head(1)"
   ]
  },
  {
   "cell_type": "markdown",
   "metadata": {},
   "source": [
    "## 2. 토큰화, 위치 라벨링 진행하기"
   ]
  },
  {
   "cell_type": "markdown",
   "metadata": {},
   "source": [
    "### (1) Connect with API"
   ]
  },
  {
   "cell_type": "code",
   "execution_count": 6,
   "metadata": {},
   "outputs": [
    {
     "name": "stdout",
     "output_type": "stream",
     "text": [
      "\n",
      "              class is initialized, \n",
      "              be sure your ip is authenticated by the api\n",
      "              your ip: 192.168.56.1\n"
     ]
    }
   ],
   "source": [
    "\n",
    "execfile(\"preprocess.py\")\n",
    "dataParser=ParsePanrye()\n",
    "soup=dataParser.connect2()"
   ]
  },
  {
   "cell_type": "code",
   "execution_count": 7,
   "metadata": {},
   "outputs": [
    {
     "data": {
      "text/plain": [
       "'prec*evtNm829281221731강도·폭행·업무방해·부착명령2021도171312022.05.19대법원형사400102전원합의체 판결선고/DRF/lawService.do?OC=mugudeli601&target=prec&ID=221731&type=HTML&mobileYn=221733채무불이행자명부등재2021마63712022.05.17대법원민사400101결정자/DRF/lawService.do?OC=mugudeli601&target=prec&ID=221733&type=HTML&mobileYn=221741회계장부와서류의열람및등사청구의소2019다2701632022.05.13대법원민사400101판결선고/DRF/lawService.do?OC=mugudeli601&target=prec&ID=221741&type=HTML&mobileYn=221739재산세부과처분취소2018두501472022.05.13대법원세무400108판결선고/DRF/lawService.do?OC=mugudeli601&target=prec&ID=221739&type=HTML&mobileYn=221737무고·사문서위조·위조사문서행사2017도38842022.05.13대법원형사400102판결선고/DRF/lawService.do?OC=mugudeli601&target=prec&ID=221737&type=HTML&mobileYn=221743물품대금2018다2247812022.05.13대법원민사400101판결선고/DRF/lawService.do?OC=mugudeli601&target=prec&ID=221743&type=HTML&mobileYn=221735명예훼손2020도156422022.05.13대법원형사400102판결선고/DRF/lawService.do?OC=mugudeli601&target=prec&ID=221735&type=HTML&mobileYn=221747손해배상(기)2019다2157912022.05.13대법원민사400101판결선고/DRF/lawService.do?OC=mugudeli601&target=prec&ID=221747&type=HTML&mobileYn=221745미수관리비2019다2295162022.05.13대법원민사400101판결선고/DRF/lawService.do?OC=mugudeli601&target=prec&ID=221745&type=HTML&mobileYn=221755손해배상(기)[피고와 업무위탁계약을 체결한 영업전문점인 원고가 수수료 지급방식이 피고에게 유리하게 변경되자, 피고를 상대로 약관 무효에 따른 부당이득반환, 피고의 거래상 지위 남용을 이유로 한 손해배상 및 미지급 수수료 지급 등을 청구한 사안]2020다2788732022.05.12대법원민사400101판결선고/DRF/lawService.do?OC=mugudeli601&target=prec&ID=221755&type=HTML&mobileYn=221775무효확인2022다2009042022.05.12대법원민사400101판결선고/DRF/lawService.do?OC=mugudeli601&target=prec&ID=221775&type=HTML&mobileYn=221767시정명령등취소2022두314332022.05.12대법원일반행정400107판결선고/DRF/lawService.do?OC=mugudeli601&target=prec&ID=221767&type=HTML&mobileYn=221777총회결의무효확인등[지역주택조합가입계약이 이행불능 또는 사정변경으로 인해 해제되었는지 여부가 문제된 사건]2021다2861162022.05.12대법원민사400101판결선고/DRF/lawService.do?OC=mugudeli601&target=prec&ID=221777&type=HTML&mobileYn=221751주주대표소송(손해배상)2021다2793472022.05.12대법원민사400101판결선고/DRF/lawService.do?OC=mugudeli601&target=prec&ID=221751&type=HTML&mobileYn=221757소송비용액확정2017마62742022.05.12대법원민사400101결정자/DRF/lawService.do?OC=mugudeli601&target=prec&ID=221757&type=HTML&mobileYn=221759가등기말소회복등기2019다2653762022.05.12대법원민사400101판결선고/DRF/lawService.do?OC=mugudeli601&target=prec&ID=221759&type=HTML&mobileYn=221769조합설립인가무효확인2021두563502022.05.12대법원일반행정400107판결선고/DRF/lawService.do?OC=mugudeli601&target=prec&ID=221769&type=HTML&mobileYn=221773약사법위반[상급종합병원 인근 문전약국 약사들이 공동으로 도우미들을 고용하여 환자들을 자신이 정한 순번에 따라 특정 약국으로 안내하고 편의 차량 등을 제공한 사건]2020도180622022.05.12대법원형사400102판결선고/DRF/lawService.do?OC=mugudeli601&target=prec&ID=221773&type=HTML&mobileYn=221779임금[여객자동차 운수사업법상 보수교육이 근로시간에 포함됨을 전제로 임금을 청구한 사건]2022다2037982022.05.12대법원민사400101판결선고/DRF/lawService.do?OC=mugudeli601&target=prec&ID=221779&type=HTML&mobileYn=221781부당노동행위구제재심판정취소2017두540052022.05.12대법원일반행정400107판결선고/DRF/lawService.do?OC=mugudeli601&target=prec&ID=221781&type=HTML&mobileYn='"
      ]
     },
     "execution_count": 7,
     "metadata": {},
     "output_type": "execute_result"
    }
   ],
   "source": [
    "soup.get_text()"
   ]
  },
  {
   "cell_type": "markdown",
   "metadata": {},
   "source": [
    "### (2) 원하는 데이터만 추출해보기 "
   ]
  },
  {
   "cell_type": "code",
   "execution_count": 12,
   "metadata": {},
   "outputs": [
    {
     "name": "stdout",
     "output_type": "stream",
     "text": [
      "221731강도·폭행·업무방해·부착명령2021도171312022.05.19대법원형사400102전원합의체 판결선고/DRF/lawService.do?OC=mugudeli601&target=prec&ID=221731&type=HTML&mobileYn= \n",
      "\n",
      "221733채무불이행자명부등재2021마63712022.05.17대법원민사400101결정자/DRF/lawService.do?OC=mugudeli601&target=prec&ID=221733&type=HTML&mobileYn= \n",
      "\n",
      "221741회계장부와서류의열람및등사청구의소2019다2701632022.05.13대법원민사400101판결선고/DRF/lawService.do?OC=mugudeli601&target=prec&ID=221741&type=HTML&mobileYn= \n",
      "\n",
      "221739재산세부과처분취소2018두501472022.05.13대법원세무400108판결선고/DRF/lawService.do?OC=mugudeli601&target=prec&ID=221739&type=HTML&mobileYn= \n",
      "\n",
      "221737무고·사문서위조·위조사문서행사2017도38842022.05.13대법원형사400102판결선고/DRF/lawService.do?OC=mugudeli601&target=prec&ID=221737&type=HTML&mobileYn= \n",
      "\n",
      "221743물품대금2018다2247812022.05.13대법원민사400101판결선고/DRF/lawService.do?OC=mugudeli601&target=prec&ID=221743&type=HTML&mobileYn= \n",
      "\n",
      "221735명예훼손2020도156422022.05.13대법원형사400102판결선고/DRF/lawService.do?OC=mugudeli601&target=prec&ID=221735&type=HTML&mobileYn= \n",
      "\n",
      "221747손해배상(기)2019다2157912022.05.13대법원민사400101판결선고/DRF/lawService.do?OC=mugudeli601&target=prec&ID=221747&type=HTML&mobileYn= \n",
      "\n",
      "221745미수관리비2019다2295162022.05.13대법원민사400101판결선고/DRF/lawService.do?OC=mugudeli601&target=prec&ID=221745&type=HTML&mobileYn= \n",
      "\n",
      "221755손해배상(기)[피고와 업무위탁계약을 체결한 영업전문점인 원고가 수수료 지급방식이 피고에게 유리하게 변경되자, 피고를 상대로 약관 무효에 따른 부당이득반환, 피고의 거래상 지위 남용을 이유로 한 손해배상 및 미지급 수수료 지급 등을 청구한 사안]2020다2788732022.05.12대법원민사400101판결선고/DRF/lawService.do?OC=mugudeli601&target=prec&ID=221755&type=HTML&mobileYn= \n",
      "\n",
      "221775무효확인2022다2009042022.05.12대법원민사400101판결선고/DRF/lawService.do?OC=mugudeli601&target=prec&ID=221775&type=HTML&mobileYn= \n",
      "\n",
      "221767시정명령등취소2022두314332022.05.12대법원일반행정400107판결선고/DRF/lawService.do?OC=mugudeli601&target=prec&ID=221767&type=HTML&mobileYn= \n",
      "\n",
      "221777총회결의무효확인등[지역주택조합가입계약이 이행불능 또는 사정변경으로 인해 해제되었는지 여부가 문제된 사건]2021다2861162022.05.12대법원민사400101판결선고/DRF/lawService.do?OC=mugudeli601&target=prec&ID=221777&type=HTML&mobileYn= \n",
      "\n",
      "221751주주대표소송(손해배상)2021다2793472022.05.12대법원민사400101판결선고/DRF/lawService.do?OC=mugudeli601&target=prec&ID=221751&type=HTML&mobileYn= \n",
      "\n",
      "221757소송비용액확정2017마62742022.05.12대법원민사400101결정자/DRF/lawService.do?OC=mugudeli601&target=prec&ID=221757&type=HTML&mobileYn= \n",
      "\n",
      "221759가등기말소회복등기2019다2653762022.05.12대법원민사400101판결선고/DRF/lawService.do?OC=mugudeli601&target=prec&ID=221759&type=HTML&mobileYn= \n",
      "\n",
      "221769조합설립인가무효확인2021두563502022.05.12대법원일반행정400107판결선고/DRF/lawService.do?OC=mugudeli601&target=prec&ID=221769&type=HTML&mobileYn= \n",
      "\n",
      "221773약사법위반[상급종합병원 인근 문전약국 약사들이 공동으로 도우미들을 고용하여 환자들을 자신이 정한 순번에 따라 특정 약국으로 안내하고 편의 차량 등을 제공한 사건]2020도180622022.05.12대법원형사400102판결선고/DRF/lawService.do?OC=mugudeli601&target=prec&ID=221773&type=HTML&mobileYn= \n",
      "\n",
      "221779임금[여객자동차 운수사업법상 보수교육이 근로시간에 포함됨을 전제로 임금을 청구한 사건]2022다2037982022.05.12대법원민사400101판결선고/DRF/lawService.do?OC=mugudeli601&target=prec&ID=221779&type=HTML&mobileYn= \n",
      "\n",
      "221781부당노동행위구제재심판정취소2017두540052022.05.12대법원일반행정400107판결선고/DRF/lawService.do?OC=mugudeli601&target=prec&ID=221781&type=HTML&mobileYn= \n",
      "\n"
     ]
    }
   ],
   "source": [
    "prec=[t.get_text() for t in soup.find_all(\"prec\")]\n",
    "for p in prec:\n",
    "    print(p,\"\\n\")"
   ]
  },
  {
   "cell_type": "code",
   "execution_count": 14,
   "metadata": {},
   "outputs": [
    {
     "name": "stdout",
     "output_type": "stream",
     "text": [
      "<class 'str'>\n"
     ]
    }
   ],
   "source": [
    "print(type(prec[0]))"
   ]
  },
  {
   "cell_type": "markdown",
   "metadata": {},
   "source": [
    "### 중간 체크업 \n",
    "\n",
    "*상황* \n",
    "현재 target=prec으로 접근할 수 있는 판례 개수는 20개에 지나지 않으며, 아래와 같은 키의 구성으로 되어있다.\n",
    "\n",
    "- 판례일련번호\n",
    "- 사건명 (코드명일 때도 있고, ![[CDATA]]형일 때도 있음)\n",
    "- 사건번호\n",
    "- 선고일자 (사건번호와 선고일자는 (사건번호,신고일자) 튜플으로 판례/튜플 형식으로 판례일련번호를 대체할 수 있다.)\n",
    "- 법원명\n",
    "- 법원종류코드\n",
    "- 사건종류명\n",
    "- 사건종류코드\n",
    "- 판결유형\n",
    "- 선고\n",
    "- 판례상세링크 \n",
    "\n",
    "판례상세링크, 혹은 law.go.kr/판례/(사건번호,선고일자)로 판례 상세를 검색할 수 있다. \n",
    "\n",
    "판례 상세페이지는 제목과 요약, 본문으로 구성되어있는데 본문에는 수많은 다른 판례가 참조되어있다. \n"
   ]
  },
  {
   "cell_type": "markdown",
   "metadata": {},
   "source": [
    "*접근방법*<br>\n",
    "\n",
    "#### 과제 1: 데이터 정제하기 \n",
    "모든 판례에 대해서 db를 생성하는 과정으로 offline이다. 최대한 많은 판례를 처리하는 것이 목적이다.\n",
    "처리 이후에는 수집한 데이터를 가지고 클러스터링 내지는 동질 그룹을 파악해 링크 또는 추천을 하는 것이다. \n",
    "\n",
    "- 판례가 api로 되는 것만 일단 부른다 (20개) \n",
    "- 먼저 판례 요약, 판례 본문, 제목을 literal로 불러온다.\n",
    "- 판례 링크가 첨부되어있는 줄은 중요한 줄로 따로 위치와 링크를 저장해둔다. \n",
    "- 판례는 전부 [PANRYE]로 토큰화하고, 나머지는 일반적으로 토큰화한다.\n",
    "- 표제어 사전을 거쳐 불필요한 토큰 분절을 방지한다. \n",
    "\n",
    "#### 과제 2: 답안지가 필요 없는 textRank로 중요 단어, 중요 문장 추출 시도하기\n",
    "- TextRank를 연결한다\n",
    "\n",
    "#### 과제 3: 판례문이 붙어있는 문장만 모아놓기\n",
    "#### 과제 4: 추천시스템의 답을 찾기\n",
    "가장 이상적인 것은 bert나 gpt-3로 중요 단어, 문장의 순위를 구하는 것인데 우리가 답안지가 없다. \n",
    "\n",
    "지금 판례들이 서로 링크가 되어있는데<br>\n",
    "X판례 내용-->Y스스로가 링크된 판례를 가리키는 one hot vector 느낌의 답안지<br>\n",
    "를 구성해서 딥러닝 모델의 판례 embedding을 구하고 나면<br>\n",
    "클러스터링이 가능할 것으로 보인다. <br>\n",
    "\n",
    "아니면 \n",
    "X판례 내용 --> Y textRank 결과 단어들으로<br>\n",
    "딥러닝 모델에 넣어 돌려 판례 embedding을 구하고 나면<br>\n",
    "그걸로 클러스터링을 해도 괜찮을 것 같다.<br>\n",
    "\n",
    "클러스터링의 유효성 판단은... 사용자 확인 외에 뭐가 또 있을까? "
   ]
  },
  {
   "cell_type": "markdown",
   "metadata": {},
   "source": [
    "### (3) literal 하게 본문 긁어오기 "
   ]
  },
  {
   "cell_type": "code",
   "execution_count": 33,
   "metadata": {},
   "outputs": [
    {
     "name": "stdout",
     "output_type": "stream",
     "text": [
      "\n",
      "              class is initialized, \n",
      "              be sure your ip is authenticated by the api\n",
      "              your ip: 192.168.56.1\n",
      "\n",
      "\n",
      "\n",
      "\n",
      "\n",
      "\n",
      "\n",
      "\n",
      "\n",
      "\n",
      "\n",
      "\n",
      "\n",
      "\n",
      "\n",
      "\n",
      "\n",
      "\n",
      "\n",
      "\n",
      "<html>\n",
      "<head>\n",
      "<script type=\"text/javascript\" src=\"/DRF/js/jquery.js\"></script>\n",
      "\n",
      "\t<style>\n",
      "\tbody {\n",
      "\t    overflow: hidden; \n",
      "\t    width: 100%;\n",
      "\t\theight : 100%;\n",
      "\t}\n",
      "\t\n",
      "\t#bodyDiv {\n",
      "\t\twidth: 100%;\n",
      "\t\theight: 100%;\n",
      "\t\toverflow-x : hidden;\n",
      "\t\toverflow-y : auto;\n",
      "\t}\n",
      "\t\n",
      "\t</style>\n",
      "</head>\n",
      "<script type=\"text/javascript\">\n",
      "\t$(document).ready(function(){\n",
      "\t\t// 모바일일 경우 수행\t\t\n",
      "\t\tif($(\"#mobileYn\").val() == 'Y'){\n",
      "\t\t\tvar url = \"mobilePrecInfoR.do\";\n",
      "\t\t\tvar param = \"precSeq=\"+$(\"#precSeq\").val(); \n",
      "\t\t\t\n",
      "\t\t\t$.ajax({\n",
      "\t\t\t\turl: url,\n",
      "\t\t\t\ttype:'POST',\n",
      "\t\t\t\tdataType:'text',\n",
      "\t\t\t\tdata: param,\n",
      "\t\t\t\ttimeout : 150000,\n",
      "\t\t        error : function(request,status,error){\n",
      "\t\t        \t//alert(\"다시 실행해주시기 바랍니다. :: \" + status);\n",
      "\t\t        \tlocation.href = $(\"#url\").val();\n",
      "\t\t        },\n",
      "\t\t\t\tsuccess: function(responseData, result){\n",
      "\t\t\t\t\tif(responseData != ''){\n",
      "\t\t\t\t\t\t$(\"#bodyDiv\").html(responseData);\n",
      "\t\t\t\t\t}else{\n",
      "\t\t\t\t\t\tlocation.href = $(\"#url\").val();\n",
      "\t\t\t\t\t}\n",
      "\t\t\t\t\t\n",
      "\t\t\t\t}\n",
      "\t\t\t});\t\n",
      "\t\t}\n",
      "\t});\n",
      "</script>\n",
      "<body topmargin=\"0\" leftmargin=\"0\" rightmargin=\"0\" bottommargin=\"0\" marginheight=\"0\" marginwidth=\"0\">\n",
      "<input type=\"hidden\" id=\"precSeq\" value =\"221731\"/>\n",
      "<input type=\"hidden\" id=\"mobileYn\" value=\"\"/> \n",
      "<input type=\"hidden\" id=\"url\" value=\"https://www.law.go.kr/LSW/precInfoP.do?precSeq=221731&mode=0\"/>\n",
      "\n",
      "\t\n",
      "\t\n",
      "\t\t<table cellspacing=\"1\" cellpadding=\"0\" border=\"0\" height=\"98%\" width=\"100%\" style=\"border:1px solid #cacaca;\">\n",
      "\t\t\t<tr>\n",
      "\t\t\t\t<td>\n",
      "\t\t\t\t\t<iframe style=\"position: absolute; top: 0px; left: 0px; right: 0px; bottom: 0px; width: 100%; height: 100%;\"\n",
      "\t\t\t\t\t\t\tscrolling=\"auto\" frameborder=\"0\"\n",
      "\t\t\t\t\t\t  \twidth=\"100%\" height=\"100%\"\n",
      "\t\t\t\t\t      \tmarginheight=\"0\" marginwidth=\"0\" tabIndex=\"-1\"\n",
      "\t\t\t\t\t\t\tsrc = \"https://www.law.go.kr/LSW/precInfoP.do?precSeq=221731&mode=0\"></iframe>\n",
      "\t\t\t\t</td>\n",
      "\t\t\t</tr>\n",
      "\t\t</table>\n",
      "\t\n",
      "\n",
      "</body>\n",
      "</html>\n",
      "\n"
     ]
    },
    {
     "ename": "TypeError",
     "evalue": "'NoneType' object is not callable",
     "output_type": "error",
     "traceback": [
      "\u001b[1;31m---------------------------------------------------------------------------\u001b[0m",
      "\u001b[1;31mTypeError\u001b[0m                                 Traceback (most recent call last)",
      "\u001b[1;32m~\\AppData\\Local\\Temp/ipykernel_21004/2534604454.py\u001b[0m in \u001b[0;36m<module>\u001b[1;34m\u001b[0m\n\u001b[0;32m      1\u001b[0m \u001b[0mexecfile\u001b[0m\u001b[1;33m(\u001b[0m\u001b[1;34m\"preprocess.py\"\u001b[0m\u001b[1;33m)\u001b[0m\u001b[1;33m\u001b[0m\u001b[1;33m\u001b[0m\u001b[0m\n\u001b[0;32m      2\u001b[0m \u001b[0mdataParser\u001b[0m\u001b[1;33m=\u001b[0m\u001b[0mParsePanrye\u001b[0m\u001b[1;33m(\u001b[0m\u001b[1;33m)\u001b[0m\u001b[1;33m\u001b[0m\u001b[1;33m\u001b[0m\u001b[0m\n\u001b[1;32m----> 3\u001b[1;33m \u001b[0mdataParser\u001b[0m\u001b[1;33m.\u001b[0m\u001b[0mparsePrecDetail\u001b[0m\u001b[1;33m(\u001b[0m\u001b[1;33m)\u001b[0m\u001b[1;33m\u001b[0m\u001b[1;33m\u001b[0m\u001b[0m\n\u001b[0m",
      "\u001b[1;32md:\\PanryeAI\\preprocess.py\u001b[0m in \u001b[0;36mparsePrecDetail\u001b[1;34m(self)\u001b[0m\n\u001b[0;32m     73\u001b[0m             \u001b[0mprint\u001b[0m\u001b[1;33m(\u001b[0m\u001b[0mresponse\u001b[0m\u001b[1;33m.\u001b[0m\u001b[0mtext\u001b[0m\u001b[1;33m)\u001b[0m\u001b[1;33m\u001b[0m\u001b[1;33m\u001b[0m\u001b[0m\n\u001b[0;32m     74\u001b[0m             \u001b[0msoup\u001b[0m\u001b[1;33m=\u001b[0m\u001b[0mbs\u001b[0m\u001b[1;33m(\u001b[0m\u001b[0mresponse\u001b[0m\u001b[1;33m.\u001b[0m\u001b[0mtext\u001b[0m\u001b[1;33m,\u001b[0m\u001b[1;34m'html'\u001b[0m\u001b[1;33m)\u001b[0m\u001b[1;33m\u001b[0m\u001b[1;33m\u001b[0m\u001b[0m\n\u001b[1;32m---> 75\u001b[1;33m             \u001b[0mprint\u001b[0m\u001b[1;33m(\u001b[0m\u001b[0msoup\u001b[0m\u001b[1;33m.\u001b[0m\u001b[0mfindall\u001b[0m\u001b[1;33m(\u001b[0m\u001b[1;34m'input'\u001b[0m\u001b[1;33m)\u001b[0m\u001b[1;33m)\u001b[0m\u001b[1;33m\u001b[0m\u001b[1;33m\u001b[0m\u001b[0m\n\u001b[0m\u001b[0;32m     76\u001b[0m             \u001b[1;31m#parse html and get\u001b[0m\u001b[1;33m\u001b[0m\u001b[1;33m\u001b[0m\u001b[1;33m\u001b[0m\u001b[0m\n\u001b[0;32m     77\u001b[0m             \u001b[1;31m## 제목,요약, 본문\u001b[0m\u001b[1;33m\u001b[0m\u001b[1;33m\u001b[0m\u001b[1;33m\u001b[0m\u001b[0m\n",
      "\u001b[1;31mTypeError\u001b[0m: 'NoneType' object is not callable"
     ]
    }
   ],
   "source": [
    "execfile(\"preprocess.py\")\n",
    "dataParser=ParsePanrye()\n",
    "dataParser.parsePrecDetail()"
   ]
  },
  {
   "cell_type": "markdown",
   "metadata": {},
   "source": [
    "## 3. 빈칸-답안 쌍 오브젝트 만들기 "
   ]
  }
 ],
 "metadata": {
  "kernelspec": {
   "display_name": "Python 3.9.6 64-bit",
   "language": "python",
   "name": "python3"
  },
  "language_info": {
   "codemirror_mode": {
    "name": "ipython",
    "version": 3
   },
   "file_extension": ".py",
   "mimetype": "text/x-python",
   "name": "python",
   "nbconvert_exporter": "python",
   "pygments_lexer": "ipython3",
   "version": "3.9.6"
  },
  "orig_nbformat": 4,
  "vscode": {
   "interpreter": {
    "hash": "b485adf93bff8ca269d5493edbedeaa1a759650bfde9cbea36fd7f7b559c92d8"
   }
  }
 },
 "nbformat": 4,
 "nbformat_minor": 2
}
