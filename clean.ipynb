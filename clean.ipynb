{
 "cells": [
  {
   "cell_type": "code",
   "execution_count": 3,
   "metadata": {},
   "outputs": [],
   "source": [
    "import pandas as pd\n",
    "import re\n",
    "\n",
    "case_list=pd.read_csv('case_list.csv',on_bad_lines='skip')"
   ]
  },
  {
   "cell_type": "code",
   "execution_count": 4,
   "metadata": {},
   "outputs": [
    {
     "data": {
      "text/plain": [
       "Index(['index', '사건명', '사건번호', '선고일자', '판결유형', '판시사항', '판결요지', '참조조문', '참조판례',\n",
       "       '판례내용', '판례일련번호'],\n",
       "      dtype='object')"
      ]
     },
     "execution_count": 4,
     "metadata": {},
     "output_type": "execute_result"
    }
   ],
   "source": [
    "case_list.columns"
   ]
  },
  {
   "cell_type": "code",
   "execution_count": 5,
   "metadata": {},
   "outputs": [
    {
     "data": {
      "text/plain": [
       "'  [1] 민법 제544조에 의하여 채무불이행을 이유로 계약을 해제하려면$ 당해 채무가 계약의 목적 달성에 있어 필요불가결하고 이를 이행하지 아니하면 계약의 목적이 달성되지 아니하여 채권자가 그 계약을 체결하지 아니하였을 것이라고 여겨질 정도의 주된 채무이어야 하고 그렇지 아니한 부수적 채무를 불이행한 데에 지나지 아니한 경우에는 계약을 해제할 수 없다. 또한 계약상의 의무 가운데 주된 채무와 부수적 채무를 구별함에 있어서는 급부의 독립된 가치와는 관계없이 계약을 체결할 때 표명되었거나 그 당시 상황으로 보아 분명하게 객관적으로 나타난 당사자의 합리적 의사에 의하여 결정하되$ 계약의 내용·목적·불이행의 결과 등의 여러 사정을 고려하여야 한다.  [2] 甲 주식회사가 乙에게 휴양 콘도미니엄을 분양하는 계약을 체결하면서 인근에 있는 고압선을 지하로 매립하기로 하는 내용의 특약을 하였으나$ 甲 회사가 이를 이행하지 못하자$ 乙이 甲 회사를 상대로 계약의 주된 의무가 불이행되었다는 이유로 계약의 해제 등을 구한 사안에서$ 甲 회사가 乙에게 고압선을 지하로 매립하기로 하는 내용의 특약사항이 수기로 분양계약서에 명시되어 있는 점$ 위 계약의 목적물은 구체적인 동호수로 특정되어 있고$ 위 계약은 일반적인 콘도미니엄 분양계약과 달리 콘도미니엄의 한 호실의 공유 지분이 아니라 그 전부를 乙이 분양받아 乙 단독 소유로 소유권이전등기가 마쳐졌고$ 이와 같은 소유관계에서는 콘도미니엄이라는 점을 고려하더라도 부동산의 사용·수익은 물론 처분에서도 특정된 목적물이 갖는 의미가 결코 가볍지 않은 점$ 위 부동산이 휴양 콘도미니엄에 해당하여 관광객의 숙박과 휴양 등의 시설 이용에 제공된다고 하더라도 이로써 당연하게 乙이 위 부동산 이외에 다른 호실을 이용할 수 있는 권리를 갖게 되는 것은 아닌 점 등에 비추어$ 甲 회사의 고압선 지중화 의무가 주된 채무가 아니라고 단정하기 어려운데도$ 이와 달리 보아 계약 해제를 인정하지 아니한 원심판단에 심리미진 등의 잘못이 있다고 한 사례.\\n\\n\\n'"
      ]
     },
     "execution_count": 5,
     "metadata": {},
     "output_type": "execute_result"
    }
   ],
   "source": [
    "case_list['판결요지'].iloc[2]"
   ]
  },
  {
   "cell_type": "code",
   "execution_count": 6,
   "metadata": {},
   "outputs": [
    {
     "data": {
      "text/plain": [
       "'  [1] 구 부정경쟁방지 및 영업비밀보호에 관한 법률(2021. 12. 7. 법률 제18548호로 개정되기 전의 것) 제2조 제1호 (카)목[이하 ‘(카)목’이라고 한다]은 그 보호대상인 ‘성과 등’의 유형에 제한을 두고 있지 않으므로$ 유형물뿐만 아니라 무형물도 이에 포함되고$ 종래 지식재산권법에 따라 보호받기 어려웠던 새로운 형태의 결과물도 포함될 수 있다. ‘성과 등’을 판단할 때에는 결과물이 갖게 된 명성이나 경제적 가치$ 결과물에 화체된 고객흡인력$ 해당 사업 분야에서 결과물이 차지하는 비중과 경쟁력 등을 종합적으로 고려해야 하고$ 이러한 성과 등이 ‘상당한 투자나 노력으로 만들어진 것’인지는 권리자가 투입한 투자나 노력의 내용과 정도를 그 성과 등이 속한 산업분야의 관행이나 실태에 비추어 구체적·개별적으로 판단하되$ 성과 등을 무단으로 사용함으로써 침해된 경제적 이익이 누구나 자유롭게 이용할 수 있는 이른바 공공영역(public domain)에 속하지 않는다고 평가할 수 있어야 한다.  또한 (카)목이 정하는 ‘공정한 상거래 관행이나 경쟁질서에 반하는 방법으로 자신의 영업을 위하여 무단으로 사용’한 경우에 해당하기 위해서는 권리자와 침해자가 경쟁관계에 있거나 가까운 장래에 경쟁관계에 놓일 가능성이 있는지$ 권리자가 주장하는 성과 등이 포함된 산업분야의 상거래 관행이나 경쟁질서의 내용과 그 내용이 공정한지$ 위와 같은 성과 등이 침해자의 상품이나 서비스에 의해 시장에서 대체될 수 있는지$ 수요자나 거래자들에게 성과 등이 어느 정도 알려졌는지$ 수요자나 거래자들의 혼동가능성이 있는지 등을 종합적으로 고려해야 한다.  [2] 甲이 돼지고기 음식점 가맹사업을 운영하는 乙 주식회사와 가맹계약을 체결하여 그 가맹사업의 상호로 가맹점을 운영하다가 가맹계약을 해지한 다음$ 다른 상호로 돼지고기 음식점 및 가맹사업을 운영하면서 기존 음식점들의 외부 간판은 다른 상호로 변경하였으나 乙 회사로부터 제공받은 인테리어$ 메뉴 또는 세팅의 일부 등 영업방법은 그대로 사용하자$ 乙 회사가 甲을 상대로 甲이 위 영업방법을 계속 사용하는 것은 구 부정경쟁방지 및 영업비밀보호에 관한 법률(2021. 12. 7. 법률 제18548호로 개정되기 전의 것) 제2조 제1호 (카)목[이하 ‘(카)목’이라고 한다]의 부정경쟁행위에 해당한다며 사용금지를 구하는 가처분신청을 한 사안에서$ 乙 회사 가맹사업이 구축한 독창적인 이미지가 (카)목의 ‘상당한 투자나 노력으로 만들어진 성과 등’에 해당한다고 볼 여지가 있으나$ 위 이미지는 상호$ 간판 등 외관$ 인테리어 및 구체적인 메뉴의 구성과 서빙 방법 등을 종합하여 형성된 것인 반면$ 甲은 그중 일부인 위 영업방법만을 계속 사용하였는데$ 이는 이미 다수의 식당에서 사용되고 있는 것과 유사한 형태이거나 메뉴 또는 세팅의 극히 일부에 해당하여 위 영업방법만으로는 乙 회사 가맹사업의 종합적 이미지가 형성된다고 보기 어렵고$ 위 영업방법만을 별도로 ‘상당한 투자나 노력으로 만들어진 성과 등’에 해당한다고 보기도 어려우며$ 나아가 甲이 상호$ 간판$ 그리고 내부 인테리어의 일부를 변경하고 최상급 돼지고기의 사용을 표방함으로써 乙 회사 가맹사업의 종합적인 이미지와는 다른 이미지를 구축하고 있는 것으로 보이는 점 등에 비추어 보면$ 甲이 위 영업방법을 계속 사용하는 것이 ‘공정한 상거래 관행이나 경쟁질서에 반하는 방법으로 자신의 영업을 위하여 타인의 성과를 무단으로 사용한 경우’에 해당한다고 볼 수 없는데도$ 이와 달리 보아 甲이 위 영업방법을 계속 사용하는 것이 (카)목의 부정경쟁행위에 해당한다고 한 원심판단에는 법리오해의 잘못이 있다고 한 사례.\\n'"
      ]
     },
     "execution_count": 6,
     "metadata": {},
     "output_type": "execute_result"
    }
   ],
   "source": [
    "case_list['판결요지'].iloc[1]"
   ]
  },
  {
   "cell_type": "code",
   "execution_count": 7,
   "metadata": {},
   "outputs": [],
   "source": [
    "def remove_s(pattern,t): \n",
    "    got=re.findall(pattern,t)\n",
    "    for s in got:\n",
    "        alt=re.sub('\\s','_',s)\n",
    "        print(alt)\n",
    "        t=re.sub(s,alt,t)\n",
    "    return t"
   ]
  },
  {
   "cell_type": "code",
   "execution_count": 8,
   "metadata": {},
   "outputs": [],
   "source": [
    "#판결요지 토큰화\n",
    "test=case_list['판결요지'].iloc[1]"
   ]
  },
  {
   "cell_type": "markdown",
   "metadata": {},
   "source": [
    "## 1 법 이름 표제화"
   ]
  },
  {
   "cell_type": "code",
   "execution_count": 9,
   "metadata": {},
   "outputs": [
    {
     "name": "stdout",
     "output_type": "stream",
     "text": [
      "  [1] 구 부정경쟁방지 및 영업비밀보호에 관한 법률(2021. 12. 7. 법률 제18548호로 개정되기 전의 것) 제2조 제1호 (카)목[이하 ‘(카)목’이라고 한다]은 그 보호대상인 ‘성과 등’의 유형에 제한을 두고 있지 않으므로$ 유형물뿐만 아니라 무형물도 이에 포함되고$ 종래 지식재산권법에 따라 보호받기 어려웠던 새로운 형태의 결과물도 포함될 수 있다. ‘성과 등’을 판단할 때에는 결과물이 갖게 된 명성이나 경제적 가치$ 결과물에 화체된 고객흡인력$ 해당 사업 분야에서 결과물이 차지하는 비중과 경쟁력 등을 종합적으로 고려해야 하고$ 이러한 성과 등이 ‘상당한 투자나 노력으로 만들어진 것’인지는 권리자가 투입한 투자나 노력의 내용과 정도를 그 성과 등이 속한 산업분야의 관행이나 실태에 비추어 구체적·개별적으로 판단하되$ 성과 등을 무단으로 사용함으로써 침해된 경제적 이익이 누구나 자유롭게 이용할 수 있는 이른바 공공영역(public domain)에 속하지 않는다고 평가할 수 있어야 한다.  또한 (카)목이 정하는 ‘공정한 상거래 관행이나 경쟁질서에 반하는 방법으로 자신의 영업을 위하여 무단으로 사용’한 경우에 해당하기 위해서는 권리자와 침해자가 경쟁관계에 있거나 가까운 장래에 경쟁관계에 놓일 가능성이 있는지$ 권리자가 주장하는 성과 등이 포함된 산업분야의 상거래 관행이나 경쟁질서의 내용과 그 내용이 공정한지$ 위와 같은 성과 등이 침해자의 상품이나 서비스에 의해 시장에서 대체될 수 있는지$ 수요자나 거래자들에게 성과 등이 어느 정도 알려졌는지$ 수요자나 거래자들의 혼동가능성이 있는지 등을 종합적으로 고려해야 한다.  [2] 甲이 돼지고기 음식점 가맹사업을 운영하는 乙 주식회사와 가맹계약을 체결하여 그 가맹사업의 상호로 가맹점을 운영하다가 가맹계약을 해지한 다음$ 다른 상호로 돼지고기 음식점 및 가맹사업을 운영하면서 기존 음식점들의 외부 간판은 다른 상호로 변경하였으나 乙 회사로부터 제공받은 인테리어$ 메뉴 또는 세팅의 일부 등 영업방법은 그대로 사용하자$ 乙 회사가 甲을 상대로 甲이 위 영업방법을 계속 사용하는 것은 구 부정경쟁방지 및 영업비밀보호에 관한 법률(2021. 12. 7. 법률 제18548호로 개정되기 전의 것) 제2조 제1호 (카)목[이하 ‘(카)목’이라고 한다]의 부정경쟁행위에 해당한다며 사용금지를 구하는 가처분신청을 한 사안에서$ 乙 회사 가맹사업이 구축한 독창적인 이미지가 (카)목의 ‘상당한 투자나 노력으로 만들어진 성과 등’에 해당한다고 볼 여지가 있으나$ 위 이미지는 상호$ 간판 등 외관$ 인테리어 및 구체적인 메뉴의 구성과 서빙 방법 등을 종합하여 형성된 것인 반면$ 甲은 그중 일부인 위 영업방법만을 계속 사용하였는데$ 이는 이미 다수의 식당에서 사용되고 있는 것과 유사한 형태이거나 메뉴 또는 세팅의 극히 일부에 해당하여 위 영업방법만으로는 乙 회사 가맹사업의 종합적 이미지가 형성된다고 보기 어렵고$ 위 영업방법만을 별도로 ‘상당한 투자나 노력으로 만들어진 성과 등’에 해당한다고 보기도 어려우며$ 나아가 甲이 상호$ 간판$ 그리고 내부 인테리어의 일부를 변경하고 최상급 돼지고기의 사용을 표방함으로써 乙 회사 가맹사업의 종합적인 이미지와는 다른 이미지를 구축하고 있는 것으로 보이는 점 등에 비추어 보면$ 甲이 위 영업방법을 계속 사용하는 것이 ‘공정한 상거래 관행이나 경쟁질서에 반하는 방법으로 자신의 영업을 위하여 타인의 성과를 무단으로 사용한 경우’에 해당한다고 볼 수 없는데도$ 이와 달리 보아 甲이 위 영업방법을 계속 사용하는 것이 (카)목의 부정경쟁행위에 해당한다고 한 원심판단에는 법리오해의 잘못이 있다고 한 사례.\n",
      "\n"
     ]
    }
   ],
   "source": [
    "patterns=[\n",
    "    re.compile('[가-힣]+법\\s제[0-9]+조\\s제[0-9]+항\\s제[0-9]호',flags=re.I|re.X),\n",
    "\tre.compile('[가-힣]+법\\s[가-힣]+령\\s제[0-9]+조\\s제[0-9]+항\\s제[0-9]호',flags=re.I|re.X),\n",
    "\tre.compile('[가-힣]+법\\s[가-힣]+규칙\\s제[0-9]+조\\s제[0-9]+항\\s제[0-9]호',flags=re.I|re.X),\n",
    "\tre.compile('[가-힣]+법\\s[가-힣]+령\\s제[0-9]+조\\s제[0-9]+항',flags=re.I|re.X),\n",
    "\tre.compile('[가-힣]+법\\s[가-힣]+규칙\\s제[0-9]+조\\s제[0-9]+항',flags=re.I|re.X),\n",
    "\tre.compile('[가-힣]+법\\s제[0-9]+조\\s제[0-9]+항',flags=re.I|re.X),\n",
    "\tre.compile('[가-힣]+법\\s[가-힣]+령\\s제[0-9]+조',flags=re.I|re.X),\n",
    "\tre.compile('[가-힣]+법\\s[가-힣]+규칙\\s제[0-9]+조',flags=re.I|re.X),\n",
    "\tre.compile('[가-힣]+법\\s제[0-9]+조',flags=re.I|re.X),\n",
    "\tre.compile('[가-힣]+법\\s[가-힣]+령',flags=re.I|re.X),\n",
    "\tre.compile('[가-힣]+법\\s[가-힣]+규칙',flags=re.I|re.X)]\n",
    "for p in patterns:\n",
    "    test=remove_s(p,test)\n",
    "print(test)"
   ]
  },
  {
   "cell_type": "markdown",
   "metadata": {},
   "source": [
    "## 2 요지마다 나누기"
   ]
  },
  {
   "cell_type": "code",
   "execution_count": 10,
   "metadata": {},
   "outputs": [
    {
     "name": "stdout",
     "output_type": "stream",
     "text": [
      "[' 구 부정경쟁방지 및 영업비밀보호에 관한 법률(2021. 12. 7. 법률 제18548호로 개정되기 전의 것) 제2조 제1호 (카)목[이하 ‘(카)목’이라고 한다]은 그 보호대상인 ‘성과 등’의 유형에 제한을 두고 있지 않으므로$ 유형물뿐만 아니라 무형물도 이에 포함되고$ 종래 지식재산권법에 따라 보호받기 어려웠던 새로운 형태의 결과물도 포함될 수 있다. ‘성과 등’을 판단할 때에는 결과물이 갖게 된 명성이나 경제적 가치$ 결과물에 화체된 고객흡인력$ 해당 사업 분야에서 결과물이 차지하는 비중과 경쟁력 등을 종합적으로 고려해야 하고$ 이러한 성과 등이 ‘상당한 투자나 노력으로 만들어진 것’인지는 권리자가 투입한 투자나 노력의 내용과 정도를 그 성과 등이 속한 산업분야의 관행이나 실태에 비추어 구체적·개별적으로 판단하되$ 성과 등을 무단으로 사용함으로써 침해된 경제적 이익이 누구나 자유롭게 이용할 수 있는 이른바 공공영역(public domain)에 속하지 않는다고 평가할 수 있어야 한다.  또한 (카)목이 정하는 ‘공정한 상거래 관행이나 경쟁질서에 반하는 방법으로 자신의 영업을 위하여 무단으로 사용’한 경우에 해당하기 위해서는 권리자와 침해자가 경쟁관계에 있거나 가까운 장래에 경쟁관계에 놓일 가능성이 있는지$ 권리자가 주장하는 성과 등이 포함된 산업분야의 상거래 관행이나 경쟁질서의 내용과 그 내용이 공정한지$ 위와 같은 성과 등이 침해자의 상품이나 서비스에 의해 시장에서 대체될 수 있는지$ 수요자나 거래자들에게 성과 등이 어느 정도 알려졌는지$ 수요자나 거래자들의 혼동가능성이 있는지 등을 종합적으로 고려해야 한다.  ']\n"
     ]
    }
   ],
   "source": [
    "split_test=re.split('\\[[0-9]+\\]',test)\n",
    "a=split_test\n",
    "for p in split_test:\n",
    "    if bool(re.match('\\s+',p)):\n",
    "        a.remove(p)\n",
    "print(a)"
   ]
  },
  {
   "cell_type": "markdown",
   "metadata": {},
   "source": [
    "## 3 토큰화하기 - 어절 저장해두기"
   ]
  },
  {
   "cell_type": "code",
   "execution_count": 11,
   "metadata": {},
   "outputs": [],
   "source": [
    "from konlpy.tag import Kkma \n",
    "from konlpy.utils import pprint\n",
    "import numpy as np"
   ]
  },
  {
   "cell_type": "code",
   "execution_count": 12,
   "metadata": {},
   "outputs": [],
   "source": [
    "def preprocessFile(data):\n",
    "\tkkma=Kkma()\n",
    "\tpassage=data\n",
    "\tword_dict=pd.DataFrame(columns=['vocab','pos','sent_id','eojeol_id'])\n",
    "\thighlightable=pd.DataFrame(columns=['highlight','sent_id','eojeol_id'])\n",
    "\tfor j, sent in enumerate(data.split('.')):#j 는 n번째 문장이라는 뜻\n",
    "\t\tfor k, word in enumerate(sent.split(' ')):#k는 n번째 어절이라는 뜻 \n",
    "\t\t\tif bool(re.match('[\\s\\n]+',word)) or word==\"\":\n",
    "\t\t\t\tcontinue\n",
    "\t\t\tpassage_hs=kkma.pos(word) #list in list\n",
    "\t\t\thighlight=pd.DataFrame([[word,j,k]],columns=['highlight','sent_id','eojeol_id'])\n",
    "\t\t\thighlightable=pd.concat([highlightable,highlight],axis=0)\n",
    "\t\t\tfor hs in passage_hs: #어절 내부의 위치는 기록하지 않는다. 어절은 통째로 뺄 것이기 때문이다. \n",
    "\t\t\t\n",
    "\t\t\t\tposition=[j,k]+list(hs)\n",
    "\t\t\t\tcurrent=np.reshape(np.array(position),(1,-1))\n",
    "\t\t\t\tcurrent=pd.DataFrame(current,columns=['sent_id','eojeol_id','vocab','pos'])\n",
    "\t\t\t\tword_dict=pd.concat((word_dict,current),axis=0)\n",
    "    \n",
    "\t\t\t\n",
    "\treturn word_dict,highlightable\n"
   ]
  },
  {
   "cell_type": "markdown",
   "metadata": {},
   "source": [
    "# 1,2,3 연결하기"
   ]
  },
  {
   "cell_type": "code",
   "execution_count": 13,
   "metadata": {},
   "outputs": [],
   "source": [
    "from lib2to3.pgen2.pgen import DFAState\n",
    "\n",
    "\n",
    "class Cleanse:\n",
    "    patterns=[\n",
    "    re.compile('[가-힣]+법\\s제[0-9]+조\\s제[0-9]+항\\s제[0-9]호',flags=re.I|re.X),\n",
    "\tre.compile('[가-힣]+법\\s[가-힣]+령\\s제[0-9]+조\\s제[0-9]+항\\s제[0-9]호',flags=re.I|re.X),\n",
    "\tre.compile('[가-힣]+법\\s[가-힣]+규칙\\s제[0-9]+조\\s제[0-9]+항\\s제[0-9]호',flags=re.I|re.X),\n",
    "\tre.compile('[가-힣]+법\\s[가-힣]+령\\s제[0-9]+조\\s제[0-9]+항',flags=re.I|re.X),\n",
    "\tre.compile('[가-힣]+법\\s[가-힣]+규칙\\s제[0-9]+조\\s제[0-9]+항',flags=re.I|re.X),\n",
    "\tre.compile('[가-힣]+법\\s제[0-9]+조\\s제[0-9]+항',flags=re.I|re.X),\n",
    "\tre.compile('[가-힣]+법\\s[가-힣]+령\\s제[0-9]+조',flags=re.I|re.X),\n",
    "\tre.compile('[가-힣]+법\\s[가-힣]+규칙\\s제[0-9]+조',flags=re.I|re.X),\n",
    "\tre.compile('[가-힣]+법\\s제[0-9]+조',flags=re.I|re.X),\n",
    "\tre.compile('[가-힣]+법\\s[가-힣]+령',flags=re.I|re.X),\n",
    "\tre.compile('[가-힣]+법\\s[가-힣]+규칙',flags=re.I|re.X)]\n",
    "\n",
    "    #문장 하나에 대해서\n",
    "    def remove_s(self,pattern,t): \n",
    "        got=re.findall(pattern,t)\n",
    "        for s in got:\n",
    "            alt=re.sub('\\s','_',s)\n",
    "            #print(alt)\n",
    "            t=re.sub(s,alt,t)\n",
    "        return t\n",
    "    #문단 하나에 대해서\n",
    "    def group_law(self,data):\n",
    "        for p in patterns:\n",
    "            data=self.remove_s(p,data)\n",
    "        return data\n",
    "    \n",
    "    def eradicate(self,data):\n",
    "        #remove unnecesary 기호\n",
    "        data=re.sub('【】\\[\\]\\(\\)','',data)\n",
    "    #문단 자르기 \n",
    "    def cut_meaning(self,data):\n",
    "        splitted=re.split('\\[[0-9]+\\]',data)\n",
    "        a=splitted\n",
    "        for p in splitted:\n",
    "            if bool(re.match('\\s+',p)) or p==\"\":\n",
    "                a.remove(p)\n",
    "\n",
    "        return a\n",
    "    \n",
    "    def tokenize(self,data):\n",
    "        kkma=Kkma()\n",
    "        passage=data\n",
    "        word_dict=pd.DataFrame(columns=['vocab','pos','sent_id','eojeol_id'])\n",
    "        highlightable=pd.DataFrame(columns=['highlight','sent_id','eojeol_id'])\n",
    "        for j, sent in enumerate(data.split('.')):#j 는 n번째 문장이라는 뜻\n",
    "            for k, word in enumerate(sent.split(' ')):#k는 n번째 어절이라는 뜻 \n",
    "                if bool(re.match('[\\s\\n]+',word)) or word==\"\":\n",
    "                    continue\n",
    "                passage_hs=kkma.pos(word) #list in list\n",
    "                highlight=pd.DataFrame([[word,j,k]],columns=['highlight','sent_id','eojeol_id'])\n",
    "                highlightable=pd.concat([highlightable,highlight],axis=0)\n",
    "                for hs in passage_hs: #어절 내부의 위치는 기록하지 않는다. 어절은 통째로 뺄 것이기 때문이다. \n",
    "                \n",
    "                    position=[j,k]+list(hs)\n",
    "                    current=np.reshape(np.array(position),(1,-1))\n",
    "                    current=pd.DataFrame(current,columns=['sent_id','eojeol_id','vocab','pos'])\n",
    "                    word_dict=pd.concat((word_dict,current),axis=0)\n",
    "        return word_dict, highlightable\n",
    " \n",
    "class Cleansed_iterated:\n",
    "    def __init__(self,df):\n",
    "        self.df=df\n",
    "        self.cleanser=Cleanse() \n",
    "    def __iter__(self): \n",
    "        self.passage_id=0\n",
    "        self.passage=None\n",
    "        self.pid=None\n",
    "        self.word_dict=None\n",
    "        self.highlightable=None\n",
    "        return self\n",
    "    def __next__(self):\n",
    "        self.word_dict=[]\n",
    "        self.highlightable=[]\n",
    "        self.passage=self.df.iloc[self.passage_id]\n",
    "        self.pid=self.passage['판례일련번호']\n",
    "        data=self.cleanser.group_law(self.passage['판결요지'])\n",
    "        splitted_data=self.cleanser.cut_meaning(data)\n",
    "        for i,s in enumerate(splitted_data):\n",
    "            w,h=self.cleanser.tokenize(s)#요지마다 어근어미 구분되어 토큰화된 pd df와 어절으로 토큰화된 df를 받음 \n",
    "            self.word_dict.append(w)\n",
    "            self.highlightable.append(h)\n",
    "            #판례번호, 요점당 word_dict, 요점당 highlight할 수 있는 어절    \n",
    "        self.passage_id+=1\n",
    "        return self\n",
    "    '''def yoji_clean(self):\n",
    "        df=self.df\n",
    "        cleaned=[]\n",
    "        for index,row in df.iterrows():\n",
    "            id=row['판례일련번호']\n",
    "            data=self.group_law(row['판결요지']) #법이 표제화된 문단 받음 (없는 경우도 있는가봄)\n",
    "            splitted=self.cut_meaning(data) #요지마다 나뉘어있는 문단 쪼개진 pandas df를 받음\n",
    "            for i,s in enumerate(splitted):\n",
    "                word_dict,highlightable=self.tokenize(s)#요지마다 어근어미 구분되어 토큰화된 pd df와 어절으로 토큰화된 df를 받음 \n",
    "                cleaned.append([id,i,word_dict,highlightable])#판례번호, 요점 번호, 요점당 word_dict, 요점당 highlight할 수 있는 어절\n",
    "        \n",
    "        return cleaned'''\n",
    "\t\t\t"
   ]
  },
  {
   "cell_type": "code",
   "execution_count": 14,
   "metadata": {},
   "outputs": [
    {
     "data": {
      "text/plain": [
       "2840"
      ]
     },
     "execution_count": 14,
     "metadata": {},
     "output_type": "execute_result"
    }
   ],
   "source": [
    "len(case_list)"
   ]
  },
  {
   "cell_type": "code",
   "execution_count": 15,
   "metadata": {},
   "outputs": [
    {
     "name": "stdout",
     "output_type": "stream",
     "text": [
      "   vocab  pos sent_id eojeol_id\n",
      "0      구  NNG       0         1\n",
      "0     부정  NNG       0         2\n",
      "0     경쟁  NNG       0         2\n",
      "0     방지  NNG       0         2\n",
      "0      및   VV       0         3\n",
      "..   ...  ...     ...       ...\n",
      "0     고려  NNP       5        67\n",
      "0      하  XSV       5        67\n",
      "0     어야  ECD       5        67\n",
      "0      하   VV       5        68\n",
      "0     ㄴ다  EFN       5        68\n",
      "\n",
      "[424 rows x 4 columns]\n",
      "   vocab  pos sent_id eojeol_id\n",
      "0     민법  NNG       0         1\n",
      "0      _   SW       0         1\n",
      "0      저   NP       0         1\n",
      "0      의  JKG       0         1\n",
      "0    544   NR       0         1\n",
      "..   ...  ...     ...       ...\n",
      "0     고려  NNP       1        37\n",
      "0      하  XSV       1        37\n",
      "0     여야  ECD       1        37\n",
      "0      하   VV       1        38\n",
      "0     ㄴ다  EFN       1        38\n",
      "\n",
      "[186 rows x 4 columns]\n",
      "   vocab  pos sent_id eojeol_id\n",
      "0     민법  NNG       0         1\n",
      "0      _   SW       0         1\n",
      "0      저   NP       0         1\n",
      "0      의  JKG       0         1\n",
      "0    321   NR       0         1\n",
      "..   ...  ...     ...       ...\n",
      "0      에  JKM       1        23\n",
      "0      도   JX       1        23\n",
      "0     적용  NNG       1        24\n",
      "0      되  XSV       1        24\n",
      "0     ㄴ다  EFN       1        24\n",
      "\n",
      "[97 rows x 4 columns]\n",
      "   vocab  pos sent_id eojeol_id\n",
      "0     확인  NNG       0         1\n",
      "0      의  JKG       0         1\n",
      "0      소  NNG       0         2\n",
      "0      는   JX       0         2\n",
      "0    원칙적  NNG       0         3\n",
      "..   ...  ...     ...       ...\n",
      "0      되  XSV       1        34\n",
      "0      ㄹ  ETD       1        34\n",
      "0      수  NNG       1        35\n",
      "0      있  VXV       1        36\n",
      "0      다  EFN       1        36\n",
      "\n",
      "[163 rows x 4 columns]\n"
     ]
    }
   ],
   "source": [
    "#사용 예시\n",
    "a=Cleansed_iterated(case_list)\n",
    "k=iter(a)\n",
    "result=[]\n",
    "for i,m in enumerate(k):\n",
    "    if len(m.word_dict)<1:\n",
    "        continue\n",
    "    print(m.word_dict[0])\n",
    "    if len(m.word_dict)>0:\n",
    "        result.append(m.word_dict[0]['vocab'].values)\n",
    "    if i>3:\n",
    "        break\n",
    "\t"
   ]
  },
  {
   "cell_type": "code",
   "execution_count": 16,
   "metadata": {},
   "outputs": [
    {
     "data": {
      "text/plain": [
       "False"
      ]
     },
     "execution_count": 16,
     "metadata": {},
     "output_type": "execute_result"
    }
   ],
   "source": [
    "np.any(case_list['판결요지'].isna()) #na 하나도 없다!"
   ]
  },
  {
   "cell_type": "markdown",
   "metadata": {},
   "source": [
    "# Doc2Vec"
   ]
  },
  {
   "cell_type": "code",
   "execution_count": 17,
   "metadata": {},
   "outputs": [
    {
     "data": {
      "text/plain": [
       "numpy.ndarray"
      ]
     },
     "execution_count": 17,
     "metadata": {},
     "output_type": "execute_result"
    }
   ],
   "source": [
    "type(result[0])"
   ]
  },
  {
   "cell_type": "code",
   "execution_count": 19,
   "metadata": {},
   "outputs": [
    {
     "name": "stderr",
     "output_type": "stream",
     "text": [
      "Exception in thread Thread-9:\n",
      "Traceback (most recent call last):\n",
      "  File \"c:\\Users\\Heeyo\\AppData\\Local\\Programs\\Python\\Python39\\lib\\threading.py\", line 973, in _bootstrap_inner\n",
      "    self.run()\n",
      "  File \"c:\\Users\\Heeyo\\AppData\\Local\\Programs\\Python\\Python39\\lib\\threading.py\", line 910, in run\n",
      "    self._target(*self._args, **self._kwargs)\n",
      "  File \"c:\\Users\\Heeyo\\AppData\\Local\\Programs\\Python\\Python39\\lib\\site-packages\\gensim\\models\\word2vec.py\", line 1163, in _worker_loop\n",
      "    tally, raw_tally = self._do_train_job(data_iterable, alpha, thread_private_mem)\n",
      "  File \"c:\\Users\\Heeyo\\AppData\\Local\\Programs\\Python\\Python39\\lib\\site-packages\\gensim\\models\\word2vec.py\", line 954, in _do_train_job\n",
      "    tally += train_batch_cbow(self, sentences, alpha, work, neu1, self.compute_loss)\n",
      "  File \"gensim\\models\\word2vec_inner.pyx\", line 642, in gensim.models.word2vec_inner.train_batch_cbow\n",
      "ValueError: The truth value of an array with more than one element is ambiguous. Use a.any() or a.all()\n"
     ]
    }
   ],
   "source": [
    "from gensim.models import Word2Vec\n",
    "from gensim.models import KeyedVectors\n",
    "\n",
    "\n",
    "model = Word2Vec(sentences=result, size=100, window=5, min_count=5, workers=4, sg=0)\n"
   ]
  },
  {
   "cell_type": "code",
   "execution_count": null,
   "metadata": {},
   "outputs": [],
   "source": [
    "model.save('word2vec.model')"
   ]
  },
  {
   "cell_type": "code",
   "execution_count": null,
   "metadata": {},
   "outputs": [],
   "source": []
  },
  {
   "cell_type": "code",
   "execution_count": null,
   "metadata": {},
   "outputs": [],
   "source": [
    "from sklearn.manifold import TSNE\n"
   ]
  },
  {
   "cell_type": "markdown",
   "metadata": {},
   "source": [
    "# 판례 내용은 해야하는지 아직 모르겠음"
   ]
  },
  {
   "cell_type": "code",
   "execution_count": null,
   "metadata": {},
   "outputs": [
    {
     "data": {
      "text/plain": [
       "'【원고, 피상고인】 비엔케이캐피탈 주식회사【피고, 상고인】 피고(법정대리인 한정후견인 ○○○) (소송대리인 변호사 민선향)【원심판결】 부산지법 2019. 1. 18. 선고 2018나41754 판결【주    문】  원심판결을 파기하고, 사건을 부산지방법원에 환송한다.【이    유】  상고이유를 판단한다.  1. 사안 개요  원심판결 이유에 따르면 다음 사실을 알 수 있다.  가. 원고는 2015. 7. 6.경 피고에게 굴삭기(‘굴착기’라고도 한다) 구입자금으로 8,800만 원을 대출하고(이하 ‘이 사건 대출약정’이라 한다), 대출금 중 인지대를 공제한 8,796만 5,000원을 굴삭기 공급자에게 직접 지급하였다.  나. 피고가 대출금채무를 연체하자, 원고는 피고를 상대로 대출원리금의 지급을 구하는 이 사건 소를 제기하였다. 이에 대해 피고는 이 사건 대출약정 당시 의사능력이 없었으므로 이 사건 대출약정은 무효라고 다투었다.  2. 원심판단  원심은 이 사건 대출약정 당시 피고가 인지·판단능력이 현저히 결여되어 독자적으로 자기 의사를 결정할 수 없는 의사무능력 상태에 있었다고 인정하기 어렵다는 이유로, 피고의 의사무능력 주장을 배척하였다.  3. 대법원 판단  가. 의사능력이란 자기 행위의 의미나 결과를 정상적인 인식력과 예기력을 바탕으로 합리적으로 판단할 수 있는 정신적 능력이나 지능을 말한다. 의사능력 유무는 구체적인 법률행위와 관련하여 개별적으로 판단해야 하고(대법원 2002. 10. 11. 선고 2001다10113 판결 참조), 특히 어떤 법률행위가 그 일상적인 의미만을 이해해서는 알기 어려운 특별한 법률적 의미나 효과가 부여되어 있는 경우 의사능력이 인정되기 위해서는 그 행위의 일상적인 의미뿐만 아니라 법률적인 의미나 효과에 대해서도 이해할 수 있어야 한다(대법원 2006. 9. 22. 선고 2006다29358 판결, 대법원 2009. 1. 15. 선고 2008다58367 판결 등 참조).장애인복지법 제2조 제2항 제2호, 장애인복지법 시행령 제2조 제1항 [별표 1] 제6호, 장애인복지법 시행규칙 제2조 제1항 [별표 1] 제6호에 따르면, 특별한 사정이 없는 한 지능지수가 70 이하인 사람은 교육을 통한 사회적·직업적 재활이 가능하더라도 지적장애인으로서 위 법령에 따른 보호의 대상이 된다. 지적장애인에 해당하는 경우에도 의학적 질병이나 신체적 이상이 드러나지 않아 사회 일반인이 보았을 때 아무런 장애가 없는 것처럼 보이는 경우가 있다. 반면 지적장애를 가진 사람이 장애인복지법령에 따라 지적장애인 등록을 하지 않았다거나 등록 기준을 충족하지 못하였다고 해서 반드시 의사능력이 있다고 단정할 수 없다.이러한 사정을 고려하면, 지적장애를 가진 사람에게 의사능력이 있는지를 판단할 때 단순히 그 외관이나 피상적인 언행만을 근거로 의사능력을 쉽게 인정해서는 안 되고, 의학적 진단이나 감정 등을 통해 확인되는 지적장애의 정도를 고려해서 법률행위의 구체적인 내용과 난이도, 그에 따라 부과되는 책임의 중대성 등에 비추어 볼 때 지적장애를 가진 사람이 과연 법률행위의 일상적 의미뿐만 아니라 법률적인 의미나 효과를 이해할 수 있는지, 법률행위가 이루어지게 된 동기나 경위 등에 비추어 합리적인 의사결정이라고 보기 어려운 사정이 존재하는지 등을 세심하게 살펴보아야 한다.  나. 원심판결 이유와 원심이 적법하게 채택한 증거에 따르면 다음과 같은 사정을 알 수 있다.  (1) 피고는 2005. 10. 12. 지적장애 3급의 장애인으로 등록하였다. 피고는 2013. 5. 20. ‘지능지수 70, 사회발달연령 7세 8개월, 사회성숙지수 43’의 장애진단을 받았다.  (2) 이 사건 대출약정 이후 피고에 대한 성년후견 개시가 청구되어(사건번호 생략) 2017. 1. 18. 피고에 대해 한정후견이 개시되었다. 그 심판 절차에서 2016. 10. 31.부터 2016. 11. 24.까지 이루어진 피고에 대한 정신상태 감정 결과 ‘지능지수 52, 사회지수 50(사회연령 9세)’이라는 진단을 받았고, ‘학습이나 문제해결을 위한 기본적인 지적능력뿐만 아니라 일상생활에서의 사회 적응 수준이 해당 연령에 비해 매우 부족하고, 사회적 규범에 대한 이해가 부족하며, 비합리적 방식의 의사결정 가능성이 높아 정신적 제약으로 사무를 처리할 능력이 매우 부족하다.’는 평가를 받았다. 위 감정 결과의 내용과 그 감정 시기 등에 비추어 볼 때, 이 사건 대출약정 당시 피고의 지능지수와 사회적 성숙도 역시 위 감정 당시와 비슷한 정도였을 것으로 볼 수 있다.  (3) 이 사건 대출약정의 대출금은 8,800만 원으로서 결코 소액이라고 볼 수 없다. 이 사건 대출약정은 굴삭기 구입자금을 마련하기 위한 것으로서 굴삭기는 실질적으로 대출금채무의 담보가 되고 대출금은 굴삭기 매도인에게 직접 지급되는데, 이와 같은 대출 구조와 내용은 피고의 당시 지적능력으로는 이해하기 어려운 정도라고 볼 수 있다.  (4) 원고는 피고가 굴삭기의 실수요자라고 보아 이 사건 대출을 한 것이고, 증빙자료로서 피고의 굴삭기운전자격증을 제출받았으나, 굴삭기운전자격증은 이후 위조된 것으로 판명되었다. 이 사건 대출약정 당시 피고의 지적능력에 비추어 피고가 굴삭기를 운전할 능력이 있었다고 보기도 어렵다. 이 사건 대출금은 굴삭기 공급자에게 직접 지급되어 피고가 이를 받은 적이 없는데도, 피고가 굴삭기운전자격증을 위조하면서까지 이 사건 대출약정을 할 동기를 찾기 어렵다. 이와 같이 이 사건 대출약정의 체결 경위에는 합리적인 의사결정이라고 보기 어려운 사정이 있고, 오히려 제3자가 대출금을 실제로 사용하기 위해서 피고를 이용한 것은 아닌지 의심이 든다.  다. 이러한 사정을 위에서 본 법리에 비추어 보면, 지적장애인인 피고가 이 사건 대출약정의 법률적인 의미나 효과를 이해할 수 있었다고 보기 어렵다. 따라서 피고는 이 사건 대출약정 당시 의사능력이 없다는 이유로 이 사건 대출약정은 무효라고 볼 여지가 많다.  그런데 원심은 피고가 이 사건 대출약정 당시 인지·판단능력이 현저히 결여되어 독자적으로 자기 의사를 결정할 수 없는 상태에 있었다고 보기 어렵다는 이유로 피고의 의사무능력 주장을 배척하였다. 원심판결은 지적장애인의 의사능력에 관한 법리를 오해하여 필요한 심리를 다하지 않아 판결에 영향을 미친 잘못이 있다. 이를 지적하는 상고이유 주장은 정당하다.  4. 결론  나머지 상고이유에 대한 판단을 생략한 채 원심판결을 파기하고 사건을 다시 심리·판단하도록 원심법원에 환송하기로 하여, 대법관의 일치된 의견으로 주문과 같이 판결한다.대법관 노정희(재판장) 김재형(주심) 안철상 이흥구 \\n\\n'"
      ]
     },
     "execution_count": 6,
     "metadata": {},
     "output_type": "execute_result"
    }
   ],
   "source": [
    "case_list['판례내용'].iloc[1]"
   ]
  }
 ],
 "metadata": {
  "kernelspec": {
   "display_name": "Python 3.9.6 64-bit",
   "language": "python",
   "name": "python3"
  },
  "language_info": {
   "codemirror_mode": {
    "name": "ipython",
    "version": 3
   },
   "file_extension": ".py",
   "mimetype": "text/x-python",
   "name": "python",
   "nbconvert_exporter": "python",
   "pygments_lexer": "ipython3",
   "version": "3.9.6"
  },
  "orig_nbformat": 4,
  "vscode": {
   "interpreter": {
    "hash": "b485adf93bff8ca269d5493edbedeaa1a759650bfde9cbea36fd7f7b559c92d8"
   }
  }
 },
 "nbformat": 4,
 "nbformat_minor": 2
}
