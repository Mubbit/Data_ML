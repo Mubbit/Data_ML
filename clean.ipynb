{
 "cells": [
  {
   "cell_type": "code",
   "execution_count": 1,
   "metadata": {},
   "outputs": [],
   "source": [
    "import pandas as pd\n",
    "import re\n",
    "\n",
    "case_list=pd.read_csv('case_list.csv',on_bad_lines='skip')"
   ]
  },
  {
   "cell_type": "code",
   "execution_count": 2,
   "metadata": {},
   "outputs": [
    {
     "data": {
      "text/plain": [
       "Index(['index', '사건명', '사건번호', '선고일자', '판결유형', '판시사항', '판결요지', '참조조문', '참조판례',\n",
       "       '판례내용', '판례일련번호'],\n",
       "      dtype='object')"
      ]
     },
     "execution_count": 2,
     "metadata": {},
     "output_type": "execute_result"
    }
   ],
   "source": [
    "case_list.columns"
   ]
  },
  {
   "cell_type": "code",
   "execution_count": 3,
   "metadata": {},
   "outputs": [
    {
     "data": {
      "text/plain": [
       "'형법 제355조 제1항이 정한 횡령죄에서 보관이란 위탁관계에 따라 재물을 점유하는 것을 뜻하므로$ 횡령죄가 성립하려면 재물의 보관자와 재물의 소유자(또는 그 밖의 본권자) 사이에 위탁관계가 존재해야 한다. 이러한 위탁관계는 사용대차·임대차·위임 등의 계약뿐만 아니라 사무관리·관습·조리·신의칙 등에 의해서도 성립될 수 있으나$ 횡령죄의 본질이 신임관계에 기초하여 위탁된 타인의 물건을 위법하게 영득하는 데 있음에 비추어 볼 때 위탁관계는 횡령죄로 보호할 만한 가치 있는 신임에 의한 것으로 한정함이 타당하다.   위탁관계가 있는지는 재물의 보관자와 소유자 사이의 관계$ 재물을 보관하게 된 경위 등에 비추어 볼 때 보관자에게 재물의 보관 상태를 그대로 유지해야 할 의무를 부과하여 그 보관 상태를 형사법적으로 보호할 필요가 있는지 등을 고려하여 규범적으로 판단해야 한다. 재물의 위탁행위가 범죄의 실행행위나 준비행위 등과 같이 범죄 실현의 수단으로서 이루어진 경우 그 행위 자체가 처벌 대상인지와 상관없이 그러한 행위를 통해 형성된 위탁관계는 횡령죄로 보호할 만한 가치 있는 신임에 의한 것이 아니라고 봄이 타당하다.'"
      ]
     },
     "execution_count": 3,
     "metadata": {},
     "output_type": "execute_result"
    }
   ],
   "source": [
    "case_list['판결요지'].iloc[2]"
   ]
  },
  {
   "cell_type": "code",
   "execution_count": 4,
   "metadata": {},
   "outputs": [
    {
     "data": {
      "text/plain": [
       "'  [1] 甲 주식회사가 乙 주식회사를 흡수합병하였는데 乙 회사가 보유하던 甲 회사의 발행 주식의 일부를 양도한 후 위 주식 양도금액을 익금에 산입하고 양도 당시의 그 장부가액을 손금에 산입하여 법인세를 신고하였다가$ 이후 甲 회사가 ‘위 주식의 양도는 자본의 증감에 관련된 거래로서 자본거래로 봄이 상당하고 위 주식의 양도차익은 자본거래에 따른 이익으로서 익금산입 대상에서 제외된다.’는 취지로 주장하며 법인세 경정청구를 하였으나 관할 세무서장이 이를 거부한 사안에서$ 피합병법인이 보유하던 합병법인의 주식(이하 ‘협의의 자기주식’이라 한다)은 피합병법인의 자산으로서 구 법인세법(2015. 12. 15. 법률 제13555호로 개정되기 전의 것$ 이하 같다) 제17조 제1항 제5호가 정한 합병차익을 산정하는 요소가 되기는 하지만 합병 이후 합병법인이 이를 처분하는 행위는 합병과는 구별되는 후속거래로서 순수한 자본거래에 해당한다고 보기 어렵고$ 협의의 자기주식 역시 양도성과 자산성을 가질 뿐만 아니라 합병에 따라 자기주식을 자산으로 취득하였다가 처분하여 이익을 얻는 것이 다른 사유로 자기주식을 취득하였다가 처분하여 이익을 얻는 것과 본질적으로 다르지 아니하므로$ 협의의 자기주식 처분이익은 구 법인세법 제15조 제1항이 익금에서 제외되는 것으로 정한 대상이나 구 법인세법 제17조 제1항 제5호가 정한 합병차익에 해당한다고 볼 수 없다고 본 원심판단을 수긍한 사례.  [2] 구 법인세법(2015. 12. 15. 법률 제13555호로 개정되기 전의 것$ 이하 같다) 제44조는 피합병법인이 합병으로 해산하는 경우 그 법인의 자산을 합병법인에 양도한 것으로 보아 그 양도에 따라 발생하는 양도손익을 피합병법인이 합병등기일이 속하는 사업연도의 소득금액을 계산할 때 익금 또는 손금에 산입하되(제1항)$ 일정한 요건을 갖춘 합병(이른바 적격합병)의 경우 자산의 양도가액을 피합병법인의 합병등기일 현재의 순자산 장부가액으로 보아 양도손익이 없는 것으로 할 수 있도록 규정하고 있다(제2항). 한편 구 법인세법 제44조의3 제1항은 적격합병의 경우 합병법인이 피합병법인의 자산을 장부가액으로 양도받은 것으로 하도록 규정하고$ 구 법인세법 시행령(2017. 2. 3. 대통령령 제27828호로 개정되기 전의 것$ 이하 같다) 제72조 제2항 제3호 (가)목은 합병법인이 적격합병에 따라 취득한 자산의 취득가액을 제80조의4 제1항에 따른 장부가액으로 하도록 규정하고 있다. 그리고 구 법인세법 시행령 제80조의4 제1항 제2호는 적격합병의 경우 합병법인은 피합병법인으로부터 양수한 자산 및 부채의 가액을 합병등기일 현재의 시가로 계상하되$ 시가에서 피합병법인의 장부가액을 뺀 금액을 자산조정계정으로 계상하며$ 이렇게 계상된 자산조정계정 중 감가상각자산 외의 자산에 설정된 것은 해당 자산을 처분하는 사업연도에 전액 익금 또는 손금에 산입하도록 규정하고 있다.  위 각 규정의 내용을 종합하면$ 합병법인이 적격합병으로 취득한 피합병법인이 보유하던 합병법인의 주식을 양도한 경우 그 양도차익은 양도금액에서 해당 주식의 합병등기일 당시의 시가를 차감한 가액에 합병 당시 자산조정계정으로 계상되었던 금액을 가감하는 방식으로 계산된다.'"
      ]
     },
     "execution_count": 4,
     "metadata": {},
     "output_type": "execute_result"
    }
   ],
   "source": [
    "case_list['판결요지'].iloc[1]"
   ]
  },
  {
   "cell_type": "code",
   "execution_count": 13,
   "metadata": {},
   "outputs": [],
   "source": [
    "def remove_s(pattern,t): \n",
    "    got=re.findall(pattern,t)\n",
    "    for s in got:\n",
    "        alt=re.sub('\\s','_',s)\n",
    "        print(alt)\n",
    "        t=re.sub(s,alt,t)\n",
    "    return t"
   ]
  },
  {
   "cell_type": "code",
   "execution_count": 9,
   "metadata": {},
   "outputs": [
    {
     "data": {
      "text/plain": [
       "'  [1] 甲 주식회사가 乙 주식회사를 흡수합병하였는데 乙 회사가 보유하던 甲 회사의 발행 주식의 일부를 양도한 후 위 주식 양도금액을 익금에 산입하고 양도 당시의 그 장부가액을 손금에 산입하여 법인세를 신고하였다가$ 이후 甲 회사가 ‘위 주식의 양도는 자본의 증감에 관련된 거래로서 자본거래로 봄이 상당하고 위 주식의 양도차익은 자본거래에 따른 이익으로서 익금산입 대상에서 제외된다.’는 취지로 주장하며 법인세 경정청구를 하였으나 관할 세무서장이 이를 거부한 사안에서$ 피합병법인이 보유하던 합병법인의 주식(이하 ‘협의의 자기주식’이라 한다)은 피합병법인의 자산으로서 구 법인세법(2015. 12. 15. 법률 제13555호로 개정되기 전의 것$ 이하 같다) 제17조 제1항 제5호가 정한 합병차익을 산정하는 요소가 되기는 하지만 합병 이후 합병법인이 이를 처분하는 행위는 합병과는 구별되는 후속거래로서 순수한 자본거래에 해당한다고 보기 어렵고$ 협의의 자기주식 역시 양도성과 자산성을 가질 뿐만 아니라 합병에 따라 자기주식을 자산으로 취득하였다가 처분하여 이익을 얻는 것이 다른 사유로 자기주식을 취득하였다가 처분하여 이익을 얻는 것과 본질적으로 다르지 아니하므로$ 협의의 자기주식 처분이익은 구 법인세법 제15조 제1항이 익금에서 제외되는 것으로 정한 대상이나 구 법인세법 제17조 제1항 제5호가 정한 합병차익에 해당한다고 볼 수 없다고 본 원심판단을 수긍한 사례.  [2] 구 법인세법(2015. 12. 15. 법률 제13555호로 개정되기 전의 것$ 이하 같다) 제44조는 피합병법인이 합병으로 해산하는 경우 그 법인의 자산을 합병법인에 양도한 것으로 보아 그 양도에 따라 발생하는 양도손익을 피합병법인이 합병등기일이 속하는 사업연도의 소득금액을 계산할 때 익금 또는 손금에 산입하되(제1항)$ 일정한 요건을 갖춘 합병(이른바 적격합병)의 경우 자산의 양도가액을 피합병법인의 합병등기일 현재의 순자산 장부가액으로 보아 양도손익이 없는 것으로 할 수 있도록 규정하고 있다(제2항). 한편 구 법인세법 제44조의3 제1항은 적격합병의 경우 합병법인이 피합병법인의 자산을 장부가액으로 양도받은 것으로 하도록 규정하고$ 구 법인세법 시행령(2017. 2. 3. 대통령령 제27828호로 개정되기 전의 것$ 이하 같다) 제72조 제2항 제3호 (가)목은 합병법인이 적격합병에 따라 취득한 자산의 취득가액을 제80조의4 제1항에 따른 장부가액으로 하도록 규정하고 있다. 그리고 구 법인세법 시행령 제80조의4 제1항 제2호는 적격합병의 경우 합병법인은 피합병법인으로부터 양수한 자산 및 부채의 가액을 합병등기일 현재의 시가로 계상하되$ 시가에서 피합병법인의 장부가액을 뺀 금액을 자산조정계정으로 계상하며$ 이렇게 계상된 자산조정계정 중 감가상각자산 외의 자산에 설정된 것은 해당 자산을 처분하는 사업연도에 전액 익금 또는 손금에 산입하도록 규정하고 있다.  위 각 규정의 내용을 종합하면$ 합병법인이 적격합병으로 취득한 피합병법인이 보유하던 합병법인의 주식을 양도한 경우 그 양도차익은 양도금액에서 해당 주식의 합병등기일 당시의 시가를 차감한 가액에 합병 당시 자산조정계정으로 계상되었던 금액을 가감하는 방식으로 계산된다.'"
      ]
     },
     "execution_count": 9,
     "metadata": {},
     "output_type": "execute_result"
    }
   ],
   "source": [
    "#판결요지 토큰화\n",
    "test=case_list['판결요지'].iloc[1]\n",
    "test"
   ]
  },
  {
   "cell_type": "markdown",
   "metadata": {},
   "source": [
    "## 1 법 이름 표제화"
   ]
  },
  {
   "cell_type": "code",
   "execution_count": 15,
   "metadata": {},
   "outputs": [
    {
     "name": "stdout",
     "output_type": "stream",
     "text": [
      "_제17조_제1항_제5호\n",
      "_제72조_제2항_제3호\n",
      "_제1항_제2호\n",
      "_제44조\n",
      "_제80조\n",
      "  [1] 甲 주식회사가 乙 주식회사를 흡수합병하였는데 乙 회사가 보유하던 甲 회사의 발행 주식의 일부를 양도한 후 위 주식 양도금액을 익금에 산입하고 양도 당시의 그 장부가액을 손금에 산입하여 법인세를 신고하였다가$ 이후 甲 회사가 ‘위 주식의 양도는 자본의 증감에 관련된 거래로서 자본거래로 봄이 상당하고 위 주식의 양도차익은 자본거래에 따른 이익으로서 익금산입 대상에서 제외된다.’는 취지로 주장하며 법인세 경정청구를 하였으나 관할 세무서장이 이를 거부한 사안에서$ 피합병법인이 보유하던 합병법인의 주식(이하 ‘협의의 자기주식’이라 한다)은 피합병법인의 자산으로서 구 법인세법(2015. 12. 15. 법률 제13555호로 개정되기 전의 것$ 이하 같다)_제17조_제1항_제5호가 정한 합병차익을 산정하는 요소가 되기는 하지만 합병 이후 합병법인이 이를 처분하는 행위는 합병과는 구별되는 후속거래로서 순수한 자본거래에 해당한다고 보기 어렵고$ 협의의 자기주식 역시 양도성과 자산성을 가질 뿐만 아니라 합병에 따라 자기주식을 자산으로 취득하였다가 처분하여 이익을 얻는 것이 다른 사유로 자기주식을 취득하였다가 처분하여 이익을 얻는 것과 본질적으로 다르지 아니하므로$ 협의의 자기주식 처분이익은 구 법인세법_제15조_제1항이 익금에서 제외되는 것으로 정한 대상이나 구 법인세법_제17조_제1항_제5호가 정한 합병차익에 해당한다고 볼 수 없다고 본 원심판단을 수긍한 사례.  [2] 구 법인세법(2015. 12. 15. 법률 제13555호로 개정되기 전의 것$ 이하 같다)_제44조는 피합병법인이 합병으로 해산하는 경우 그 법인의 자산을 합병법인에 양도한 것으로 보아 그 양도에 따라 발생하는 양도손익을 피합병법인이 합병등기일이 속하는 사업연도의 소득금액을 계산할 때 익금 또는 손금에 산입하되(제1항)$ 일정한 요건을 갖춘 합병(이른바 적격합병)의 경우 자산의 양도가액을 피합병법인의 합병등기일 현재의 순자산 장부가액으로 보아 양도손익이 없는 것으로 할 수 있도록 규정하고 있다(제2항). 한편 구 법인세법_제44조의3 제1항은 적격합병의 경우 합병법인이 피합병법인의 자산을 장부가액으로 양도받은 것으로 하도록 규정하고$ 구 법인세법_시행령(2017. 2. 3. 대통령령 제27828호로 개정되기 전의 것$ 이하 같다)_제72조_제2항_제3호 (가)목은 합병법인이 적격합병에 따라 취득한 자산의 취득가액을_제80조의4 제1항에 따른 장부가액으로 하도록 규정하고 있다. 그리고 구 법인세법_시행령_제80조의4_제1항_제2호는 적격합병의 경우 합병법인은 피합병법인으로부터 양수한 자산 및 부채의 가액을 합병등기일 현재의 시가로 계상하되$ 시가에서 피합병법인의 장부가액을 뺀 금액을 자산조정계정으로 계상하며$ 이렇게 계상된 자산조정계정 중 감가상각자산 외의 자산에 설정된 것은 해당 자산을 처분하는 사업연도에 전액 익금 또는 손금에 산입하도록 규정하고 있다.  위 각 규정의 내용을 종합하면$ 합병법인이 적격합병으로 취득한 피합병법인이 보유하던 합병법인의 주식을 양도한 경우 그 양도차익은 양도금액에서 해당 주식의 합병등기일 당시의 시가를 차감한 가액에 합병 당시 자산조정계정으로 계상되었던 금액을 가감하는 방식으로 계산된다.\n"
     ]
    }
   ],
   "source": [
    "patterns=[\n",
    "    re.compile('[가-힣]+법\\s제[0-9]+조\\s제[0-9]+항\\s제[0-9]호',flags=re.I|re.X),\n",
    "    re.compile('\\s제[0-9]+조\\s제[0-9]+항\\s제[0-9]호',flags=re.I|re.X),\n",
    "\tre.compile('[가-힣]+법\\s[가-힣]+령\\s제[0-9]+조\\s제[0-9]+항\\s제[0-9]호',flags=re.I|re.X),\n",
    "\tre.compile('[가-힣]+법\\s[가-힣]+규칙\\s제[0-9]+조\\s제[0-9]+항\\s제[0-9]호',flags=re.I|re.X),\n",
    "\tre.compile('[가-힣]+법\\s[가-힣]+령\\s제[0-9]+조\\s제[0-9]+항',flags=re.I|re.X),\n",
    "\tre.compile('[가-힣]+법\\s[가-힣]+규칙\\s제[0-9]+조\\s제[0-9]+항',flags=re.I|re.X),\n",
    "\tre.compile('\\s[가-힣]+규칙\\s제[0-9]+조\\s제[0-9]+항',flags=re.I|re.X),\n",
    "\tre.compile('[가-힣]+법\\s제[0-9]+조\\s제[0-9]+항',flags=re.I|re.X),\n",
    " \tre.compile('\\s제[0-9]+조\\s제[0-9]+항',flags=re.I|re.X),\n",
    "\tre.compile('\\s제[0-9]+항\\s제[0-9]호',flags=re.I|re.X),\n",
    "\tre.compile('[가-힣]+법\\s[가-힣]+령\\s제[0-9]+조',flags=re.I|re.X),\n",
    "\tre.compile('[가-힣]+법\\s[가-힣]+규칙\\s제[0-9]+조',flags=re.I|re.X),\n",
    "\tre.compile('[가-힣]+법\\s제[0-9]+조',flags=re.I|re.X),\n",
    "\tre.compile('\\s제[0-9]+조',flags=re.I|re.X),\n",
    "\tre.compile('[가-힣]+법\\s[가-힣]+령',flags=re.I|re.X),\n",
    "\tre.compile('[가-힣]+법\\s[가-힣]+규칙',flags=re.I|re.X)]\n",
    "for p in patterns:\n",
    "    test=remove_s(p,test)\n",
    "print(test)"
   ]
  },
  {
   "cell_type": "markdown",
   "metadata": {},
   "source": [
    "## 2 요지마다 나누기"
   ]
  },
  {
   "cell_type": "code",
   "execution_count": 10,
   "metadata": {},
   "outputs": [
    {
     "name": "stdout",
     "output_type": "stream",
     "text": [
      "[' 구 부정경쟁방지 및 영업비밀보호에 관한 법률(2021. 12. 7. 법률 제18548호로 개정되기 전의 것) 제2조 제1호 (카)목[이하 ‘(카)목’이라고 한다]은 그 보호대상인 ‘성과 등’의 유형에 제한을 두고 있지 않으므로$ 유형물뿐만 아니라 무형물도 이에 포함되고$ 종래 지식재산권법에 따라 보호받기 어려웠던 새로운 형태의 결과물도 포함될 수 있다. ‘성과 등’을 판단할 때에는 결과물이 갖게 된 명성이나 경제적 가치$ 결과물에 화체된 고객흡인력$ 해당 사업 분야에서 결과물이 차지하는 비중과 경쟁력 등을 종합적으로 고려해야 하고$ 이러한 성과 등이 ‘상당한 투자나 노력으로 만들어진 것’인지는 권리자가 투입한 투자나 노력의 내용과 정도를 그 성과 등이 속한 산업분야의 관행이나 실태에 비추어 구체적·개별적으로 판단하되$ 성과 등을 무단으로 사용함으로써 침해된 경제적 이익이 누구나 자유롭게 이용할 수 있는 이른바 공공영역(public domain)에 속하지 않는다고 평가할 수 있어야 한다.  또한 (카)목이 정하는 ‘공정한 상거래 관행이나 경쟁질서에 반하는 방법으로 자신의 영업을 위하여 무단으로 사용’한 경우에 해당하기 위해서는 권리자와 침해자가 경쟁관계에 있거나 가까운 장래에 경쟁관계에 놓일 가능성이 있는지$ 권리자가 주장하는 성과 등이 포함된 산업분야의 상거래 관행이나 경쟁질서의 내용과 그 내용이 공정한지$ 위와 같은 성과 등이 침해자의 상품이나 서비스에 의해 시장에서 대체될 수 있는지$ 수요자나 거래자들에게 성과 등이 어느 정도 알려졌는지$ 수요자나 거래자들의 혼동가능성이 있는지 등을 종합적으로 고려해야 한다.  ']\n"
     ]
    }
   ],
   "source": [
    "split_test=re.split('\\[[0-9]+\\]',test)\n",
    "a=split_test\n",
    "for p in split_test:\n",
    "    if bool(re.match('\\s+',p)):\n",
    "        a.remove(p)\n",
    "print(a)"
   ]
  },
  {
   "cell_type": "markdown",
   "metadata": {},
   "source": [
    "## 3 토큰화하기 - 어절 저장해두기"
   ]
  },
  {
   "cell_type": "code",
   "execution_count": 19,
   "metadata": {},
   "outputs": [],
   "source": [
    "from konlpy.tag import Kkma \n",
    "from konlpy.utils import pprint\n",
    "import numpy as np"
   ]
  },
  {
   "cell_type": "code",
   "execution_count": 12,
   "metadata": {},
   "outputs": [],
   "source": [
    "def preprocessFile(data):\n",
    "\tkkma=Kkma()\n",
    "\tpassage=data\n",
    "\tword_dict=pd.DataFrame(columns=['vocab','pos','sent_id','eojeol_id'])\n",
    "\thighlightable=pd.DataFrame(columns=['highlight','sent_id','eojeol_id'])\n",
    "\tfor j, sent in enumerate(data.split('.')):#j 는 n번째 문장이라는 뜻\n",
    "\t\tfor k, word in enumerate(sent.split(' ')):#k는 n번째 어절이라는 뜻 \n",
    "\t\t\tif bool(re.match('[\\s\\n]+',word)) or word==\"\":\n",
    "\t\t\t\tcontinue\n",
    "\t\t\tpassage_hs=kkma.pos(word) #list in list\n",
    "\t\t\thighlight=pd.DataFrame([[word,j,k]],columns=['highlight','sent_id','eojeol_id'])\n",
    "\t\t\thighlightable=pd.concat([highlightable,highlight],axis=0)\n",
    "\t\t\tfor hs in passage_hs: #어절 내부의 위치는 기록하지 않는다. 어절은 통째로 뺄 것이기 때문이다. \n",
    "\t\t\t\n",
    "\t\t\t\tposition=[j,k]+list(hs)\n",
    "\t\t\t\tcurrent=np.reshape(np.array(position),(1,-1))\n",
    "\t\t\t\tcurrent=pd.DataFrame(current,columns=['sent_id','eojeol_id','vocab','pos'])\n",
    "\t\t\t\tword_dict=pd.concat((word_dict,current),axis=0)\n",
    "    \n",
    "\t\t\t\n",
    "\treturn word_dict,highlightable\n"
   ]
  },
  {
   "cell_type": "markdown",
   "metadata": {},
   "source": [
    "# 1,2,3 연결하기"
   ]
  },
  {
   "cell_type": "code",
   "execution_count": 16,
   "metadata": {},
   "outputs": [],
   "source": [
    "\n",
    "\n",
    "class Cleanse:\n",
    "    patterns=[\n",
    "    re.compile('[가-힣]+법\\s제[0-9]+조\\s제[0-9]+항\\s제[0-9]호',flags=re.I|re.X),\n",
    "\tre.compile('[가-힣]+법\\s[가-힣]+령\\s제[0-9]+조\\s제[0-9]+항\\s제[0-9]호',flags=re.I|re.X),\n",
    "\tre.compile('[가-힣]+법\\s[가-힣]+규칙\\s제[0-9]+조\\s제[0-9]+항\\s제[0-9]호',flags=re.I|re.X),\n",
    "\tre.compile('[가-힣]+법\\s[가-힣]+령\\s제[0-9]+조\\s제[0-9]+항',flags=re.I|re.X),\n",
    "\tre.compile('[가-힣]+법\\s[가-힣]+규칙\\s제[0-9]+조\\s제[0-9]+항',flags=re.I|re.X),\n",
    "\tre.compile('[가-힣]+법\\s제[0-9]+조\\s제[0-9]+항',flags=re.I|re.X),\n",
    "\tre.compile('[가-힣]+법\\s[가-힣]+령\\s제[0-9]+조',flags=re.I|re.X),\n",
    "\tre.compile('[가-힣]+법\\s[가-힣]+규칙\\s제[0-9]+조',flags=re.I|re.X),\n",
    "\tre.compile('[가-힣]+법\\s제[0-9]+조',flags=re.I|re.X),\n",
    "\tre.compile('[가-힣]+법\\s[가-힣]+령',flags=re.I|re.X),\n",
    "\tre.compile('[가-힣]+법\\s[가-힣]+규칙',flags=re.I|re.X)]\n",
    "\n",
    "    #문장 하나에 대해서\n",
    "    def remove_s(self,pattern,t): \n",
    "        got=re.findall(pattern,t)\n",
    "        for s in got:\n",
    "            alt=re.sub('\\s','_',s)\n",
    "            #print(alt)\n",
    "            t=re.sub(s,alt,t)\n",
    "        return t\n",
    "    #문단 하나에 대해서\n",
    "    def group_law(self,data):\n",
    "        for p in patterns:\n",
    "            data=self.remove_s(p,data)\n",
    "        return data\n",
    "    \n",
    "    def eradicate(self,data):\n",
    "        #remove unnecesary 기호\n",
    "        data=re.sub('【】\\[\\]\\(\\)','',data)\n",
    "    #문단 자르기 \n",
    "    def cut_meaning(self,data):\n",
    "        splitted=re.split('\\[[0-9]+\\]',data)\n",
    "        a=splitted\n",
    "        for p in splitted:\n",
    "            if bool(re.match('\\s+',p)) or p==\"\":\n",
    "                a.remove(p)\n",
    "\n",
    "        return a\n",
    "    \n",
    "    def tokenize(self,data):\n",
    "        kkma=Kkma()\n",
    "        passage=data\n",
    "        word_dict=pd.DataFrame(columns=['vocab','pos','sent_id','eojeol_id'])\n",
    "        highlightable=pd.DataFrame(columns=['highlight','sent_id','eojeol_id'])\n",
    "        for j, sent in enumerate(data.split('.')):#j 는 n번째 문장이라는 뜻\n",
    "            for k, word in enumerate(sent.split(' ')):#k는 n번째 어절이라는 뜻 \n",
    "                if bool(re.match('[\\s\\n]+',word)) or word==\"\":\n",
    "                    continue\n",
    "                passage_hs=kkma.pos(word) #list in list\n",
    "                highlight=pd.DataFrame([[word,j,k]],columns=['highlight','sent_id','eojeol_id'])\n",
    "                highlightable=pd.concat([highlightable,highlight],axis=0)\n",
    "                for hs in passage_hs: #어절 내부의 위치는 기록하지 않는다. 어절은 통째로 뺄 것이기 때문이다. \n",
    "                \n",
    "                    position=[j,k]+list(hs)\n",
    "                    current=np.reshape(np.array(position),(1,-1))\n",
    "                    current=pd.DataFrame(current,columns=['sent_id','eojeol_id','vocab','pos'])\n",
    "                    word_dict=pd.concat((word_dict,current),axis=0)\n",
    "        return word_dict, highlightable\n",
    " \n",
    "class Cleansed_iterated:\n",
    "    def __init__(self,df):\n",
    "        self.df=df\n",
    "        self.cleanser=Cleanse() \n",
    "    def __iter__(self): \n",
    "        self.passage_id=0\n",
    "        self.passage=None\n",
    "        self.pid=None\n",
    "        self.word_dict=None\n",
    "        self.highlightable=None\n",
    "        return self\n",
    "    def __next__(self):\n",
    "        self.word_dict=[]\n",
    "        self.highlightable=[]\n",
    "        self.passage=self.df.iloc[self.passage_id]\n",
    "        self.pid=self.passage['판례일련번호']\n",
    "        data=self.cleanser.group_law(self.passage['판결요지'])\n",
    "        splitted_data=self.cleanser.cut_meaning(data)\n",
    "        for i,s in enumerate(splitted_data):\n",
    "            w,h=self.cleanser.tokenize(s)#요지마다 어근어미 구분되어 토큰화된 pd df와 어절으로 토큰화된 df를 받음 \n",
    "            self.word_dict.append(w)\n",
    "            self.highlightable.append(h)\n",
    "            #판례번호, 요점당 word_dict, 요점당 highlight할 수 있는 어절    \n",
    "        self.passage_id+=1\n",
    "        return self\n",
    "    '''def yoji_clean(self):\n",
    "        df=self.df\n",
    "        cleaned=[]\n",
    "        for index,row in df.iterrows():\n",
    "            id=row['판례일련번호']\n",
    "            data=self.group_law(row['판결요지']) #법이 표제화된 문단 받음 (없는 경우도 있는가봄)\n",
    "            splitted=self.cut_meaning(data) #요지마다 나뉘어있는 문단 쪼개진 pandas df를 받음\n",
    "            for i,s in enumerate(splitted):\n",
    "                word_dict,highlightable=self.tokenize(s)#요지마다 어근어미 구분되어 토큰화된 pd df와 어절으로 토큰화된 df를 받음 \n",
    "                cleaned.append([id,i,word_dict,highlightable])#판례번호, 요점 번호, 요점당 word_dict, 요점당 highlight할 수 있는 어절\n",
    "        \n",
    "        return cleaned'''\n",
    "\t\t\t"
   ]
  },
  {
   "cell_type": "code",
   "execution_count": 17,
   "metadata": {},
   "outputs": [
    {
     "data": {
      "text/plain": [
       "120"
      ]
     },
     "execution_count": 17,
     "metadata": {},
     "output_type": "execute_result"
    }
   ],
   "source": [
    "len(case_list)"
   ]
  },
  {
   "cell_type": "code",
   "execution_count": 20,
   "metadata": {},
   "outputs": [
    {
     "name": "stdout",
     "output_type": "stream",
     "text": [
      "   vocab  pos sent_id eojeol_id\n",
      "0      甲   OH       0         1\n",
      "0   주식회사  NNG       0         2\n",
      "0      가  JKS       0         2\n",
      "0      乙   OH       0         3\n",
      "0   주식회사  NNG       0         4\n",
      "..   ...  ...     ...       ...\n",
      "0      을  JKO       4        75\n",
      "0     수긍  NNG       4        76\n",
      "0      하  XSV       4        76\n",
      "0      ㄴ  ETD       4        76\n",
      "0     사례  NNG       4        77\n",
      "\n",
      "[390 rows x 4 columns]\n",
      "   vocab  pos sent_id eojeol_id\n",
      "0     형법  NNG       0         0\n",
      "0      _   SW       0         0\n",
      "0      저   NP       0         0\n",
      "0      의  JKG       0         0\n",
      "0    355   NR       0         0\n",
      "..   ...  ...     ...       ...\n",
      "0      봄  NNG       3        33\n",
      "0      이  JKS       3        33\n",
      "0     타당   XR       3        34\n",
      "0      하  XSA       3        34\n",
      "0      다  EFN       3        34\n",
      "\n",
      "[297 rows x 4 columns]\n",
      "   vocab  pos sent_id eojeol_id\n",
      "0    공유물  NNG       0         1\n",
      "0     분할  NNG       0         1\n",
      "0     청구  NNG       0         1\n",
      "0     소송  NNG       0         1\n",
      "0      은   JX       0         1\n",
      "..   ...  ...     ...       ...\n",
      "0      법  NNG       2         6\n",
      "0      하  XSV       2         6\n",
      "0      게  ECD       2         6\n",
      "0      되   VV       2         7\n",
      "0     ㄴ다  EFN       2         7\n",
      "\n",
      "[119 rows x 4 columns]\n"
     ]
    }
   ],
   "source": [
    "#사용 예시\n",
    "a=Cleansed_iterated(case_list)\n",
    "k=iter(a)\n",
    "result=[]\n",
    "for i,m in enumerate(k):\n",
    "    if len(m.word_dict)<1:\n",
    "        continue\n",
    "    print(m.word_dict[0])\n",
    "    if len(m.word_dict)>0:\n",
    "        result.append(m.word_dict[0]['vocab'].values)\n",
    "    if i>3:\n",
    "        break\n",
    "\t"
   ]
  },
  {
   "cell_type": "code",
   "execution_count": 16,
   "metadata": {},
   "outputs": [
    {
     "data": {
      "text/plain": [
       "False"
      ]
     },
     "execution_count": 16,
     "metadata": {},
     "output_type": "execute_result"
    }
   ],
   "source": [
    "np.any(case_list['판결요지'].isna()) #na 하나도 없다!"
   ]
  }
 ],
 "metadata": {
  "kernelspec": {
   "display_name": "Python 3.9.6 64-bit",
   "language": "python",
   "name": "python3"
  },
  "language_info": {
   "codemirror_mode": {
    "name": "ipython",
    "version": 3
   },
   "file_extension": ".py",
   "mimetype": "text/x-python",
   "name": "python",
   "nbconvert_exporter": "python",
   "pygments_lexer": "ipython3",
   "version": "3.9.6"
  },
  "orig_nbformat": 4,
  "vscode": {
   "interpreter": {
    "hash": "b485adf93bff8ca269d5493edbedeaa1a759650bfde9cbea36fd7f7b559c92d8"
   }
  }
 },
 "nbformat": 4,
 "nbformat_minor": 2
}
