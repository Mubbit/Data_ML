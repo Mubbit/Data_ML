{
  "cells": [
    {
      "cell_type": "code",
      "execution_count": null,
      "metadata": {
        "colab": {
          "base_uri": "https://localhost:8080/"
        },
        "id": "NLhC-79-K7Lo",
        "outputId": "be0a6fef-4841-4dd3-c43f-902d3cfba3cd"
      },
      "outputs": [
        {
          "data": {
            "text/plain": [
              "['35.233.222.111']"
            ]
          },
          "execution_count": 9,
          "metadata": {},
          "output_type": "execute_result"
        }
      ],
      "source": [
        "!!curl ipecho.net/plain"
      ]
    },
    {
      "cell_type": "code",
      "execution_count": null,
      "metadata": {
        "colab": {
          "base_uri": "https://localhost:8080/"
        },
        "id": "MqulkqIKJD6g",
        "outputId": "dc594d41-44d4-40f4-a369-acf9cf1b436c"
      },
      "outputs": [
        {
          "data": {
            "text/plain": [
              "<?xml version=\"1.0\" encoding=\"UTF-8\"?><html><body><precsearch><target>prec</target>&lt;키워드&gt;*키워드&gt;<section>evtNm</section><totalcnt>84441</totalcnt><page>1</page><prec id=\"1\">&lt;판례일련번호&gt;223803판례일련번호&gt;&lt;사건명&gt;&lt;![CDATA[손해배상(기)·위약벌]]&gt;사건명&gt;&lt;사건번호&gt;2018다248855사건번호&gt;&lt;선고일자&gt;2022.07.21선고일자&gt;&lt;법원명&gt;대법원법원명&gt;&lt;법원종류코드&gt;법원종류코드&gt;&lt;사건종류명&gt;민사사건종류명&gt;&lt;사건종류코드&gt;400101사건종류코드&gt;&lt;판결유형&gt;전원합의체 판결판결유형&gt;&lt;선고&gt;선고선고&gt;&lt;판례상세링크&gt;/DRF/lawService.do?OC=mugudeli601&amp;target=prec&amp;ID=223803&amp;type=HTML&amp;mobileYn=판례상세링크&gt;</prec><prec id=\"2\">&lt;판례일련번호&gt;223801판례일련번호&gt;&lt;사건명&gt;&lt;![CDATA[토지인도]]&gt;사건명&gt;&lt;사건번호&gt;2017다236749사건번호&gt;&lt;선고일자&gt;2022.07.21선고일자&gt;&lt;법원명&gt;대법원법원명&gt;&lt;법원종류코드&gt;법원종류코드&gt;&lt;사건종류명&gt;민사사건종류명&gt;&lt;사건종류코드&gt;400101사건종류코드&gt;&lt;판결유형&gt;전원합의체 판결판결유형&gt;&lt;선고&gt;선고선고&gt;&lt;판례상세링크&gt;/DRF/lawService.do?OC=mugudeli601&amp;target=prec&amp;ID=223801&amp;type=HTML&amp;mobileYn=판례상세링크&gt;</prec><prec id=\"3\">&lt;판례일련번호&gt;223807판례일련번호&gt;&lt;사건명&gt;&lt;![CDATA[손해배상(자)]]&gt;사건명&gt;&lt;사건번호&gt;2020다230857사건번호&gt;&lt;선고일자&gt;2022.07.14선고일자&gt;&lt;법원명&gt;대법원법원명&gt;&lt;법원종류코드&gt;법원종류코드&gt;&lt;사건종류명&gt;민사사건종류명&gt;&lt;사건종류코드&gt;400101사건종류코드&gt;&lt;판결유형&gt;판결판결유형&gt;&lt;선고&gt;선고선고&gt;&lt;판례상세링크&gt;/DRF/lawService.do?OC=mugudeli601&amp;target=prec&amp;ID=223807&amp;type=HTML&amp;mobileYn=판례상세링크&gt;</prec><prec id=\"4\">&lt;판례일련번호&gt;223819판례일련번호&gt;&lt;사건명&gt;&lt;![CDATA[통행권존재확인등청구]]&gt;사건명&gt;&lt;사건번호&gt;2022다228544사건번호&gt;&lt;선고일자&gt;2022.07.14선고일자&gt;&lt;법원명&gt;대법원법원명&gt;&lt;법원종류코드&gt;법원종류코드&gt;&lt;사건종류명&gt;민사사건종류명&gt;&lt;사건종류코드&gt;400101사건종류코드&gt;&lt;판결유형&gt;판결판결유형&gt;&lt;선고&gt;선고선고&gt;&lt;판례상세링크&gt;/DRF/lawService.do?OC=mugudeli601&amp;target=prec&amp;ID=223819&amp;type=HTML&amp;mobileYn=판례상세링크&gt;</prec><prec id=\"5\">&lt;판례일련번호&gt;223825판례일련번호&gt;&lt;사건명&gt;&lt;![CDATA[해임처분취소]]&gt;사건명&gt;&lt;사건번호&gt;2022두33323사건번호&gt;&lt;선고일자&gt;2022.07.14선고일자&gt;&lt;법원명&gt;대법원법원명&gt;&lt;법원종류코드&gt;법원종류코드&gt;&lt;사건종류명&gt;일반행정사건종류명&gt;&lt;사건종류코드&gt;400107사건종류코드&gt;&lt;판결유형&gt;판결판결유형&gt;&lt;선고&gt;선고선고&gt;&lt;판례상세링크&gt;/DRF/lawService.do?OC=mugudeli601&amp;target=prec&amp;ID=223825&amp;type=HTML&amp;mobileYn=판례상세링크&gt;</prec><prec id=\"6\">&lt;판례일련번호&gt;223835판례일련번호&gt;&lt;사건명&gt;&lt;![CDATA[자동차관리법위반]]&gt;사건명&gt;&lt;사건번호&gt;2021도16578사건번호&gt;&lt;선고일자&gt;2022.07.14선고일자&gt;&lt;법원명&gt;대법원법원명&gt;&lt;법원종류코드&gt;법원종류코드&gt;&lt;사건종류명&gt;형사사건종류명&gt;&lt;사건종류코드&gt;400102사건종류코드&gt;&lt;판결유형&gt;판결판결유형&gt;&lt;선고&gt;선고선고&gt;&lt;판례상세링크&gt;/DRF/lawService.do?OC=mugudeli601&amp;target=prec&amp;ID=223835&amp;type=HTML&amp;mobileYn=판례상세링크&gt;</prec><prec id=\"7\">&lt;판례일련번호&gt;227275판례일련번호&gt;&lt;사건명&gt;&lt;![CDATA[손해배상(기) [과밀수용을 원인으로 한 국가배상청구 사건]]]&gt;사건명&gt;&lt;사건번호&gt;2017다266771사건번호&gt;&lt;선고일자&gt;2022.07.14선고일자&gt;&lt;법원명&gt;대법원법원명&gt;&lt;법원종류코드&gt;법원종류코드&gt;&lt;사건종류명&gt;민사사건종류명&gt;&lt;사건종류코드&gt;400101사건종류코드&gt;&lt;판결유형&gt;판결판결유형&gt;&lt;선고&gt;선고선고&gt;&lt;판례상세링크&gt;/DRF/lawService.do?OC=mugudeli601&amp;target=prec&amp;ID=227275&amp;type=HTML&amp;mobileYn=판례상세링크&gt;</prec><prec id=\"8\">&lt;판례일련번호&gt;223845판례일련번호&gt;&lt;사건명&gt;&lt;![CDATA[손해배상]]&gt;사건명&gt;&lt;사건번호&gt;2019다271661사건번호&gt;&lt;선고일자&gt;2022.07.14선고일자&gt;&lt;법원명&gt;대법원법원명&gt;&lt;법원종류코드&gt;법원종류코드&gt;&lt;사건종류명&gt;민사사건종류명&gt;&lt;사건종류코드&gt;400101사건종류코드&gt;&lt;판결유형&gt;판결판결유형&gt;&lt;선고&gt;선고선고&gt;&lt;판례상세링크&gt;/DRF/lawService.do?OC=mugudeli601&amp;target=prec&amp;ID=223845&amp;type=HTML&amp;mobileYn=판례상세링크&gt;</prec><prec id=\"9\">&lt;판례일련번호&gt;227281판례일련번호&gt;&lt;사건명&gt;&lt;![CDATA[손해배상(기) [양계업자인 원고가 동물의약품 제조·판매업자인 피고를 상대로 피고가 제조한 동물의약품에 표시상의 결함을 주장하면서 손해배상을 구하는 사건]]]&gt;사건명&gt;&lt;사건번호&gt;2017다213289사건번호&gt;&lt;선고일자&gt;2022.07.14선고일자&gt;&lt;법원명&gt;대법원법원명&gt;&lt;법원종류코드&gt;법원종류코드&gt;&lt;사건종류명&gt;민사사건종류명&gt;&lt;사건종류코드&gt;400101사건종류코드&gt;&lt;판결유형&gt;판결판결유형&gt;&lt;선고&gt;선고선고&gt;&lt;판례상세링크&gt;/DRF/lawService.do?OC=mugudeli601&amp;target=prec&amp;ID=227281&amp;type=HTML&amp;mobileYn=판례상세링크&gt;</prec><prec id=\"10\">&lt;판례일련번호&gt;223811판례일련번호&gt;&lt;사건명&gt;&lt;![CDATA[조합원부담금청구·조합원지위부존재확인등]]&gt;사건명&gt;&lt;사건번호&gt;2021다281999사건번호&gt;&lt;선고일자&gt;2022.07.14선고일자&gt;&lt;법원명&gt;대법원법원명&gt;&lt;법원종류코드&gt;법원종류코드&gt;&lt;사건종류명&gt;민사사건종류명&gt;&lt;사건종류코드&gt;400101사건종류코드&gt;&lt;판결유형&gt;판결판결유형&gt;&lt;선고&gt;선고선고&gt;&lt;판례상세링크&gt;/DRF/lawService.do?OC=mugudeli601&amp;target=prec&amp;ID=223811&amp;type=HTML&amp;mobileYn=판례상세링크&gt;</prec><prec id=\"11\">&lt;판례일련번호&gt;223821판례일련번호&gt;&lt;사건명&gt;&lt;![CDATA[부당해고구제재심판정취소]]&gt;사건명&gt;&lt;사건번호&gt;2020두54852사건번호&gt;&lt;선고일자&gt;2022.07.14선고일자&gt;&lt;법원명&gt;대법원법원명&gt;&lt;법원종류코드&gt;법원종류코드&gt;&lt;사건종류명&gt;일반행정사건종류명&gt;&lt;사건종류코드&gt;400107사건종류코드&gt;&lt;판결유형&gt;판결판결유형&gt;&lt;선고&gt;선고선고&gt;&lt;판례상세링크&gt;/DRF/lawService.do?OC=mugudeli601&amp;target=prec&amp;ID=223821&amp;type=HTML&amp;mobileYn=판례상세링크&gt;</prec><prec id=\"12\">&lt;판례일련번호&gt;227279판례일련번호&gt;&lt;사건명&gt;&lt;![CDATA[예금반환 [망인의 공동상속인 중 1인인 원고가 은행인 피고를 상대로 망인의 청약저축예금 반환을 구하는 사안]]]&gt;사건명&gt;&lt;사건번호&gt;2021다294674사건번호&gt;&lt;선고일자&gt;2022.07.14선고일자&gt;&lt;법원명&gt;대법원법원명&gt;&lt;법원종류코드&gt;법원종류코드&gt;&lt;사건종류명&gt;민사사건종류명&gt;&lt;사건종류코드&gt;400101사건종류코드&gt;&lt;판결유형&gt;판결판결유형&gt;&lt;선고&gt;선고선고&gt;&lt;판례상세링크&gt;/DRF/lawService.do?OC=mugudeli601&amp;target=prec&amp;ID=227279&amp;type=HTML&amp;mobileYn=판례상세링크&gt;</prec><prec id=\"13\">&lt;판례일련번호&gt;223817판례일련번호&gt;&lt;사건명&gt;&lt;![CDATA[매매대금·손해배상(기)]]&gt;사건명&gt;&lt;사건번호&gt;2022다225767사건번호&gt;&lt;선고일자&gt;2022.07.14선고일자&gt;&lt;법원명&gt;대법원법원명&gt;&lt;법원종류코드&gt;법원종류코드&gt;&lt;사건종류명&gt;민사사건종류명&gt;&lt;사건종류코드&gt;400101사건종류코드&gt;&lt;판결유형&gt;판결판결유형&gt;&lt;선고&gt;선고선고&gt;&lt;판례상세링크&gt;/DRF/lawService.do?OC=mugudeli601&amp;target=prec&amp;ID=223817&amp;type=HTML&amp;mobileYn=판례상세링크&gt;</prec><prec id=\"14\">&lt;판례일련번호&gt;227269판례일련번호&gt;&lt;사건명&gt;&lt;![CDATA[정치자금법위반 [같은 날 이루어진 1, 2회 검찰 피의자신문 중 2회 피의자신문만을 영상녹화하고 그 영상녹화물을 봉인하지 않은 경우, 해당 영상녹화물에 의하여 구 형사소송법(2020. 2. 4. 법률 제16924호로 개정되기 전의 것) 제312조 제2항에 따라 피고인이 된 피의자에 대한 검사 작성의 제2회 피의자신문조서의 실질적 진정성립을 증명할 수 있는지 여부가 문제된 사안]]]&gt;사건명&gt;&lt;사건번호&gt;2020도13957사건번호&gt;&lt;선고일자&gt;2022.07.14선고일자&gt;&lt;법원명&gt;대법원법원명&gt;&lt;법원종류코드&gt;법원종류코드&gt;&lt;사건종류명&gt;형사사건종류명&gt;&lt;사건종류코드&gt;400102사건종류코드&gt;&lt;판결유형&gt;판결판결유형&gt;&lt;선고&gt;선고선고&gt;&lt;판례상세링크&gt;/DRF/lawService.do?OC=mugudeli601&amp;target=prec&amp;ID=227269&amp;type=HTML&amp;mobileYn=판례상세링크&gt;</prec><prec id=\"15\">&lt;판례일련번호&gt;223809판례일련번호&gt;&lt;사건명&gt;&lt;![CDATA[매매대금]]&gt;사건명&gt;&lt;사건번호&gt;2021다216773사건번호&gt;&lt;선고일자&gt;2022.07.14선고일자&gt;&lt;법원명&gt;대법원법원명&gt;&lt;법원종류코드&gt;법원종류코드&gt;&lt;사건종류명&gt;민사사건종류명&gt;&lt;사건종류코드&gt;400101사건종류코드&gt;&lt;판결유형&gt;판결판결유형&gt;&lt;선고&gt;선고선고&gt;&lt;판례상세링크&gt;/DRF/lawService.do?OC=mugudeli601&amp;target=prec&amp;ID=223809&amp;type=HTML&amp;mobileYn=판례상세링크&gt;</prec><prec id=\"16\">&lt;판례일련번호&gt;223827판례일련번호&gt;&lt;사건명&gt;&lt;![CDATA[입찰참가자격제한처분취소]]&gt;사건명&gt;&lt;사건번호&gt;2022두37141사건번호&gt;&lt;선고일자&gt;2022.07.14선고일자&gt;&lt;법원명&gt;대법원법원명&gt;&lt;법원종류코드&gt;법원종류코드&gt;&lt;사건종류명&gt;일반행정사건종류명&gt;&lt;사건종류코드&gt;400107사건종류코드&gt;&lt;판결유형&gt;판결판결유형&gt;&lt;선고&gt;선고선고&gt;&lt;판례상세링크&gt;/DRF/lawService.do?OC=mugudeli601&amp;target=prec&amp;ID=223827&amp;type=HTML&amp;mobileYn=판례상세링크&gt;</prec><prec id=\"17\">&lt;판례일련번호&gt;227277판례일련번호&gt;&lt;사건명&gt;&lt;![CDATA[근로자지위확인등청구의소 [계열회사 간 근로자전출과 관련하여 원 소속 기업이 ‘근로자파견을 업으로 하는 자’인지 여부 및 파견법상 직접고용의무가 문제된 사건]]]&gt;사건명&gt;&lt;사건번호&gt;2019다299393사건번호&gt;&lt;선고일자&gt;2022.07.14선고일자&gt;&lt;법원명&gt;대법원법원명&gt;&lt;법원종류코드&gt;법원종류코드&gt;&lt;사건종류명&gt;민사사건종류명&gt;&lt;사건종류코드&gt;400101사건종류코드&gt;&lt;판결유형&gt;판결판결유형&gt;&lt;선고&gt;선고선고&gt;&lt;판례상세링크&gt;/DRF/lawService.do?OC=mugudeli601&amp;target=prec&amp;ID=227277&amp;type=HTML&amp;mobileYn=판례상세링크&gt;</prec><prec id=\"18\">&lt;판례일련번호&gt;223815판례일련번호&gt;&lt;사건명&gt;&lt;![CDATA[손해배상(기)]]&gt;사건명&gt;&lt;사건번호&gt;2022다206391사건번호&gt;&lt;선고일자&gt;2022.07.14선고일자&gt;&lt;법원명&gt;대법원법원명&gt;&lt;법원종류코드&gt;법원종류코드&gt;&lt;사건종류명&gt;민사사건종류명&gt;&lt;사건종류코드&gt;400101사건종류코드&gt;&lt;판결유형&gt;판결판결유형&gt;&lt;선고&gt;선고선고&gt;&lt;판례상세링크&gt;/DRF/lawService.do?OC=mugudeli601&amp;target=prec&amp;ID=223815&amp;type=HTML&amp;mobileYn=판례상세링크&gt;</prec><prec id=\"19\">&lt;판례일련번호&gt;223823판례일련번호&gt;&lt;사건명&gt;&lt;![CDATA[체육지도자자격취소처분취소의소]]&gt;사건명&gt;&lt;사건번호&gt;2021두62287사건번호&gt;&lt;선고일자&gt;2022.07.14선고일자&gt;&lt;법원명&gt;대법원법원명&gt;&lt;법원종류코드&gt;법원종류코드&gt;&lt;사건종류명&gt;일반행정사건종류명&gt;&lt;사건종류코드&gt;400107사건종류코드&gt;&lt;판결유형&gt;판결판결유형&gt;&lt;선고&gt;선고선고&gt;&lt;판례상세링크&gt;/DRF/lawService.do?OC=mugudeli601&amp;target=prec&amp;ID=223823&amp;type=HTML&amp;mobileYn=판례상세링크&gt;</prec><prec id=\"20\">&lt;판례일련번호&gt;223847판례일련번호&gt;&lt;사건명&gt;&lt;![CDATA[사해행위취소]]&gt;사건명&gt;&lt;사건번호&gt;2019다281156사건번호&gt;&lt;선고일자&gt;2022.07.14선고일자&gt;&lt;법원명&gt;대법원법원명&gt;&lt;법원종류코드&gt;법원종류코드&gt;&lt;사건종류명&gt;민사사건종류명&gt;&lt;사건종류코드&gt;400101사건종류코드&gt;&lt;판결유형&gt;판결판결유형&gt;&lt;선고&gt;선고선고&gt;&lt;판례상세링크&gt;/DRF/lawService.do?OC=mugudeli601&amp;target=prec&amp;ID=223847&amp;type=HTML&amp;mobileYn=판례상세링크&gt;</prec></precsearch>\n",
              "</body></html>"
            ]
          },
          "execution_count": 10,
          "metadata": {},
          "output_type": "execute_result"
        }
      ],
      "source": [
        "\n",
        "import pandas as pd\n",
        "import xml.etree.ElementTree as ET\n",
        "from urllib.request import urlopen\n",
        "from tqdm import trange\n",
        "from bs4 import BeautifulSoup as bs\n",
        "import re\n",
        "#기존의 크롤링 방법 말고 다른 방식을 써보자\n",
        "\n",
        "id='mugudeli601'\n",
        "url = \"https://www.law.go.kr/DRF/lawSearch.do?OC={}&target=prec&type=XML\".format(id)\n",
        "response = urlopen(url).read()\n",
        "bs(response)"
      ]
    },
    {
      "cell_type": "code",
      "execution_count": null,
      "metadata": {
        "cellView": "code",
        "colab": {
          "background_save": true,
          "base_uri": "https://localhost:8080/"
        },
        "id": "kYze5eZJIrBu",
        "outputId": "53b935a3-9675-4299-fa45-dc7e8dacad9a"
      },
      "outputs": [
        {
          "name": "stdout",
          "output_type": "stream",
          "text": [
            "\n",
            "\n",
            " {'id': '1'}\n",
            "223803\n",
            "손해배상(기)·위약벌\n",
            "2018다248855\n",
            "2022.07.21\n",
            "대법원\n",
            "None\n",
            "민사\n",
            "400101\n",
            "전원합의체 판결\n",
            "선고\n",
            "/DRF/lawService.do?OC=mugudeli601&target=prec&ID=223803&type=HTML&mobileYn=\n",
            "\n",
            "\n",
            " {'id': '2'}\n",
            "223801\n",
            "토지인도\n",
            "2017다236749\n",
            "2022.07.21\n",
            "대법원\n",
            "None\n",
            "민사\n",
            "400101\n",
            "전원합의체 판결\n",
            "선고\n",
            "/DRF/lawService.do?OC=mugudeli601&target=prec&ID=223801&type=HTML&mobileYn=\n",
            "\n",
            "\n",
            " {'id': '3'}\n",
            "223807\n",
            "손해배상(자)\n",
            "2020다230857\n",
            "2022.07.14\n",
            "대법원\n",
            "None\n",
            "민사\n",
            "400101\n",
            "판결\n",
            "선고\n",
            "/DRF/lawService.do?OC=mugudeli601&target=prec&ID=223807&type=HTML&mobileYn=\n",
            "\n",
            "\n",
            " {'id': '4'}\n",
            "223819\n",
            "통행권존재확인등청구\n",
            "2022다228544\n",
            "2022.07.14\n",
            "대법원\n",
            "None\n",
            "민사\n",
            "400101\n",
            "판결\n",
            "선고\n",
            "/DRF/lawService.do?OC=mugudeli601&target=prec&ID=223819&type=HTML&mobileYn=\n",
            "\n",
            "\n",
            " {'id': '5'}\n",
            "223825\n",
            "해임처분취소\n",
            "2022두33323\n",
            "2022.07.14\n",
            "대법원\n",
            "None\n",
            "일반행정\n",
            "400107\n",
            "판결\n",
            "선고\n",
            "/DRF/lawService.do?OC=mugudeli601&target=prec&ID=223825&type=HTML&mobileYn=\n",
            "\n",
            "\n",
            " {'id': '6'}\n",
            "223835\n",
            "자동차관리법위반\n",
            "2021도16578\n",
            "2022.07.14\n",
            "대법원\n",
            "None\n",
            "형사\n",
            "400102\n",
            "판결\n",
            "선고\n",
            "/DRF/lawService.do?OC=mugudeli601&target=prec&ID=223835&type=HTML&mobileYn=\n",
            "\n",
            "\n",
            " {'id': '7'}\n",
            "227275\n",
            "손해배상(기) [과밀수용을 원인으로 한 국가배상청구 사건]\n",
            "2017다266771\n",
            "2022.07.14\n",
            "대법원\n",
            "None\n",
            "민사\n",
            "400101\n",
            "판결\n",
            "선고\n",
            "/DRF/lawService.do?OC=mugudeli601&target=prec&ID=227275&type=HTML&mobileYn=\n",
            "\n",
            "\n",
            " {'id': '8'}\n",
            "223845\n",
            "손해배상\n",
            "2019다271661\n",
            "2022.07.14\n",
            "대법원\n",
            "None\n",
            "민사\n",
            "400101\n",
            "판결\n",
            "선고\n",
            "/DRF/lawService.do?OC=mugudeli601&target=prec&ID=223845&type=HTML&mobileYn=\n",
            "\n",
            "\n",
            " {'id': '9'}\n",
            "227281\n",
            "손해배상(기) [양계업자인 원고가 동물의약품 제조·판매업자인 피고를 상대로 피고가 제조한 동물의약품에 표시상의 결함을 주장하면서 손해배상을 구하는 사건]\n",
            "2017다213289\n",
            "2022.07.14\n",
            "대법원\n",
            "None\n",
            "민사\n",
            "400101\n",
            "판결\n",
            "선고\n",
            "/DRF/lawService.do?OC=mugudeli601&target=prec&ID=227281&type=HTML&mobileYn=\n",
            "\n",
            "\n",
            " {'id': '10'}\n",
            "223811\n",
            "조합원부담금청구·조합원지위부존재확인등\n",
            "2021다281999\n",
            "2022.07.14\n",
            "대법원\n",
            "None\n",
            "민사\n",
            "400101\n",
            "판결\n",
            "선고\n",
            "/DRF/lawService.do?OC=mugudeli601&target=prec&ID=223811&type=HTML&mobileYn=\n",
            "\n",
            "\n",
            " {'id': '11'}\n",
            "223821\n",
            "부당해고구제재심판정취소\n",
            "2020두54852\n",
            "2022.07.14\n",
            "대법원\n",
            "None\n",
            "일반행정\n",
            "400107\n",
            "판결\n",
            "선고\n",
            "/DRF/lawService.do?OC=mugudeli601&target=prec&ID=223821&type=HTML&mobileYn=\n",
            "\n",
            "\n",
            " {'id': '12'}\n",
            "227279\n",
            "예금반환 [망인의 공동상속인 중 1인인 원고가 은행인 피고를 상대로 망인의 청약저축예금 반환을 구하는 사안]\n",
            "2021다294674\n",
            "2022.07.14\n",
            "대법원\n",
            "None\n",
            "민사\n",
            "400101\n",
            "판결\n",
            "선고\n",
            "/DRF/lawService.do?OC=mugudeli601&target=prec&ID=227279&type=HTML&mobileYn=\n",
            "\n",
            "\n",
            " {'id': '13'}\n",
            "223817\n",
            "매매대금·손해배상(기)\n",
            "2022다225767\n",
            "2022.07.14\n",
            "대법원\n",
            "None\n",
            "민사\n",
            "400101\n",
            "판결\n",
            "선고\n",
            "/DRF/lawService.do?OC=mugudeli601&target=prec&ID=223817&type=HTML&mobileYn=\n",
            "\n",
            "\n",
            " {'id': '14'}\n",
            "227269\n",
            "정치자금법위반 [같은 날 이루어진 1, 2회 검찰 피의자신문 중 2회 피의자신문만을 영상녹화하고 그 영상녹화물을 봉인하지 않은 경우, 해당 영상녹화물에 의하여 구 형사소송법(2020. 2. 4. 법률 제16924호로 개정되기 전의 것) 제312조 제2항에 따라 피고인이 된 피의자에 대한 검사 작성의 제2회 피의자신문조서의 실질적 진정성립을 증명할 수 있는지 여부가 문제된 사안]\n",
            "2020도13957\n",
            "2022.07.14\n",
            "대법원\n",
            "None\n",
            "형사\n",
            "400102\n",
            "판결\n",
            "선고\n",
            "/DRF/lawService.do?OC=mugudeli601&target=prec&ID=227269&type=HTML&mobileYn=\n",
            "\n",
            "\n",
            " {'id': '15'}\n",
            "223809\n",
            "매매대금\n",
            "2021다216773\n",
            "2022.07.14\n",
            "대법원\n",
            "None\n",
            "민사\n",
            "400101\n",
            "판결\n",
            "선고\n",
            "/DRF/lawService.do?OC=mugudeli601&target=prec&ID=223809&type=HTML&mobileYn=\n",
            "\n",
            "\n",
            " {'id': '16'}\n",
            "223827\n",
            "입찰참가자격제한처분취소\n",
            "2022두37141\n",
            "2022.07.14\n",
            "대법원\n",
            "None\n",
            "일반행정\n",
            "400107\n",
            "판결\n",
            "선고\n",
            "/DRF/lawService.do?OC=mugudeli601&target=prec&ID=223827&type=HTML&mobileYn=\n",
            "\n",
            "\n",
            " {'id': '17'}\n",
            "227277\n",
            "근로자지위확인등청구의소 [계열회사 간 근로자전출과 관련하여 원 소속 기업이 ‘근로자파견을 업으로 하는 자’인지 여부 및 파견법상 직접고용의무가 문제된 사건]\n",
            "2019다299393\n",
            "2022.07.14\n",
            "대법원\n",
            "None\n",
            "민사\n",
            "400101\n",
            "판결\n",
            "선고\n",
            "/DRF/lawService.do?OC=mugudeli601&target=prec&ID=227277&type=HTML&mobileYn=\n",
            "\n",
            "\n",
            " {'id': '18'}\n",
            "223815\n",
            "손해배상(기)\n",
            "2022다206391\n",
            "2022.07.14\n",
            "대법원\n",
            "None\n",
            "민사\n",
            "400101\n",
            "판결\n",
            "선고\n",
            "/DRF/lawService.do?OC=mugudeli601&target=prec&ID=223815&type=HTML&mobileYn=\n",
            "\n",
            "\n",
            " {'id': '19'}\n",
            "223823\n",
            "체육지도자자격취소처분취소의소\n",
            "2021두62287\n",
            "2022.07.14\n",
            "대법원\n",
            "None\n",
            "일반행정\n",
            "400107\n",
            "판결\n",
            "선고\n",
            "/DRF/lawService.do?OC=mugudeli601&target=prec&ID=223823&type=HTML&mobileYn=\n",
            "\n",
            "\n",
            " {'id': '20'}\n",
            "223847\n",
            "사해행위취소\n",
            "2019다281156\n",
            "2022.07.14\n",
            "대법원\n",
            "None\n",
            "민사\n",
            "400101\n",
            "판결\n",
            "선고\n",
            "/DRF/lawService.do?OC=mugudeli601&target=prec&ID=223847&type=HTML&mobileYn=\n"
          ]
        },
        {
          "name": "stderr",
          "output_type": "stream",
          "text": [
            " 47%|████▋     | 2001/4222 [29:53<33:10,  1.12it/s]\n"
          ]
        }
      ],
      "source": [
        "import re\n",
        "\n",
        "xtree = ET.fromstring(response) #response에 저장된 string으로부터 tree를 생성한다\n",
        "#first check what is in it\n",
        "'''for child in xtree:\n",
        "    print(':',child.tag,child.attrib)\n",
        "print(xtree.find('page').text)'''\n",
        "xtree[3].text #totalCnt\n",
        "for node in xtree[5:]:\n",
        "    print('\\n\\n',node.attrib)\n",
        "    tags=[]\n",
        "    for child in node:\n",
        "        tags.append(child.tag)\n",
        "    for t in tags:\n",
        "        print(node.find(t).text)\n",
        "totalCnt = int(xtree.find('totalCnt').text)#판례 페이지에 totalCnt라는 요소가 존재하는 것 같다. \n",
        "#왜 20개밖에 없나 했는데 원래 한 페이지당 20개라고 한다. \n",
        "#페이지마다 loop을 돌아가야 하는 것\n",
        "#판례 목록 만들기 \n",
        "cnt=0\n",
        "page = 1\n",
        "rows = []\n",
        "for i in trange(int(totalCnt / 20)): #기다리는 바를 만드는 tqdm의 range 함수인 trange\n",
        "    if cnt>500:\n",
        "      break\n",
        "    try:\n",
        "        items = xtree[5:]\n",
        "    except:\n",
        "        break\n",
        "        \n",
        "    for node in items:\n",
        "        data={}\n",
        "        tags=[]\n",
        "        for child in node:\n",
        "            tags.append(child.tag)\n",
        "        for t in tags:\n",
        "            data[t]=re.sub(',','$',str(node.find(t).text))\n",
        "\n",
        "        rows.append(data)\n",
        "    cnt += 1\n",
        "    url = \"https://www.law.go.kr/DRF/lawSearch.do?OC=mugudeli601&target=prec&type=XML&page={}\".format(page)\n",
        "    response = urlopen(url).read()\n",
        "    xtree = ET.fromstring(response)\n",
        "    page+=1\n",
        "#rows에 모든 정보가 담겨있음\n",
        "prec_list=pd.DataFrame(rows,columns=rows[0].keys())\n",
        "prec_list.head(5)\n",
        "prec_list.columns\n",
        "#prec_list를 traverse하며 모든 판례정보를 긁기\n",
        "\n",
        "contents = ['사건명', '사건번호', '선고일자','판결유형','판시사항', '판결요지', '참조조문', '참조판례', '판례내용']\n",
        "case_list=pd.DataFrame(columns=contents)\n"
      ]
    },
    {
      "cell_type": "code",
      "execution_count": null,
      "metadata": {
        "colab": {
          "base_uri": "https://localhost:8080/",
          "height": 450
        },
        "id": "Vxusypc0xoAb",
        "outputId": "2290b391-cfc8-4120-9afd-8945f5758135"
      },
      "outputs": [
        {
          "ename": "URLError",
          "evalue": "ignored",
          "output_type": "error",
          "traceback": [
            "\u001b[0;31m---------------------------------------------------------------------------\u001b[0m",
            "\u001b[0;31mgaierror\u001b[0m                                  Traceback (most recent call last)",
            "\u001b[0;32m/usr/lib/python3.7/urllib/request.py\u001b[0m in \u001b[0;36mdo_open\u001b[0;34m(self, http_class, req, **http_conn_args)\u001b[0m\n\u001b[1;32m   1349\u001b[0m                 h.request(req.get_method(), req.selector, req.data, headers,\n\u001b[0;32m-> 1350\u001b[0;31m                           encode_chunked=req.has_header('Transfer-encoding'))\n\u001b[0m\u001b[1;32m   1351\u001b[0m             \u001b[0;32mexcept\u001b[0m \u001b[0mOSError\u001b[0m \u001b[0;32mas\u001b[0m \u001b[0merr\u001b[0m\u001b[0;34m:\u001b[0m \u001b[0;31m# timeout error\u001b[0m\u001b[0;34m\u001b[0m\u001b[0;34m\u001b[0m\u001b[0m\n",
            "\u001b[0;32m/usr/lib/python3.7/http/client.py\u001b[0m in \u001b[0;36mrequest\u001b[0;34m(self, method, url, body, headers, encode_chunked)\u001b[0m\n\u001b[1;32m   1280\u001b[0m         \u001b[0;34m\"\"\"Send a complete request to the server.\"\"\"\u001b[0m\u001b[0;34m\u001b[0m\u001b[0;34m\u001b[0m\u001b[0m\n\u001b[0;32m-> 1281\u001b[0;31m         \u001b[0mself\u001b[0m\u001b[0;34m.\u001b[0m\u001b[0m_send_request\u001b[0m\u001b[0;34m(\u001b[0m\u001b[0mmethod\u001b[0m\u001b[0;34m,\u001b[0m \u001b[0murl\u001b[0m\u001b[0;34m,\u001b[0m \u001b[0mbody\u001b[0m\u001b[0;34m,\u001b[0m \u001b[0mheaders\u001b[0m\u001b[0;34m,\u001b[0m \u001b[0mencode_chunked\u001b[0m\u001b[0;34m)\u001b[0m\u001b[0;34m\u001b[0m\u001b[0;34m\u001b[0m\u001b[0m\n\u001b[0m\u001b[1;32m   1282\u001b[0m \u001b[0;34m\u001b[0m\u001b[0m\n",
            "\u001b[0;32m/usr/lib/python3.7/http/client.py\u001b[0m in \u001b[0;36m_send_request\u001b[0;34m(self, method, url, body, headers, encode_chunked)\u001b[0m\n\u001b[1;32m   1326\u001b[0m             \u001b[0mbody\u001b[0m \u001b[0;34m=\u001b[0m \u001b[0m_encode\u001b[0m\u001b[0;34m(\u001b[0m\u001b[0mbody\u001b[0m\u001b[0;34m,\u001b[0m \u001b[0;34m'body'\u001b[0m\u001b[0;34m)\u001b[0m\u001b[0;34m\u001b[0m\u001b[0;34m\u001b[0m\u001b[0m\n\u001b[0;32m-> 1327\u001b[0;31m         \u001b[0mself\u001b[0m\u001b[0;34m.\u001b[0m\u001b[0mendheaders\u001b[0m\u001b[0;34m(\u001b[0m\u001b[0mbody\u001b[0m\u001b[0;34m,\u001b[0m \u001b[0mencode_chunked\u001b[0m\u001b[0;34m=\u001b[0m\u001b[0mencode_chunked\u001b[0m\u001b[0;34m)\u001b[0m\u001b[0;34m\u001b[0m\u001b[0;34m\u001b[0m\u001b[0m\n\u001b[0m\u001b[1;32m   1328\u001b[0m \u001b[0;34m\u001b[0m\u001b[0m\n",
            "\u001b[0;32m/usr/lib/python3.7/http/client.py\u001b[0m in \u001b[0;36mendheaders\u001b[0;34m(self, message_body, encode_chunked)\u001b[0m\n\u001b[1;32m   1275\u001b[0m             \u001b[0;32mraise\u001b[0m \u001b[0mCannotSendHeader\u001b[0m\u001b[0;34m(\u001b[0m\u001b[0;34m)\u001b[0m\u001b[0;34m\u001b[0m\u001b[0;34m\u001b[0m\u001b[0m\n\u001b[0;32m-> 1276\u001b[0;31m         \u001b[0mself\u001b[0m\u001b[0;34m.\u001b[0m\u001b[0m_send_output\u001b[0m\u001b[0;34m(\u001b[0m\u001b[0mmessage_body\u001b[0m\u001b[0;34m,\u001b[0m \u001b[0mencode_chunked\u001b[0m\u001b[0;34m=\u001b[0m\u001b[0mencode_chunked\u001b[0m\u001b[0;34m)\u001b[0m\u001b[0;34m\u001b[0m\u001b[0;34m\u001b[0m\u001b[0m\n\u001b[0m\u001b[1;32m   1277\u001b[0m \u001b[0;34m\u001b[0m\u001b[0m\n",
            "\u001b[0;32m/usr/lib/python3.7/http/client.py\u001b[0m in \u001b[0;36m_send_output\u001b[0;34m(self, message_body, encode_chunked)\u001b[0m\n\u001b[1;32m   1035\u001b[0m         \u001b[0;32mdel\u001b[0m \u001b[0mself\u001b[0m\u001b[0;34m.\u001b[0m\u001b[0m_buffer\u001b[0m\u001b[0;34m[\u001b[0m\u001b[0;34m:\u001b[0m\u001b[0;34m]\u001b[0m\u001b[0;34m\u001b[0m\u001b[0;34m\u001b[0m\u001b[0m\n\u001b[0;32m-> 1036\u001b[0;31m         \u001b[0mself\u001b[0m\u001b[0;34m.\u001b[0m\u001b[0msend\u001b[0m\u001b[0;34m(\u001b[0m\u001b[0mmsg\u001b[0m\u001b[0;34m)\u001b[0m\u001b[0;34m\u001b[0m\u001b[0;34m\u001b[0m\u001b[0m\n\u001b[0m\u001b[1;32m   1037\u001b[0m \u001b[0;34m\u001b[0m\u001b[0m\n",
            "\u001b[0;32m/usr/lib/python3.7/http/client.py\u001b[0m in \u001b[0;36msend\u001b[0;34m(self, data)\u001b[0m\n\u001b[1;32m    975\u001b[0m             \u001b[0;32mif\u001b[0m \u001b[0mself\u001b[0m\u001b[0;34m.\u001b[0m\u001b[0mauto_open\u001b[0m\u001b[0;34m:\u001b[0m\u001b[0;34m\u001b[0m\u001b[0;34m\u001b[0m\u001b[0m\n\u001b[0;32m--> 976\u001b[0;31m                 \u001b[0mself\u001b[0m\u001b[0;34m.\u001b[0m\u001b[0mconnect\u001b[0m\u001b[0;34m(\u001b[0m\u001b[0;34m)\u001b[0m\u001b[0;34m\u001b[0m\u001b[0;34m\u001b[0m\u001b[0m\n\u001b[0m\u001b[1;32m    977\u001b[0m             \u001b[0;32melse\u001b[0m\u001b[0;34m:\u001b[0m\u001b[0;34m\u001b[0m\u001b[0;34m\u001b[0m\u001b[0m\n",
            "\u001b[0;32m/usr/lib/python3.7/http/client.py\u001b[0m in \u001b[0;36mconnect\u001b[0;34m(self)\u001b[0m\n\u001b[1;32m   1442\u001b[0m \u001b[0;34m\u001b[0m\u001b[0m\n\u001b[0;32m-> 1443\u001b[0;31m             \u001b[0msuper\u001b[0m\u001b[0;34m(\u001b[0m\u001b[0;34m)\u001b[0m\u001b[0;34m.\u001b[0m\u001b[0mconnect\u001b[0m\u001b[0;34m(\u001b[0m\u001b[0;34m)\u001b[0m\u001b[0;34m\u001b[0m\u001b[0;34m\u001b[0m\u001b[0m\n\u001b[0m\u001b[1;32m   1444\u001b[0m \u001b[0;34m\u001b[0m\u001b[0m\n",
            "\u001b[0;32m/usr/lib/python3.7/http/client.py\u001b[0m in \u001b[0;36mconnect\u001b[0;34m(self)\u001b[0m\n\u001b[1;32m    947\u001b[0m         self.sock = self._create_connection(\n\u001b[0;32m--> 948\u001b[0;31m             (self.host,self.port), self.timeout, self.source_address)\n\u001b[0m\u001b[1;32m    949\u001b[0m         \u001b[0mself\u001b[0m\u001b[0;34m.\u001b[0m\u001b[0msock\u001b[0m\u001b[0;34m.\u001b[0m\u001b[0msetsockopt\u001b[0m\u001b[0;34m(\u001b[0m\u001b[0msocket\u001b[0m\u001b[0;34m.\u001b[0m\u001b[0mIPPROTO_TCP\u001b[0m\u001b[0;34m,\u001b[0m \u001b[0msocket\u001b[0m\u001b[0;34m.\u001b[0m\u001b[0mTCP_NODELAY\u001b[0m\u001b[0;34m,\u001b[0m \u001b[0;36m1\u001b[0m\u001b[0;34m)\u001b[0m\u001b[0;34m\u001b[0m\u001b[0;34m\u001b[0m\u001b[0m\n",
            "\u001b[0;32m/usr/lib/python3.7/socket.py\u001b[0m in \u001b[0;36mcreate_connection\u001b[0;34m(address, timeout, source_address)\u001b[0m\n\u001b[1;32m    706\u001b[0m     \u001b[0merr\u001b[0m \u001b[0;34m=\u001b[0m \u001b[0;32mNone\u001b[0m\u001b[0;34m\u001b[0m\u001b[0;34m\u001b[0m\u001b[0m\n\u001b[0;32m--> 707\u001b[0;31m     \u001b[0;32mfor\u001b[0m \u001b[0mres\u001b[0m \u001b[0;32min\u001b[0m \u001b[0mgetaddrinfo\u001b[0m\u001b[0;34m(\u001b[0m\u001b[0mhost\u001b[0m\u001b[0;34m,\u001b[0m \u001b[0mport\u001b[0m\u001b[0;34m,\u001b[0m \u001b[0;36m0\u001b[0m\u001b[0;34m,\u001b[0m \u001b[0mSOCK_STREAM\u001b[0m\u001b[0;34m)\u001b[0m\u001b[0;34m:\u001b[0m\u001b[0;34m\u001b[0m\u001b[0;34m\u001b[0m\u001b[0m\n\u001b[0m\u001b[1;32m    708\u001b[0m         \u001b[0maf\u001b[0m\u001b[0;34m,\u001b[0m \u001b[0msocktype\u001b[0m\u001b[0;34m,\u001b[0m \u001b[0mproto\u001b[0m\u001b[0;34m,\u001b[0m \u001b[0mcanonname\u001b[0m\u001b[0;34m,\u001b[0m \u001b[0msa\u001b[0m \u001b[0;34m=\u001b[0m \u001b[0mres\u001b[0m\u001b[0;34m\u001b[0m\u001b[0;34m\u001b[0m\u001b[0m\n",
            "\u001b[0;32m/usr/lib/python3.7/socket.py\u001b[0m in \u001b[0;36mgetaddrinfo\u001b[0;34m(host, port, family, type, proto, flags)\u001b[0m\n\u001b[1;32m    751\u001b[0m     \u001b[0maddrlist\u001b[0m \u001b[0;34m=\u001b[0m \u001b[0;34m[\u001b[0m\u001b[0;34m]\u001b[0m\u001b[0;34m\u001b[0m\u001b[0;34m\u001b[0m\u001b[0m\n\u001b[0;32m--> 752\u001b[0;31m     \u001b[0;32mfor\u001b[0m \u001b[0mres\u001b[0m \u001b[0;32min\u001b[0m \u001b[0m_socket\u001b[0m\u001b[0;34m.\u001b[0m\u001b[0mgetaddrinfo\u001b[0m\u001b[0;34m(\u001b[0m\u001b[0mhost\u001b[0m\u001b[0;34m,\u001b[0m \u001b[0mport\u001b[0m\u001b[0;34m,\u001b[0m \u001b[0mfamily\u001b[0m\u001b[0;34m,\u001b[0m \u001b[0mtype\u001b[0m\u001b[0;34m,\u001b[0m \u001b[0mproto\u001b[0m\u001b[0;34m,\u001b[0m \u001b[0mflags\u001b[0m\u001b[0;34m)\u001b[0m\u001b[0;34m:\u001b[0m\u001b[0;34m\u001b[0m\u001b[0;34m\u001b[0m\u001b[0m\n\u001b[0m\u001b[1;32m    753\u001b[0m         \u001b[0maf\u001b[0m\u001b[0;34m,\u001b[0m \u001b[0msocktype\u001b[0m\u001b[0;34m,\u001b[0m \u001b[0mproto\u001b[0m\u001b[0;34m,\u001b[0m \u001b[0mcanonname\u001b[0m\u001b[0;34m,\u001b[0m \u001b[0msa\u001b[0m \u001b[0;34m=\u001b[0m \u001b[0mres\u001b[0m\u001b[0;34m\u001b[0m\u001b[0;34m\u001b[0m\u001b[0m\n",
            "\u001b[0;31mgaierror\u001b[0m: [Errno -5] No address associated with hostname",
            "\nDuring handling of the above exception, another exception occurred:\n",
            "\u001b[0;31mURLError\u001b[0m                                  Traceback (most recent call last)",
            "\u001b[0;32m<ipython-input-12-87a6f2b53c85>\u001b[0m in \u001b[0;36m<module>\u001b[0;34m\u001b[0m\n\u001b[1;32m      5\u001b[0m \u001b[0;32mfor\u001b[0m \u001b[0mpid\u001b[0m\u001b[0;34m,\u001b[0m\u001b[0ml\u001b[0m \u001b[0;32min\u001b[0m \u001b[0mzip\u001b[0m\u001b[0;34m(\u001b[0m\u001b[0mprec_list\u001b[0m\u001b[0;34m[\u001b[0m\u001b[0;34m'판례일련번호'\u001b[0m\u001b[0;34m]\u001b[0m\u001b[0;34m,\u001b[0m\u001b[0mprec_list\u001b[0m\u001b[0;34m[\u001b[0m\u001b[0;34m'판례상세링크'\u001b[0m\u001b[0;34m]\u001b[0m\u001b[0;34m)\u001b[0m\u001b[0;34m:\u001b[0m\u001b[0;34m\u001b[0m\u001b[0;34m\u001b[0m\u001b[0m\n\u001b[1;32m      6\u001b[0m     \u001b[0murl\u001b[0m\u001b[0;34m=\u001b[0m\u001b[0;34m\"https://www.law.go.kr\"\u001b[0m\u001b[0;34m+\u001b[0m\u001b[0ml\u001b[0m\u001b[0;34m.\u001b[0m\u001b[0mreplace\u001b[0m\u001b[0;34m(\u001b[0m\u001b[0;34m'HTML'\u001b[0m\u001b[0;34m,\u001b[0m\u001b[0;34m'XML'\u001b[0m\u001b[0;34m)\u001b[0m\u001b[0;34m\u001b[0m\u001b[0;34m\u001b[0m\u001b[0m\n\u001b[0;32m----> 7\u001b[0;31m     \u001b[0mresponse\u001b[0m\u001b[0;34m=\u001b[0m\u001b[0murlopen\u001b[0m\u001b[0;34m(\u001b[0m\u001b[0murl\u001b[0m\u001b[0;34m)\u001b[0m\u001b[0;34m.\u001b[0m\u001b[0mread\u001b[0m\u001b[0;34m(\u001b[0m\u001b[0;34m)\u001b[0m\u001b[0;34m\u001b[0m\u001b[0;34m\u001b[0m\u001b[0m\n\u001b[0m\u001b[1;32m      8\u001b[0m     \u001b[0mxtree\u001b[0m\u001b[0;34m=\u001b[0m\u001b[0mET\u001b[0m\u001b[0;34m.\u001b[0m\u001b[0mfromstring\u001b[0m\u001b[0;34m(\u001b[0m\u001b[0mresponse\u001b[0m\u001b[0;34m)\u001b[0m\u001b[0;34m\u001b[0m\u001b[0;34m\u001b[0m\u001b[0m\n\u001b[1;32m      9\u001b[0m     \u001b[0mrow\u001b[0m\u001b[0;34m=\u001b[0m\u001b[0;34m{\u001b[0m\u001b[0;34m}\u001b[0m\u001b[0;34m\u001b[0m\u001b[0;34m\u001b[0m\u001b[0m\n",
            "\u001b[0;32m/usr/lib/python3.7/urllib/request.py\u001b[0m in \u001b[0;36murlopen\u001b[0;34m(url, data, timeout, cafile, capath, cadefault, context)\u001b[0m\n\u001b[1;32m    220\u001b[0m     \u001b[0;32melse\u001b[0m\u001b[0;34m:\u001b[0m\u001b[0;34m\u001b[0m\u001b[0;34m\u001b[0m\u001b[0m\n\u001b[1;32m    221\u001b[0m         \u001b[0mopener\u001b[0m \u001b[0;34m=\u001b[0m \u001b[0m_opener\u001b[0m\u001b[0;34m\u001b[0m\u001b[0;34m\u001b[0m\u001b[0m\n\u001b[0;32m--> 222\u001b[0;31m     \u001b[0;32mreturn\u001b[0m \u001b[0mopener\u001b[0m\u001b[0;34m.\u001b[0m\u001b[0mopen\u001b[0m\u001b[0;34m(\u001b[0m\u001b[0murl\u001b[0m\u001b[0;34m,\u001b[0m \u001b[0mdata\u001b[0m\u001b[0;34m,\u001b[0m \u001b[0mtimeout\u001b[0m\u001b[0;34m)\u001b[0m\u001b[0;34m\u001b[0m\u001b[0;34m\u001b[0m\u001b[0m\n\u001b[0m\u001b[1;32m    223\u001b[0m \u001b[0;34m\u001b[0m\u001b[0m\n\u001b[1;32m    224\u001b[0m \u001b[0;32mdef\u001b[0m \u001b[0minstall_opener\u001b[0m\u001b[0;34m(\u001b[0m\u001b[0mopener\u001b[0m\u001b[0;34m)\u001b[0m\u001b[0;34m:\u001b[0m\u001b[0;34m\u001b[0m\u001b[0;34m\u001b[0m\u001b[0m\n",
            "\u001b[0;32m/usr/lib/python3.7/urllib/request.py\u001b[0m in \u001b[0;36mopen\u001b[0;34m(self, fullurl, data, timeout)\u001b[0m\n\u001b[1;32m    523\u001b[0m             \u001b[0mreq\u001b[0m \u001b[0;34m=\u001b[0m \u001b[0mmeth\u001b[0m\u001b[0;34m(\u001b[0m\u001b[0mreq\u001b[0m\u001b[0;34m)\u001b[0m\u001b[0;34m\u001b[0m\u001b[0;34m\u001b[0m\u001b[0m\n\u001b[1;32m    524\u001b[0m \u001b[0;34m\u001b[0m\u001b[0m\n\u001b[0;32m--> 525\u001b[0;31m         \u001b[0mresponse\u001b[0m \u001b[0;34m=\u001b[0m \u001b[0mself\u001b[0m\u001b[0;34m.\u001b[0m\u001b[0m_open\u001b[0m\u001b[0;34m(\u001b[0m\u001b[0mreq\u001b[0m\u001b[0;34m,\u001b[0m \u001b[0mdata\u001b[0m\u001b[0;34m)\u001b[0m\u001b[0;34m\u001b[0m\u001b[0;34m\u001b[0m\u001b[0m\n\u001b[0m\u001b[1;32m    526\u001b[0m \u001b[0;34m\u001b[0m\u001b[0m\n\u001b[1;32m    527\u001b[0m         \u001b[0;31m# post-process response\u001b[0m\u001b[0;34m\u001b[0m\u001b[0;34m\u001b[0m\u001b[0;34m\u001b[0m\u001b[0m\n",
            "\u001b[0;32m/usr/lib/python3.7/urllib/request.py\u001b[0m in \u001b[0;36m_open\u001b[0;34m(self, req, data)\u001b[0m\n\u001b[1;32m    541\u001b[0m         \u001b[0mprotocol\u001b[0m \u001b[0;34m=\u001b[0m \u001b[0mreq\u001b[0m\u001b[0;34m.\u001b[0m\u001b[0mtype\u001b[0m\u001b[0;34m\u001b[0m\u001b[0;34m\u001b[0m\u001b[0m\n\u001b[1;32m    542\u001b[0m         result = self._call_chain(self.handle_open, protocol, protocol +\n\u001b[0;32m--> 543\u001b[0;31m                                   '_open', req)\n\u001b[0m\u001b[1;32m    544\u001b[0m         \u001b[0;32mif\u001b[0m \u001b[0mresult\u001b[0m\u001b[0;34m:\u001b[0m\u001b[0;34m\u001b[0m\u001b[0;34m\u001b[0m\u001b[0m\n\u001b[1;32m    545\u001b[0m             \u001b[0;32mreturn\u001b[0m \u001b[0mresult\u001b[0m\u001b[0;34m\u001b[0m\u001b[0;34m\u001b[0m\u001b[0m\n",
            "\u001b[0;32m/usr/lib/python3.7/urllib/request.py\u001b[0m in \u001b[0;36m_call_chain\u001b[0;34m(self, chain, kind, meth_name, *args)\u001b[0m\n\u001b[1;32m    501\u001b[0m         \u001b[0;32mfor\u001b[0m \u001b[0mhandler\u001b[0m \u001b[0;32min\u001b[0m \u001b[0mhandlers\u001b[0m\u001b[0;34m:\u001b[0m\u001b[0;34m\u001b[0m\u001b[0;34m\u001b[0m\u001b[0m\n\u001b[1;32m    502\u001b[0m             \u001b[0mfunc\u001b[0m \u001b[0;34m=\u001b[0m \u001b[0mgetattr\u001b[0m\u001b[0;34m(\u001b[0m\u001b[0mhandler\u001b[0m\u001b[0;34m,\u001b[0m \u001b[0mmeth_name\u001b[0m\u001b[0;34m)\u001b[0m\u001b[0;34m\u001b[0m\u001b[0;34m\u001b[0m\u001b[0m\n\u001b[0;32m--> 503\u001b[0;31m             \u001b[0mresult\u001b[0m \u001b[0;34m=\u001b[0m \u001b[0mfunc\u001b[0m\u001b[0;34m(\u001b[0m\u001b[0;34m*\u001b[0m\u001b[0margs\u001b[0m\u001b[0;34m)\u001b[0m\u001b[0;34m\u001b[0m\u001b[0;34m\u001b[0m\u001b[0m\n\u001b[0m\u001b[1;32m    504\u001b[0m             \u001b[0;32mif\u001b[0m \u001b[0mresult\u001b[0m \u001b[0;32mis\u001b[0m \u001b[0;32mnot\u001b[0m \u001b[0;32mNone\u001b[0m\u001b[0;34m:\u001b[0m\u001b[0;34m\u001b[0m\u001b[0;34m\u001b[0m\u001b[0m\n\u001b[1;32m    505\u001b[0m                 \u001b[0;32mreturn\u001b[0m \u001b[0mresult\u001b[0m\u001b[0;34m\u001b[0m\u001b[0;34m\u001b[0m\u001b[0m\n",
            "\u001b[0;32m/usr/lib/python3.7/urllib/request.py\u001b[0m in \u001b[0;36mhttps_open\u001b[0;34m(self, req)\u001b[0m\n\u001b[1;32m   1391\u001b[0m         \u001b[0;32mdef\u001b[0m \u001b[0mhttps_open\u001b[0m\u001b[0;34m(\u001b[0m\u001b[0mself\u001b[0m\u001b[0;34m,\u001b[0m \u001b[0mreq\u001b[0m\u001b[0;34m)\u001b[0m\u001b[0;34m:\u001b[0m\u001b[0;34m\u001b[0m\u001b[0;34m\u001b[0m\u001b[0m\n\u001b[1;32m   1392\u001b[0m             return self.do_open(http.client.HTTPSConnection, req,\n\u001b[0;32m-> 1393\u001b[0;31m                 context=self._context, check_hostname=self._check_hostname)\n\u001b[0m\u001b[1;32m   1394\u001b[0m \u001b[0;34m\u001b[0m\u001b[0m\n\u001b[1;32m   1395\u001b[0m         \u001b[0mhttps_request\u001b[0m \u001b[0;34m=\u001b[0m \u001b[0mAbstractHTTPHandler\u001b[0m\u001b[0;34m.\u001b[0m\u001b[0mdo_request_\u001b[0m\u001b[0;34m\u001b[0m\u001b[0;34m\u001b[0m\u001b[0m\n",
            "\u001b[0;32m/usr/lib/python3.7/urllib/request.py\u001b[0m in \u001b[0;36mdo_open\u001b[0;34m(self, http_class, req, **http_conn_args)\u001b[0m\n\u001b[1;32m   1350\u001b[0m                           encode_chunked=req.has_header('Transfer-encoding'))\n\u001b[1;32m   1351\u001b[0m             \u001b[0;32mexcept\u001b[0m \u001b[0mOSError\u001b[0m \u001b[0;32mas\u001b[0m \u001b[0merr\u001b[0m\u001b[0;34m:\u001b[0m \u001b[0;31m# timeout error\u001b[0m\u001b[0;34m\u001b[0m\u001b[0;34m\u001b[0m\u001b[0m\n\u001b[0;32m-> 1352\u001b[0;31m                 \u001b[0;32mraise\u001b[0m \u001b[0mURLError\u001b[0m\u001b[0;34m(\u001b[0m\u001b[0merr\u001b[0m\u001b[0;34m)\u001b[0m\u001b[0;34m\u001b[0m\u001b[0;34m\u001b[0m\u001b[0m\n\u001b[0m\u001b[1;32m   1353\u001b[0m             \u001b[0mr\u001b[0m \u001b[0;34m=\u001b[0m \u001b[0mh\u001b[0m\u001b[0;34m.\u001b[0m\u001b[0mgetresponse\u001b[0m\u001b[0;34m(\u001b[0m\u001b[0;34m)\u001b[0m\u001b[0;34m\u001b[0m\u001b[0;34m\u001b[0m\u001b[0m\n\u001b[1;32m   1354\u001b[0m         \u001b[0;32mexcept\u001b[0m\u001b[0;34m:\u001b[0m\u001b[0;34m\u001b[0m\u001b[0;34m\u001b[0m\u001b[0m\n",
            "\u001b[0;31mURLError\u001b[0m: <urlopen error [Errno -5] No address associated with hostname>"
          ]
        }
      ],
      "source": [
        "\n",
        "def remove_tag(content):\n",
        "    cleaned=re.sub(',','$',re.sub('<.*?>', '', content))\n",
        "    return cleaned\n",
        "\n",
        "for pid,l in zip(prec_list['판례일련번호'],prec_list['판례상세링크']):\n",
        "    url=\"https://www.law.go.kr\"+l.replace('HTML','XML')\n",
        "    response=urlopen(url).read()\n",
        "    xtree=ET.fromstring(response)\n",
        "    row={}\n",
        "    row['판례일련번호']=pid\n",
        "    for content in contents:\n",
        "        \n",
        "        try:\n",
        "            text=xtree.find(content).text\n",
        "            text=remove_tag(text)\n",
        "        except:\n",
        "            text=\"-\"\n",
        "        row[content]=text\n",
        "    case_list=pd.concat([case_list,pd.DataFrame([row],columns=row.keys())],axis=0)\n",
        "case_list.reset_index(inplace=True)\n",
        "        \n",
        "        \n",
        "\n",
        "        \n",
        "case_list.head(5)\n",
        "from pathlib import Path  \n",
        "filepath = Path('/content/Level1_w_data/case_list.csv')  \n",
        "case_list.to_csv(filepath,index=False)\n",
        "case_list.head(10)\n",
        "print(case_list['참조판례'])\n",
        "type(case_list)\n",
        "nonan_assistive=case_list[~(case_list['참조판례']=='-')].copy()\n",
        "nonan_assistive[nonan_assistive['참조판례'].str.contains('\\[[0-9]\\]')]"
      ]
    },
    {
      "cell_type": "code",
      "execution_count": null,
      "metadata": {
        "id": "m2fFG5ybH9ts"
      },
      "outputs": [],
      "source": [
        "!git clone https://github.com/Mubbit/Level1_w_data.git\n"
      ]
    },
    {
      "cell_type": "code",
      "execution_count": null,
      "metadata": {
        "colab": {
          "base_uri": "https://localhost:8080/"
        },
        "id": "CBTEGw6vIaeg",
        "outputId": "f38c4de4-e5bc-43f6-d095-058e184e49d8"
      },
      "outputs": [
        {
          "name": "stdout",
          "output_type": "stream",
          "text": [
            "Looking in indexes: https://pypi.org/simple, https://us-python.pkg.dev/colab-wheels/public/simple/\n",
            "Collecting konlpy\n",
            "  Downloading konlpy-0.6.0-py2.py3-none-any.whl (19.4 MB)\n",
            "\u001b[K     |████████████████████████████████| 19.4 MB 1.5 MB/s \n",
            "\u001b[?25hRequirement already satisfied: numpy>=1.6 in /usr/local/lib/python3.7/dist-packages (from konlpy) (1.21.6)\n",
            "Collecting JPype1>=0.7.0\n",
            "  Downloading JPype1-1.4.0-cp37-cp37m-manylinux_2_5_x86_64.manylinux1_x86_64.whl (453 kB)\n",
            "\u001b[K     |████████████████████████████████| 453 kB 46.5 MB/s \n",
            "\u001b[?25hRequirement already satisfied: lxml>=4.1.0 in /usr/local/lib/python3.7/dist-packages (from konlpy) (4.9.1)\n",
            "Requirement already satisfied: typing-extensions in /usr/local/lib/python3.7/dist-packages (from JPype1>=0.7.0->konlpy) (4.1.1)\n",
            "Installing collected packages: JPype1, konlpy\n",
            "Successfully installed JPype1-1.4.0 konlpy-0.6.0\n"
          ]
        }
      ],
      "source": [
        "!pip install konlpy"
      ]
    },
    {
      "cell_type": "code",
      "execution_count": null,
      "metadata": {
        "colab": {
          "base_uri": "https://localhost:8080/"
        },
        "id": "fCKFtlX1ISCQ",
        "outputId": "920165ee-3107-470a-dab1-b61f88db69f6"
      },
      "outputs": [
        {
          "name": "stdout",
          "output_type": "stream",
          "text": [
            "::::::::::df set 120\n",
            ":::::::::::re done 120\n",
            "100% 120/120 [05:39<00:00,  2.83s/it]\n",
            "::::::::::::tokens per doc length 120\n",
            "/usr/local/lib/python3.7/dist-packages/sklearn/manifold/_t_sne.py:783: FutureWarning: The default initialization in TSNE will change from 'random' to 'pca' in 1.2.\n",
            "  FutureWarning,\n",
            "/usr/local/lib/python3.7/dist-packages/sklearn/manifold/_t_sne.py:793: FutureWarning: The default learning rate in TSNE will change from 200.0 to 'auto' in 1.2.\n",
            "  FutureWarning,\n",
            "Figure(640x480)\n"
          ]
        }
      ],
      "source": [
        "!python Level1_w_data/data_preprocess_doc2vec.py"
      ]
    },
    {
      "cell_type": "markdown",
      "metadata": {
        "id": "mf7UzrGKoiIF"
      },
      "source": [
        "textrank"
      ]
    },
    {
      "cell_type": "code",
      "execution_count": null,
      "metadata": {
        "id": "e8pi5Ldcm-6d"
      },
      "outputs": [],
      "source": [
        "! git clone https://github.com/lovit/textrank.git"
      ]
    },
    {
      "cell_type": "code",
      "execution_count": null,
      "metadata": {
        "id": "gxnaHz7cqEpB"
      },
      "outputs": [],
      "source": [
        "from data_preprocess_doc2vec import PreProcess\n",
        "import pandas as pd\n",
        "\n",
        "caselist_path=''\n",
        "caselist_pd=pd.read_csv(caselist_path)\n",
        "p=PreProcess(caselist)\n",
        "p.set()\n",
        "docs=p.df"
      ]
    },
    {
      "cell_type": "code",
      "execution_count": null,
      "metadata": {
        "id": "0btQKN66rsrZ"
      },
      "outputs": [],
      "source": [
        "def custom_tokenizer(fn,x): \n",
        "  tokens,stopwords=fn.run_inference(x)\n",
        "  return tokens"
      ]
    },
    {
      "cell_type": "code",
      "execution_count": null,
      "metadata": {
        "id": "C5NpZVMTojif"
      },
      "outputs": [],
      "source": [
        "from textrank import KeywordSummarizer\n",
        "\n",
        "keyword_extractor=KeywordSummarizer(\n",
        "    tokenize=lambda x:custom_tokenizer(p.run_inference,x),\n",
        "    window=-1,\n",
        "    verbose=False\n",
        ")\n",
        "keywords=keyword_extractor.summarize(docs,topk=30)\n",
        "for index,word,rank in enumerate(keywords):\n",
        "  print(word,rank)\n",
        "  if index>10:\n",
        "    break"
      ]
    },
    {
      "cell_type": "code",
      "execution_count": null,
      "metadata": {
        "id": "VJ6LWFJFsRsg"
      },
      "outputs": [],
      "source": []
    }
  ],
  "metadata": {
    "accelerator": "GPU",
    "colab": {
      "machine_shape": "hm",
      "provenance": []
    },
    "kernelspec": {
      "display_name": "Python 3",
      "name": "python3"
    },
    "language_info": {
      "name": "python"
    }
  },
  "nbformat": 4,
  "nbformat_minor": 0
}