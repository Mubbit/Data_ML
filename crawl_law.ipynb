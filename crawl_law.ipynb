{
 "cells": [
  {
   "cell_type": "code",
   "execution_count": 1,
   "metadata": {},
   "outputs": [],
   "source": [
    "import pandas as pd\n",
    "import xml.etree.ElementTree as ET\n",
    "from urllib.request import urlopen\n",
    "from tqdm import trange\n",
    "from bs4 import BeautifulSoup as bs\n",
    "import re"
   ]
  },
  {
   "cell_type": "code",
   "execution_count": 3,
   "metadata": {},
   "outputs": [
    {
     "data": {
      "text/plain": [
       "<!DOCTYPE html PUBLIC \"-//W3C//DTD XHTML 1.0 Transitional//EN\" \"http://www.w3.org/TR/xhtml1/DTD/xhtml1-transitional.dtd\">\n",
       "<html lang=\"ko\" xml:lang=\"ko\" xmlns=\"http://www.w3.org/1999/xhtml\">\n",
       "<head>\n",
       "<meta content=\"IE=edge\" http-equiv=\"X-UA-Compatible\"/>\n",
       "<meta content=\"text/html; charset=utf-8\" http-equiv=\"Content-Type\"/>\n",
       "<link href=\"/DRF/css/common.css\" rel=\"stylesheet\" type=\"text/css\"/>\n",
       "<script src=\"/DRF/js/common/jquery/jquery.js\" type=\"text/javascript\"></script>\n",
       "<script src=\"/DRF/js/common/jquery/jquery.form.js\" type=\"text/javascript\"></script>\n",
       "<script src=\"/DRF/js/ext/adapter/ext/ext-base.js\" type=\"text/javascript\"></script>\n",
       "<script src=\"/DRF/js/ext/ext-all.js\" type=\"text/javascript\"></script>\n",
       "<script src=\"/DRF/js/common.js\" type=\"text/javascript\"></script>\n",
       "<script src=\"/DRF/js/common-ex.js\" type=\"text/javascript\"></script>\n",
       "<script src=\"/DRF/js/CookieUtil.js\" type=\"text/javascript\"></script>\n",
       "<title>국가법령정보 공동활용</title>\n",
       "</head>\n",
       "<body>\n",
       "<!-- //error500 -->\n",
       "<div id=\"error500\">\n",
       "<h1><a href=\"#\"><img alt=\"국가법령정보 공동활용\" src=\"/DRF/images/topmenu/LSO_top_logo.gif\"/></a></h1>\n",
       "<div class=\"error_txt\">\n",
       "<h2>미신청된 목록/본문에 대한 접근입니다.</h2>\n",
       "<p><em><a href=\"https://open.law.go.kr/LSO/main.do\">OPEN API</a></em> 로그인 후 [OPEN API] -&gt; [OPEN API 신청] -&gt; 등록된 API 선택 후 법령종류를 체크해 주세요.<br/>동일한 문제가 지속될 경우 아래 번호로 문의해 주시기 바랍니다.</p>\n",
       "<em>법제처 공동활용 유지보수팀(02-2109-6446)</em>\n",
       "</div>\n",
       "</div>\n",
       "<!-- error500// -->\n",
       "</body>\n",
       "</html>"
      ]
     },
     "execution_count": 3,
     "metadata": {},
     "output_type": "execute_result"
    }
   ],
   "source": [
    "#기존의 크롤링 방법 말고 다른 방식을 써보자\n",
    "\n",
    "id='mugudeli601'\n",
    "url='http://www.law.go.kr/DRF/lawSearch.do?OC={}&target=couseLs&type=XML'.format(id)\n",
    "response = urlopen(url).read()\n",
    "bs(response)"
   ]
  }
 ],
 "metadata": {
  "kernelspec": {
   "display_name": "Python 3.9.6 64-bit",
   "language": "python",
   "name": "python3"
  },
  "language_info": {
   "codemirror_mode": {
    "name": "ipython",
    "version": 3
   },
   "file_extension": ".py",
   "mimetype": "text/x-python",
   "name": "python",
   "nbconvert_exporter": "python",
   "pygments_lexer": "ipython3",
   "version": "3.9.6"
  },
  "orig_nbformat": 4,
  "vscode": {
   "interpreter": {
    "hash": "b485adf93bff8ca269d5493edbedeaa1a759650bfde9cbea36fd7f7b559c92d8"
   }
  }
 },
 "nbformat": 4,
 "nbformat_minor": 2
}
