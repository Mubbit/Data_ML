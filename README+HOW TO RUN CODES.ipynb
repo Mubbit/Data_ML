{
 "cells": [
  {
   "attachments": {},
   "cell_type": "markdown",
   "metadata": {},
   "source": [
    "# README\n",
    "\n",
    "## Project Introduction\n",
    "\n",
    "MEVER is a onnline legal service for non-legal professionals facing a legal conflict looking for examples that will aid comprehension upon what lies beyond them. \n",
    "\n",
    "Mubbit, our team, aims to achieve the objective by providing robust case search engine, case recommendation, and keyword highlights.\n",
    "\n",
    "This project was undergone as part of CapstoneDesignB course at Ewha Womans' University"
   ]
  },
  {
   "attachments": {},
   "cell_type": "markdown",
   "metadata": {},
   "source": [
    "## HOW TO RUN CODES\n",
    "\n",
    "### Table of Contents\n",
    "<ul>\n",
    "<li><a href='#finding-matching-case'>Finding matching case</a></li>\n",
    "    <ul> \n",
    "        <li> Word2Vec </li>\n",
    "        <li> Running python code in Javascript </li>\n",
    "    </ul>\n",
    "<li><a href='#deriving-recommendation'>Deriving recommendation</a></li>\n",
    "    <ul> \n",
    "        <li> KoBERT </li>\n",
    "        <li> Doc2Vec </li>\n",
    "        <li> Comparison </li>\n",
    "        <li> How it is utilized </li>\n",
    "    </ul>\n",
    "<li><a href='#highlighting-keywords'>Highlighting keywords</a></li>\n",
    "    <ul> \n",
    "        <li> TextRank </li>\n",
    "        <li> TF-IDF </li>\n",
    "        <li> How it is utilized </li>\n",
    "    </ul>\n",
    "</ul>"
   ]
  },
  {
   "attachments": {},
   "cell_type": "markdown",
   "metadata": {},
   "source": [
    "<h3 id=\"finding-matching-case\"> Finding matching case</h3>\n",
    "\n"
   ]
  },
  {
   "attachments": {},
   "cell_type": "markdown",
   "metadata": {},
   "source": [
    "case_list.csv holds cases provided by open.law.go.kr which is a government driven API service giving list of cases for service development which is extracted, pre-processed and left with essential attributes required by our service.\n",
    "The following notebooks utilize case_list.csv to derive vectors per case  \n",
    " \n",
    " <strong>Train doc2vec: case2vec_doc2vec.py </strong>\n",
    "\n",
    "\n",
    "<strong>Train kobert: case2vec_kobert.py </strong>"
   ]
  },
  {
   "attachments": {},
   "cell_type": "markdown",
   "metadata": {},
   "source": [
    "For searching, we designed so a javascript code will execute a python script when a query is given, and the following file executes the process\n",
    "\n",
    "<strong> search query kobert </strong>\n",
    "\n",
    "When the above command is executed, a file named 'search result.csv' is generated which returns a series of datanumbers that is 1:1 with cases. \n"
   ]
  },
  {
   "attachments": {},
   "cell_type": "markdown",
   "metadata": {},
   "source": [
    "<h3 id='deriving-recommendation'> Deriving recommendation </h3>\n",
    "\n",
    "Every case is assigned a next recommended case via this <a href=''> colab notebook </a>"
   ]
  },
  {
   "attachments": {},
   "cell_type": "markdown",
   "metadata": {},
   "source": [
    "<h3 id='highlighting-keywords'> Highlighting keywords </h3>\n",
    "\n",
    "Follow <strong> textrank_to_json.ipynb</strong>"
   ]
  }
 ],
 "metadata": {
  "kernelspec": {
   "display_name": "Python 3.9.6 64-bit",
   "language": "python",
   "name": "python3"
  },
  "language_info": {
   "name": "python",
   "version": "3.9.6"
  },
  "orig_nbformat": 4,
  "vscode": {
   "interpreter": {
    "hash": "b485adf93bff8ca269d5493edbedeaa1a759650bfde9cbea36fd7f7b559c92d8"
   }
  }
 },
 "nbformat": 4,
 "nbformat_minor": 2
}
