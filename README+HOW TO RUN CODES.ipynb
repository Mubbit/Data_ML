{
 "cells": [
  {
   "cell_type": "code",
   "execution_count": null,
   "metadata": {},
   "outputs": [],
   "source": []
  },
  {
   "cell_type": "markdown",
   "metadata": {},
   "source": [
    "# README\n",
    "\n",
    "## Project Introduction\n",
    "\n",
    "MEVER is a onnline legal service for non-legal professionals facing a legal conflict looking for examples that will aid comprehension upon what lies beyond them. /\n",
    "\n",
    "Mubbit, our team, aims to achieve the objective by providing robust case search engine, case recommendation, and keyword highlights.\n",
    "\n",
    "This project was undergone as part of CapstoneDesignB course at Ewha Womans' University"
   ]
  },
  {
   "cell_type": "markdown",
   "metadata": {},
   "source": [
    "## HOW TO RUN CODES\n",
    "\n",
    "### Table of Contents\n",
    "<ul>\n",
    "<li>[Finding matching case](#finding-matching-case)</li>\n",
    "    <ul> \n",
    "        <li> Word2Vec </li>\n",
    "        <li> Running python code in Javascript </li>\n",
    "    </ul>\n",
    "<li>[Deriving recommendation](#deriving-recommendation)</li>\n",
    "    <ul> \n",
    "        <li> KoBERT </li>\n",
    "        <li> Doc2Vec </li>\n",
    "        <li> Comparison </li>\n",
    "        <li> How it is utilized </li>\n",
    "    </ul>\n",
    "<li>[Highlighting keywords](#highlighting-keywords)</li>\n",
    "    <ul> \n",
    "        <li> TextRank </li>\n",
    "        <li> TF-IDF </li>\n",
    "        <li> How it is utilized </li>\n",
    "    </ul>\n",
    "</ul>"
   ]
  },
  {
   "cell_type": "markdown",
   "metadata": {},
   "source": [
    "## Finding matching case\n",
    "\n"
   ]
  },
  {
   "cell_type": "code",
   "execution_count": null,
   "metadata": {},
   "outputs": [],
   "source": []
  },
  {
   "cell_type": "markdown",
   "metadata": {},
   "source": [
    "## Deriving recommendation"
   ]
  },
  {
   "cell_type": "code",
   "execution_count": null,
   "metadata": {},
   "outputs": [],
   "source": []
  },
  {
   "cell_type": "markdown",
   "metadata": {},
   "source": [
    "## Highlighting keywords"
   ]
  },
  {
   "cell_type": "code",
   "execution_count": null,
   "metadata": {},
   "outputs": [],
   "source": []
  }
 ],
 "metadata": {
  "language_info": {
   "name": "python"
  },
  "orig_nbformat": 4
 },
 "nbformat": 4,
 "nbformat_minor": 2
}
