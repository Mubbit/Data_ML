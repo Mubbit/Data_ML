{
  "nbformat": 4,
  "nbformat_minor": 0,
  "metadata": {
    "colab": {
      "provenance": [],
      "machine_shape": "hm"
    },
    "kernelspec": {
      "name": "python3",
      "display_name": "Python 3"
    },
    "language_info": {
      "name": "python"
    },
    "accelerator": "GPU",
    "gpuClass": "premium"
  },
  "cells": [
    {
      "cell_type": "markdown",
      "source": [
        "\n",
        "\n",
        "#### bring case list\n",
        "\n",
        "#### pre-process 판시사항, 판결요지, 판례내용 \n",
        "#### [가-힣만 남겨두기]\n",
        "#### 판결요지, 판례내용을 list of sentences로 만들기\n",
        "#### kkma tokenizer를 token list만 제공하는 형태로 post_fn을 만들어서 넘기기\n",
        "#### keyword와 keysentence를 구하기\n",
        "#### keyword와 keysentence 를 text 기준 위치를 구하는 함수를 만들기\n",
        "#### substring 비교식으로 해야할 것"
      ],
      "metadata": {
        "id": "NhzvhOKrKTbO"
      }
    },
    {
      "cell_type": "code",
      "source": [
        "!pip install konlpy"
      ],
      "metadata": {
        "colab": {
          "base_uri": "https://localhost:8080/"
        },
        "id": "Tt_Wiae5KeKk",
        "outputId": "c292938d-fc45-473c-9487-12a3289c6c31"
      },
      "execution_count": null,
      "outputs": [
        {
          "output_type": "stream",
          "name": "stdout",
          "text": [
            "Looking in indexes: https://pypi.org/simple, https://us-python.pkg.dev/colab-wheels/public/simple/\n",
            "Collecting konlpy\n",
            "  Downloading konlpy-0.6.0-py2.py3-none-any.whl (19.4 MB)\n",
            "\u001b[K     |████████████████████████████████| 19.4 MB 17.5 MB/s \n",
            "\u001b[?25hCollecting JPype1>=0.7.0\n",
            "  Downloading JPype1-1.4.1-cp37-cp37m-manylinux_2_12_x86_64.manylinux2010_x86_64.whl (465 kB)\n",
            "\u001b[K     |████████████████████████████████| 465 kB 82.2 MB/s \n",
            "\u001b[?25hRequirement already satisfied: lxml>=4.1.0 in /usr/local/lib/python3.7/dist-packages (from konlpy) (4.9.1)\n",
            "Requirement already satisfied: numpy>=1.6 in /usr/local/lib/python3.7/dist-packages (from konlpy) (1.21.6)\n",
            "Requirement already satisfied: typing-extensions in /usr/local/lib/python3.7/dist-packages (from JPype1>=0.7.0->konlpy) (4.1.1)\n",
            "Requirement already satisfied: packaging in /usr/local/lib/python3.7/dist-packages (from JPype1>=0.7.0->konlpy) (21.3)\n",
            "Requirement already satisfied: pyparsing!=3.0.5,>=2.0.2 in /usr/local/lib/python3.7/dist-packages (from packaging->JPype1>=0.7.0->konlpy) (3.0.9)\n",
            "Installing collected packages: JPype1, konlpy\n",
            "Successfully installed JPype1-1.4.1 konlpy-0.6.0\n"
          ]
        }
      ]
    },
    {
      "cell_type": "code",
      "source": [
        "from konlpy.tag import Kkma \n",
        "import pandas as pd\n",
        "import numpy as np\n",
        "import re"
      ],
      "metadata": {
        "id": "88nclCDbKL9H"
      },
      "execution_count": null,
      "outputs": []
    },
    {
      "cell_type": "code",
      "source": [
        "!git clone https://github.com/Mubbit/Level1_w_data.git"
      ],
      "metadata": {
        "colab": {
          "base_uri": "https://localhost:8080/"
        },
        "id": "eJha-mSGYFSL",
        "outputId": "4a617243-9496-484b-f98d-804bdae8982f"
      },
      "execution_count": null,
      "outputs": [
        {
          "output_type": "stream",
          "name": "stdout",
          "text": [
            "Cloning into 'Level1_w_data'...\n",
            "remote: Enumerating objects: 137, done.\u001b[K\n",
            "remote: Counting objects: 100% (11/11), done.\u001b[K\n",
            "remote: Compressing objects: 100% (9/9), done.\u001b[K\n",
            "remote: Total 137 (delta 2), reused 7 (delta 2), pack-reused 126\u001b[K\n",
            "Receiving objects: 100% (137/137), 29.30 MiB | 10.46 MiB/s, done.\n",
            "Resolving deltas: 100% (53/53), done.\n"
          ]
        }
      ]
    },
    {
      "cell_type": "code",
      "source": [
        "!rm -r textrank\n",
        "!git clone https://github.com/Mubbit/textrank.git\n",
        "!git pull"
      ],
      "metadata": {
        "colab": {
          "base_uri": "https://localhost:8080/"
        },
        "id": "VW2NPdgJMvVD",
        "outputId": "a8f5559f-0baf-44af-f1d4-3284160dbde2"
      },
      "execution_count": null,
      "outputs": [
        {
          "output_type": "stream",
          "name": "stdout",
          "text": [
            "Cloning into 'textrank'...\n",
            "remote: Enumerating objects: 275, done.\u001b[K\n",
            "remote: Counting objects: 100% (50/50), done.\u001b[K\n",
            "remote: Compressing objects: 100% (47/47), done.\u001b[K\n",
            "remote: Total 275 (delta 18), reused 11 (delta 1), pack-reused 225\u001b[K\n",
            "Receiving objects: 100% (275/275), 1.60 MiB | 22.76 MiB/s, done.\n",
            "Resolving deltas: 100% (150/150), done.\n",
            "fatal: not a git repository (or any of the parent directories): .git\n"
          ]
        }
      ]
    },
    {
      "cell_type": "code",
      "source": [
        "!pip install textrank"
      ],
      "metadata": {
        "colab": {
          "base_uri": "https://localhost:8080/"
        },
        "id": "hf4cv9G5OnqW",
        "outputId": "b90eadc1-a714-4b3c-9a3c-998880618c07"
      },
      "execution_count": null,
      "outputs": [
        {
          "output_type": "stream",
          "name": "stdout",
          "text": [
            "Looking in indexes: https://pypi.org/simple, https://us-python.pkg.dev/colab-wheels/public/simple/\n",
            "Collecting textrank\n",
            "  Downloading textrank-0.1.0.tar.gz (2.8 kB)\n",
            "Building wheels for collected packages: textrank\n",
            "  Building wheel for textrank (setup.py) ... \u001b[?25l\u001b[?25hdone\n",
            "  Created wheel for textrank: filename=textrank-0.1.0-py3-none-any.whl size=3419 sha256=04248ad568c2162d192cd998fff774c8627d5b13e08f4782fdad929f8c54dc48\n",
            "  Stored in directory: /root/.cache/pip/wheels/47/5f/18/15997fca2df9b310c344b8598b750645a689e0aa0ba82f3289\n",
            "Successfully built textrank\n",
            "Installing collected packages: textrank\n",
            "Successfully installed textrank-0.1.0\n"
          ]
        }
      ]
    },
    {
      "cell_type": "markdown",
      "source": [
        "/content/textrank/textrank/summarizer.py"
      ],
      "metadata": {
        "id": "r7oBwoK-QPeE"
      }
    },
    {
      "cell_type": "code",
      "source": [
        "!ls textrank/"
      ],
      "metadata": {
        "colab": {
          "base_uri": "https://localhost:8080/"
        },
        "id": "e9VksiBkxcQm",
        "outputId": "efcde156-3172-4577-bf37-ab4bb3c62511"
      },
      "execution_count": null,
      "outputs": [
        {
          "output_type": "stream",
          "name": "stdout",
          "text": [
            "data  MIT-LICENSE.txt  README.md  run_textrank.ipynb  setup.py\ttextrank\n"
          ]
        }
      ]
    },
    {
      "cell_type": "code",
      "execution_count": null,
      "metadata": {
        "id": "OO787PIPJ80i"
      },
      "outputs": [],
      "source": [
        "import sys\n",
        "sys.path.append('textrank/textrank/')\n",
        "from summarizer import KeywordSummarizer,KeysentenceSummarizer\n",
        "\n",
        "class PreProcess:#1개 이상의 판례를 대상으로 진행한다. \n",
        "  def __init__(self,case,patterns=re.compile('[^(가-힣 .)]')):\n",
        "    self.ppsh=list(case.loc[:,'holding'].values) #list of paragraphs\n",
        "    self.pgyj=list(case.loc[:,'summary'].values) #list of paragraphs\n",
        "    self.prny=list(case.loc[:,'prny'].values) #list of paragraphs\n",
        "    self.filter_all(patterns)\n",
        "  def filter(self,li,pattern=re.compile('[^(가-힣 .)]')):    #하나만 들어오더라도 []에 넣어주므로 동질적으로 진행 가능하다.\n",
        "      new_series=[]\n",
        "      for paragraph in li:\n",
        "          new_series.append(re.sub(pattern,' ',paragraph))\n",
        "      return new_series \n",
        "  def filter_all(self,patterns=re.compile('[^(가-힣 .)]')):\n",
        "      if isinstance(patterns,list):\n",
        "          print('not implemented for multiple pattern filtering')\n",
        "      else:\n",
        "        if isinstance(self.ppsh,list):\n",
        "          self.filtered_df=pd.DataFrame({\n",
        "          'holding':self.filter(self.ppsh),\n",
        "          'summary':self.filter(self.pgyj),\n",
        "          'prny':self.filter(self.prny)})\n",
        "        else:\n",
        "          self.filtered_df=pd.DataFrame({\n",
        "          'holding':self.filter(self.ppsh),\n",
        "          'summary':self.filter(self.pgyj),\n",
        "          'prny':self.filter(self.prny)},index=[0])\n",
        "\n",
        "\n",
        "class InferTextRank:\n",
        "  def __init__(self):\n",
        "    self.kkma=Kkma().nouns\n",
        "    self.keyword_extractor=KeywordSummarizer(tokenize=lambda x: self.kkma(x),window=5,verbose=False)\n",
        "    self.keysentence_extractor=KeysentenceSummarizer(tokenize=lambda x:self.kkam(x),verbose=False)\n",
        "  def textrank_sent(self,paragraph):\n",
        "    keysentences=self.keysentence_extractor.summarize(paragraph,topk=2)\n",
        "    sents=[]\n",
        "    for sent,rank in keysentences:\n",
        "      sents.append(sent)\n",
        "    return sents\n",
        "  def textrank_word(self,paragraph,limit=10):\n",
        "    #paragraph: list of sents\n",
        "    keywords=self.keyword_extractor.summarize(paragraph,topk=limit)\n",
        "    words=[]\n",
        "    count=0\n",
        "    for word,rank in keywords:\n",
        "      if count<10:\n",
        "        words.append(word)\n",
        "      else:\n",
        "        break\n",
        "      count+=1\n",
        "    return words\n",
        "  \n",
        "      \n",
        "    "
      ]
    },
    {
      "cell_type": "code",
      "source": [
        "case=pd.read_csv('Level1_w_data/case_list.csv')\n",
        "case=case.rename(columns={'판례내용':'prny'})"
      ],
      "metadata": {
        "id": "721ltdOg4Mw0"
      },
      "execution_count": null,
      "outputs": []
    },
    {
      "cell_type": "code",
      "source": [
        "case.columns"
      ],
      "metadata": {
        "colab": {
          "base_uri": "https://localhost:8080/"
        },
        "id": "YngmARUsWyMK",
        "outputId": "bfbb7847-846c-4e02-ba0c-7dcf9252e3cd"
      },
      "execution_count": null,
      "outputs": [
        {
          "output_type": "execute_result",
          "data": {
            "text/plain": [
              "Index(['index', 'datanumber', 'title', 'casenumber', 'date', 'verdicttype',\n",
              "       'holding', 'summary', 'jmreference', 'prreference', 'prny'],\n",
              "      dtype='object')"
            ]
          },
          "metadata": {},
          "execution_count": 12
        }
      ]
    },
    {
      "cell_type": "code",
      "source": [
        "pre_process=PreProcess(case)\n",
        "pre_process.filter_all()# df of three columns '판시사항' '판결요지' 판례내용'\n",
        "pssh_orig=pre_process.filtered_df['holding']\n",
        "pgyj_orig=pre_process.filtered_df['summary']\n",
        "prny_orig=pre_process.filtered_df['prny']"
      ],
      "metadata": {
        "id": "H9A4t5spKOhH"
      },
      "execution_count": null,
      "outputs": []
    },
    {
      "cell_type": "markdown",
      "source": [
        "판시사항이 . 으로 문장이 구분되지 않고 '여부'로 구분되는 것이 특징"
      ],
      "metadata": {
        "id": "nfhP5GRa1Ht2"
      }
    },
    {
      "cell_type": "code",
      "source": [
        "case.head(5)"
      ],
      "metadata": {
        "colab": {
          "base_uri": "https://localhost:8080/",
          "height": 857
        },
        "id": "IBsf3G854s7a",
        "outputId": "d94d0478-709e-4744-8257-8cb160eb9d61"
      },
      "execution_count": null,
      "outputs": [
        {
          "output_type": "execute_result",
          "data": {
            "text/plain": [
              "   index  datanumber                                              title  \\\n",
              "0      0      230961                                           주주총회소집허가   \n",
              "1      1      230971                                            소유권이전등기   \n",
              "2      2      230967  폭력행위등처벌에관한법률위반(단체등의구성·활동)·폭력행위등처벌에관한법률위반(단체등의공...   \n",
              "3      3      230957                                             연차수당지급   \n",
              "4      4      230981                                            중재판정의집행   \n",
              "\n",
              "    casenumber      date verdicttype  \\\n",
              "0    2022마5372  20220907          결정   \n",
              "1  2022다217117  20220907          판결   \n",
              "2    2022도6993  20220907          판결   \n",
              "3  2022다245419  20220907          판결   \n",
              "4    2020마5970  20220907          결정   \n",
              "\n",
              "                                             holding  \\\n",
              "0    소수주주가 상법 제366조에 따라 임시총회 소집에 관한 법원의 허가를 신청할 때...   \n",
              "1    [1] 수임인이 위임인을 위하여 자기 명의로 취득한 권리를 위임인에게 이전하여야...   \n",
              "2    [1] 공소장변경이 허용되는 범위 / 공소사실의 동일성이 인정되지 않는 범죄사실...   \n",
              "3    1년을 초과하되 2년 이하의 기간 동안 근로를 제공한 근로자에게 부여될 수 있는...   \n",
              "4    중재요청서 등의 서면 통지에 있어서 중재법 제4조 제3항의 발송에 의한 통지가 ...   \n",
              "\n",
              "                                             summary  \\\n",
              "0    일반적으로 주주총회는 이사회의 결의로 소집하지만(상법 제362조)$ 예외적으로 ...   \n",
              "1    [1] 민법 제684조 제2항은 \"수임인이 위임인을 위하여 자기의 명의로 취득한...   \n",
              "2    [1] 공소장변경은 공소사실의 동일성이 인정되는 범위 내에서만 허용되고$ 공소사...   \n",
              "3    근로기준법에 따르면$ 사용자는 1년간 80% 이상 출근한 근로자에게 15일의 연...   \n",
              "4    중재절차는 당사자 간에 다른 합의가 없는 한 피신청인이 중재요청서를 받은 날부터...   \n",
              "\n",
              "                                         jmreference  \\\n",
              "0  상법 제361조$ 제362조$ 제366조$ 제385조 제1항$ 제389조$ 민사소송...   \n",
              "1                        [1] 민법 제684조 / [2] 민법 제684조   \n",
              "2   [1] 형사소송법 제298조 제1항 / [2] 폭력행위 등 처벌에 관한 법률 제4...   \n",
              "3                                근로기준법 제60조 제1항$ 제2항   \n",
              "4  중재법 제4조$ 제22조 제1항$ 제36조 제2항 제1호 (나)목$ 제38조 제1호...   \n",
              "\n",
              "                                         prreference  \\\n",
              "0       대법원 2022. 4. 19. 자 2022그501 결정(공2022상$ 1013)   \n",
              "1   [1] 대법원 2007. 2. 8. 선고 2004다64432 판결(공2007상$ ...   \n",
              "2   [1] 대법원 1994. 3. 22. 선고 93도2080 전원합의체 판결(공199...   \n",
              "3  대법원 2018. 6. 28. 선고 2016다48297 판결(공2018하$ 1435...   \n",
              "4                                                  -   \n",
              "\n",
              "                                                prny  \n",
              "0  【신청인$ 재항고인】 신청인 (소송대리인 변호사 오원근)【사건본인$ 상대방】 주식회...  \n",
              "1  【원고$ 상고인 겸 피상고인】 하동지구개발사업단 주식회사의 파산관재인 (소송대리인 ...  \n",
              "2  【피 고 인】 피고인 1 외 1인【상 고 인】 피고인들【변 호 인】 변호사 현희철 ...  \n",
              "3  【원고$ 상고인】 성창산업개발 주식회사【피고$ 피상고인】 재단법인 오송첨단의료산업진...  \n",
              "4  【신청인$재항고인】 주식회사 포스코아이씨티 (소송대리인 법무법인(유한) 화우 담당변...  "
            ],
            "text/html": [
              "\n",
              "  <div id=\"df-25a9d202-ba4d-4038-9e48-4cf9ff48e380\">\n",
              "    <div class=\"colab-df-container\">\n",
              "      <div>\n",
              "<style scoped>\n",
              "    .dataframe tbody tr th:only-of-type {\n",
              "        vertical-align: middle;\n",
              "    }\n",
              "\n",
              "    .dataframe tbody tr th {\n",
              "        vertical-align: top;\n",
              "    }\n",
              "\n",
              "    .dataframe thead th {\n",
              "        text-align: right;\n",
              "    }\n",
              "</style>\n",
              "<table border=\"1\" class=\"dataframe\">\n",
              "  <thead>\n",
              "    <tr style=\"text-align: right;\">\n",
              "      <th></th>\n",
              "      <th>index</th>\n",
              "      <th>datanumber</th>\n",
              "      <th>title</th>\n",
              "      <th>casenumber</th>\n",
              "      <th>date</th>\n",
              "      <th>verdicttype</th>\n",
              "      <th>holding</th>\n",
              "      <th>summary</th>\n",
              "      <th>jmreference</th>\n",
              "      <th>prreference</th>\n",
              "      <th>prny</th>\n",
              "    </tr>\n",
              "  </thead>\n",
              "  <tbody>\n",
              "    <tr>\n",
              "      <th>0</th>\n",
              "      <td>0</td>\n",
              "      <td>230961</td>\n",
              "      <td>주주총회소집허가</td>\n",
              "      <td>2022마5372</td>\n",
              "      <td>20220907</td>\n",
              "      <td>결정</td>\n",
              "      <td>소수주주가 상법 제366조에 따라 임시총회 소집에 관한 법원의 허가를 신청할 때...</td>\n",
              "      <td>일반적으로 주주총회는 이사회의 결의로 소집하지만(상법 제362조)$ 예외적으로 ...</td>\n",
              "      <td>상법 제361조$ 제362조$ 제366조$ 제385조 제1항$ 제389조$ 민사소송...</td>\n",
              "      <td>대법원 2022. 4. 19. 자 2022그501 결정(공2022상$ 1013)</td>\n",
              "      <td>【신청인$ 재항고인】 신청인 (소송대리인 변호사 오원근)【사건본인$ 상대방】 주식회...</td>\n",
              "    </tr>\n",
              "    <tr>\n",
              "      <th>1</th>\n",
              "      <td>1</td>\n",
              "      <td>230971</td>\n",
              "      <td>소유권이전등기</td>\n",
              "      <td>2022다217117</td>\n",
              "      <td>20220907</td>\n",
              "      <td>판결</td>\n",
              "      <td>[1] 수임인이 위임인을 위하여 자기 명의로 취득한 권리를 위임인에게 이전하여야...</td>\n",
              "      <td>[1] 민법 제684조 제2항은 \"수임인이 위임인을 위하여 자기의 명의로 취득한...</td>\n",
              "      <td>[1] 민법 제684조 / [2] 민법 제684조</td>\n",
              "      <td>[1] 대법원 2007. 2. 8. 선고 2004다64432 판결(공2007상$ ...</td>\n",
              "      <td>【원고$ 상고인 겸 피상고인】 하동지구개발사업단 주식회사의 파산관재인 (소송대리인 ...</td>\n",
              "    </tr>\n",
              "    <tr>\n",
              "      <th>2</th>\n",
              "      <td>2</td>\n",
              "      <td>230967</td>\n",
              "      <td>폭력행위등처벌에관한법률위반(단체등의구성·활동)·폭력행위등처벌에관한법률위반(단체등의공...</td>\n",
              "      <td>2022도6993</td>\n",
              "      <td>20220907</td>\n",
              "      <td>판결</td>\n",
              "      <td>[1] 공소장변경이 허용되는 범위 / 공소사실의 동일성이 인정되지 않는 범죄사실...</td>\n",
              "      <td>[1] 공소장변경은 공소사실의 동일성이 인정되는 범위 내에서만 허용되고$ 공소사...</td>\n",
              "      <td>[1] 형사소송법 제298조 제1항 / [2] 폭력행위 등 처벌에 관한 법률 제4...</td>\n",
              "      <td>[1] 대법원 1994. 3. 22. 선고 93도2080 전원합의체 판결(공199...</td>\n",
              "      <td>【피 고 인】 피고인 1 외 1인【상 고 인】 피고인들【변 호 인】 변호사 현희철 ...</td>\n",
              "    </tr>\n",
              "    <tr>\n",
              "      <th>3</th>\n",
              "      <td>3</td>\n",
              "      <td>230957</td>\n",
              "      <td>연차수당지급</td>\n",
              "      <td>2022다245419</td>\n",
              "      <td>20220907</td>\n",
              "      <td>판결</td>\n",
              "      <td>1년을 초과하되 2년 이하의 기간 동안 근로를 제공한 근로자에게 부여될 수 있는...</td>\n",
              "      <td>근로기준법에 따르면$ 사용자는 1년간 80% 이상 출근한 근로자에게 15일의 연...</td>\n",
              "      <td>근로기준법 제60조 제1항$ 제2항</td>\n",
              "      <td>대법원 2018. 6. 28. 선고 2016다48297 판결(공2018하$ 1435...</td>\n",
              "      <td>【원고$ 상고인】 성창산업개발 주식회사【피고$ 피상고인】 재단법인 오송첨단의료산업진...</td>\n",
              "    </tr>\n",
              "    <tr>\n",
              "      <th>4</th>\n",
              "      <td>4</td>\n",
              "      <td>230981</td>\n",
              "      <td>중재판정의집행</td>\n",
              "      <td>2020마5970</td>\n",
              "      <td>20220907</td>\n",
              "      <td>결정</td>\n",
              "      <td>중재요청서 등의 서면 통지에 있어서 중재법 제4조 제3항의 발송에 의한 통지가 ...</td>\n",
              "      <td>중재절차는 당사자 간에 다른 합의가 없는 한 피신청인이 중재요청서를 받은 날부터...</td>\n",
              "      <td>중재법 제4조$ 제22조 제1항$ 제36조 제2항 제1호 (나)목$ 제38조 제1호...</td>\n",
              "      <td>-</td>\n",
              "      <td>【신청인$재항고인】 주식회사 포스코아이씨티 (소송대리인 법무법인(유한) 화우 담당변...</td>\n",
              "    </tr>\n",
              "  </tbody>\n",
              "</table>\n",
              "</div>\n",
              "      <button class=\"colab-df-convert\" onclick=\"convertToInteractive('df-25a9d202-ba4d-4038-9e48-4cf9ff48e380')\"\n",
              "              title=\"Convert this dataframe to an interactive table.\"\n",
              "              style=\"display:none;\">\n",
              "        \n",
              "  <svg xmlns=\"http://www.w3.org/2000/svg\" height=\"24px\"viewBox=\"0 0 24 24\"\n",
              "       width=\"24px\">\n",
              "    <path d=\"M0 0h24v24H0V0z\" fill=\"none\"/>\n",
              "    <path d=\"M18.56 5.44l.94 2.06.94-2.06 2.06-.94-2.06-.94-.94-2.06-.94 2.06-2.06.94zm-11 1L8.5 8.5l.94-2.06 2.06-.94-2.06-.94L8.5 2.5l-.94 2.06-2.06.94zm10 10l.94 2.06.94-2.06 2.06-.94-2.06-.94-.94-2.06-.94 2.06-2.06.94z\"/><path d=\"M17.41 7.96l-1.37-1.37c-.4-.4-.92-.59-1.43-.59-.52 0-1.04.2-1.43.59L10.3 9.45l-7.72 7.72c-.78.78-.78 2.05 0 2.83L4 21.41c.39.39.9.59 1.41.59.51 0 1.02-.2 1.41-.59l7.78-7.78 2.81-2.81c.8-.78.8-2.07 0-2.86zM5.41 20L4 18.59l7.72-7.72 1.47 1.35L5.41 20z\"/>\n",
              "  </svg>\n",
              "      </button>\n",
              "      \n",
              "  <style>\n",
              "    .colab-df-container {\n",
              "      display:flex;\n",
              "      flex-wrap:wrap;\n",
              "      gap: 12px;\n",
              "    }\n",
              "\n",
              "    .colab-df-convert {\n",
              "      background-color: #E8F0FE;\n",
              "      border: none;\n",
              "      border-radius: 50%;\n",
              "      cursor: pointer;\n",
              "      display: none;\n",
              "      fill: #1967D2;\n",
              "      height: 32px;\n",
              "      padding: 0 0 0 0;\n",
              "      width: 32px;\n",
              "    }\n",
              "\n",
              "    .colab-df-convert:hover {\n",
              "      background-color: #E2EBFA;\n",
              "      box-shadow: 0px 1px 2px rgba(60, 64, 67, 0.3), 0px 1px 3px 1px rgba(60, 64, 67, 0.15);\n",
              "      fill: #174EA6;\n",
              "    }\n",
              "\n",
              "    [theme=dark] .colab-df-convert {\n",
              "      background-color: #3B4455;\n",
              "      fill: #D2E3FC;\n",
              "    }\n",
              "\n",
              "    [theme=dark] .colab-df-convert:hover {\n",
              "      background-color: #434B5C;\n",
              "      box-shadow: 0px 1px 3px 1px rgba(0, 0, 0, 0.15);\n",
              "      filter: drop-shadow(0px 1px 2px rgba(0, 0, 0, 0.3));\n",
              "      fill: #FFFFFF;\n",
              "    }\n",
              "  </style>\n",
              "\n",
              "      <script>\n",
              "        const buttonEl =\n",
              "          document.querySelector('#df-25a9d202-ba4d-4038-9e48-4cf9ff48e380 button.colab-df-convert');\n",
              "        buttonEl.style.display =\n",
              "          google.colab.kernel.accessAllowed ? 'block' : 'none';\n",
              "\n",
              "        async function convertToInteractive(key) {\n",
              "          const element = document.querySelector('#df-25a9d202-ba4d-4038-9e48-4cf9ff48e380');\n",
              "          const dataTable =\n",
              "            await google.colab.kernel.invokeFunction('convertToInteractive',\n",
              "                                                     [key], {});\n",
              "          if (!dataTable) return;\n",
              "\n",
              "          const docLinkHtml = 'Like what you see? Visit the ' +\n",
              "            '<a target=\"_blank\" href=https://colab.research.google.com/notebooks/data_table.ipynb>data table notebook</a>'\n",
              "            + ' to learn more about interactive tables.';\n",
              "          element.innerHTML = '';\n",
              "          dataTable['output_type'] = 'display_data';\n",
              "          await google.colab.output.renderOutput(dataTable, element);\n",
              "          const docLink = document.createElement('div');\n",
              "          docLink.innerHTML = docLinkHtml;\n",
              "          element.appendChild(docLink);\n",
              "        }\n",
              "      </script>\n",
              "    </div>\n",
              "  </div>\n",
              "  "
            ]
          },
          "metadata": {},
          "execution_count": 14
        }
      ]
    },
    {
      "cell_type": "code",
      "source": [
        "\n",
        "print(pssh_orig.head(3))\n",
        "print(pgyj_orig.head(3))\n",
        "print(prny_orig.head(3))"
      ],
      "metadata": {
        "colab": {
          "base_uri": "https://localhost:8080/"
        },
        "id": "RqIdod2_HAk_",
        "outputId": "a6536374-ee6d-4580-bef6-75c1a872474a"
      },
      "execution_count": null,
      "outputs": [
        {
          "output_type": "stream",
          "name": "stdout",
          "text": [
            "0      소수주주가 상법 제   조에 따라 임시총회 소집에 관한 법원의 허가를 신청할 때...\n",
            "1          수임인이 위임인을 위하여 자기 명의로 취득한 권리를 위임인에게 이전하여야...\n",
            "2          공소장변경이 허용되는 범위   공소사실의 동일성이 인정되지 않는 범죄사실...\n",
            "Name: holding, dtype: object\n",
            "0      일반적으로 주주총회는 이사회의 결의로 소집하지만(상법 제   조)  예외적으로 ...\n",
            "1          민법 제   조 제 항은  수임인이 위임인을 위하여 자기의 명의로 취득한...\n",
            "2          공소장변경은 공소사실의 동일성이 인정되는 범위 내에서만 허용되고  공소사...\n",
            "Name: summary, dtype: object\n",
            "0     신청인  재항고인  신청인 (소송대리인 변호사 오원근) 사건본인  상대방  주식회...\n",
            "1     원고  상고인 겸 피상고인  하동지구개발사업단 주식회사의 파산관재인 (소송대리인 ...\n",
            "2     피 고 인  피고인   외  인 상 고 인  피고인들 변 호 인  변호사 현희철 ...\n",
            "Name: prny, dtype: object\n"
          ]
        }
      ]
    },
    {
      "cell_type": "code",
      "source": [
        "class Highlight:\n",
        "  def __init__(self,keyword_list,paragraph):\n",
        "    self.keyword=keyword_list\n",
        "    self.paragraph=paragraph\n",
        "  def highlight(self,element):\n",
        "    if element in self.keyword:\n",
        "      if len(element)!=0:\n",
        "        return '<highlighted>'+element+'</highlighted>'\n",
        "    else:\n",
        "      once=False \n",
        "      fr=''\n",
        "      for i in self.keyword:\n",
        "        if element in i:\n",
        "          once=True\n",
        "          fr=i\n",
        "      if once==True:\n",
        "        return '<highlighted>'+fr+'</highlighted>'\n",
        "    return element\n",
        "\n",
        "def map_and_combine(paragraph,keywords,keysentences):\n",
        "  #print(keysentences)\n",
        "  highlighter=Highlight(keywords,paragraph)\n",
        "  res=list(map(highlighter.highlight,paragraph.split()))\n",
        "  ret=''\n",
        "  for w in res:\n",
        "    ret+=' '+w\n",
        "  return ret[1:]\n",
        "\n",
        "test_keywords=['apple','banana']\n",
        "test_paragraph='The monkey fell off the tree because it mistook an apple tree as a banana tree and tried to climb it the way it would upon a banana tree'\n",
        "print(map_and_combine(test_paragraph,test_keywords,['tried_to_climb']))\n"
      ],
      "metadata": {
        "colab": {
          "base_uri": "https://localhost:8080/"
        },
        "id": "u91EgemPXyh8",
        "outputId": "ff3688a4-59eb-44fb-ff4e-5593ee17704b"
      },
      "execution_count": null,
      "outputs": [
        {
          "output_type": "stream",
          "name": "stdout",
          "text": [
            "The monkey fell off the tree because it mistook <highlighted>banana</highlighted> <highlighted>apple</highlighted> tree as <highlighted>banana</highlighted> <highlighted>banana</highlighted> tree and tried to climb it the way it would upon <highlighted>banana</highlighted> <highlighted>banana</highlighted> tree\n"
          ]
        }
      ]
    },
    {
      "cell_type": "markdown",
      "source": [
        "#Infer"
      ],
      "metadata": {
        "id": "TvQAgHPK5vI2"
      }
    },
    {
      "cell_type": "code",
      "source": [
        "for row in pgyj_orig.values:\n",
        "  if len(row.split('.'))>2:\n",
        "    print('exist')\n",
        "  if '.' in row:\n",
        "    print('yes exist')"
      ],
      "metadata": {
        "id": "sz2qcUTJweAs",
        "colab": {
          "base_uri": "https://localhost:8080/"
        },
        "outputId": "c6e6f6d7-8ce8-4e71-cbc0-04c2160ecc23"
      },
      "execution_count": null,
      "outputs": [
        {
          "output_type": "stream",
          "name": "stdout",
          "text": [
            "exist\n",
            "yes exist\n",
            "exist\n",
            "yes exist\n",
            "exist\n",
            "yes exist\n",
            "exist\n",
            "yes exist\n",
            "exist\n",
            "yes exist\n",
            "exist\n",
            "yes exist\n",
            "exist\n",
            "yes exist\n",
            "exist\n",
            "yes exist\n",
            "yes exist\n",
            "exist\n",
            "yes exist\n",
            "exist\n",
            "yes exist\n",
            "exist\n",
            "yes exist\n",
            "exist\n",
            "yes exist\n",
            "exist\n",
            "yes exist\n",
            "exist\n",
            "yes exist\n",
            "exist\n",
            "yes exist\n",
            "exist\n",
            "yes exist\n",
            "exist\n",
            "yes exist\n",
            "exist\n",
            "yes exist\n",
            "exist\n",
            "yes exist\n"
          ]
        }
      ]
    },
    {
      "cell_type": "code",
      "source": [
        "for row in pssh_orig.values:\n",
        "  if len(row.split('여부'))>2:\n",
        "    print('exist')\n",
        "  if '.' in row:\n",
        "    print('yes exist')"
      ],
      "metadata": {
        "id": "DTLMHTXX1O6b",
        "colab": {
          "base_uri": "https://localhost:8080/"
        },
        "outputId": "c227b3d6-1e9e-4606-e5bc-575092aba291"
      },
      "execution_count": null,
      "outputs": [
        {
          "output_type": "stream",
          "name": "stdout",
          "text": [
            "yes exist\n",
            "yes exist\n",
            "yes exist\n",
            "yes exist\n",
            "yes exist\n",
            "yes exist\n",
            "exist\n",
            "yes exist\n",
            "yes exist\n",
            "yes exist\n",
            "yes exist\n",
            "yes exist\n",
            "yes exist\n",
            "yes exist\n",
            "yes exist\n",
            "yes exist\n",
            "yes exist\n",
            "exist\n",
            "yes exist\n",
            "yes exist\n",
            "yes exist\n",
            "yes exist\n",
            "yes exist\n",
            "yes exist\n",
            "yes exist\n",
            "yes exist\n",
            "yes exist\n",
            "exist\n",
            "yes exist\n",
            "yes exist\n",
            "yes exist\n",
            "yes exist\n",
            "yes exist\n",
            "yes exist\n",
            "yes exist\n",
            "yes exist\n",
            "yes exist\n",
            "yes exist\n",
            "exist\n",
            "yes exist\n",
            "yes exist\n",
            "yes exist\n"
          ]
        }
      ]
    },
    {
      "cell_type": "markdown",
      "source": [
        "테스트 완료 후"
      ],
      "metadata": {
        "id": "U7rTgSuI1Nvt"
      }
    },
    {
      "cell_type": "code",
      "source": [
        "\n",
        "pssh=[]\n",
        "pgyj=[]\n",
        "prny=[]\n",
        "def remove_empty(sent_list):\n",
        "  result=[]\n",
        "  for l in sent_list: \n",
        "    if l!='' and l !=' ':\n",
        "      result.append(l)\n",
        "  return result\n",
        "\n",
        "def return_list(df,keyword,limit=10):\n",
        "  tt=InferTextRank()\n",
        "  word_list=[]\n",
        "  keysentence_list=[]\n",
        "  new_paragraph_list=[]\n",
        "  i=0\n",
        "  for paragraph in df[keyword]:\n",
        "    \n",
        "    if keyword=='summary':\n",
        "      #print('working?')\n",
        "      sent_list=list(map(str.strip,paragraph.split('여부')))\n",
        "    else:\n",
        "      sent_list=list(map(str.strip,paragraph.split('.')))\n",
        "    sent_list=remove_empty(sent_list)\n",
        "    print('sent list for',keyword,'has',len(sent_list))\n",
        "    if len(sent_list)>1:\n",
        "      try:\n",
        "        words=tt.textrank_word(sent_list,limit=limit)\n",
        "        word_list.append(words)\n",
        "\n",
        "        keysents=tt.textrank_sent(sent_list)\n",
        "        keysentence_list.append(keysents)\n",
        "\n",
        "        #paragraph내 words의 위치를 찾아 다 <태그> 붙여주기\n",
        "        tmp_paragraph=paragraph\n",
        "        '''for word in words:\n",
        "          tmp_paragraph=re.sub(word,'<highlighted>'+word+'</highlighted>',tmp_paragraph)\n",
        "        '''\n",
        "        new_paragraph=map_and_combine(tmp_paragraph,words,keysentence_list)\n",
        "        new_paragraph_list.append(new_paragraph)\n",
        "      except:\n",
        "        if i>limit:\n",
        "          i+=1\n",
        "          print(len(sent_list))\n",
        "          print(sent_list)\n",
        "          break\n",
        "        word_list.append(['None']*limit)   \n",
        "        new_paragraph_list.append(paragraph) \n",
        "    else:\n",
        "      word_list.append(['None']*limit)\n",
        "      new_paragraph_list.append(paragraph)\n",
        "\n",
        "    \n",
        "  return word_list,keysentence_list,new_paragraph_list\n",
        "\n",
        "pssh,pssh_keysent,pssh_replace=return_list(pre_process.filtered_df,'holding')\n",
        "pgyj,pgyj_keysent,pgyj_replace=return_list(pre_process.filtered_df,'summary')\n",
        "prny,prny_keysent,prny_replace=return_list(pre_process.filtered_df,'prny')"
      ],
      "metadata": {
        "id": "JQeSrsEEWF64"
      },
      "execution_count": null,
      "outputs": []
    },
    {
      "cell_type": "code",
      "source": [
        "print(pssh_keysent)\n",
        "print(pgyj_keysent)\n",
        "print(prny_keysent)"
      ],
      "metadata": {
        "colab": {
          "base_uri": "https://localhost:8080/"
        },
        "id": "lL9Xt7ynetzX",
        "outputId": "7fa2d8f6-c4c2-4412-8483-b5d3e5fcf6f8"
      },
      "execution_count": null,
      "outputs": [
        {
          "output_type": "stream",
          "name": "stdout",
          "text": [
            "[]\n",
            "[]\n",
            "[]\n"
          ]
        }
      ]
    },
    {
      "cell_type": "code",
      "source": [
        "if '.' in pssh_replace[0]:# or '.' in prny_replace[0]:\n",
        "  print('yes')"
      ],
      "metadata": {
        "id": "yRF8apCqnia5"
      },
      "execution_count": null,
      "outputs": []
    },
    {
      "cell_type": "code",
      "source": [
        "from sklearn.feature_extraction.text import TfidfVectorizer\n",
        "def return_sents(paragraph,keyword):\n",
        "    if keyword=='summary':\n",
        "      #print('working?')\n",
        "      sent_list=list(map(str.strip,paragraph.split('여부')))\n",
        "    else:\n",
        "      sent_list=list(map(str.strip,paragraph.split('.')))\n",
        "    sent_list=remove_empty(sent_list)\n",
        "    return sent_list\n",
        "corpus=return_sents(prny_replace[0],'prny')\n",
        "'''corpus = [\n",
        "    'This is the first document.',\n",
        "    'This document is the second document.',\n",
        "    'And this is the third one.',\n",
        "    'Is this the first document?',\n",
        "]'''\n",
        "kkma=Kkma().nouns\n",
        "stopwords=['채','이하','이유','사건','사실','주', '주문', '직', '호', '현', '후', '지', '조', '미', '과', '그', '이', '이때', '위', '유', '을', '의', '수', '소', '악', '별', '때', '등', '라', '문', '미', '법', '김', '그', '경우', '기각', '와', '함께', '그래서', '여부', '가' ]\n",
        "vectorizer = TfidfVectorizer(tokenizer=lambda x: kkma(x),stop_words=stopwords)\n",
        "X = vectorizer.fit_transform(corpus)\n",
        "print(vectorizer.get_feature_names_out())\n",
        "print(X.shape)"
      ],
      "metadata": {
        "colab": {
          "base_uri": "https://localhost:8080/"
        },
        "id": "2mRfwmMom9_z",
        "outputId": "090976d0-3d54-434d-a290-eb523f8c133f"
      },
      "execution_count": null,
      "outputs": [
        {
          "output_type": "stream",
          "name": "stdout",
          "text": [
            "['견제' '결의' '결의사항' '결정' '고등' '고법' '공익권' '관여' '권한' '규정' '기록' '기재' '기회' '김선수'\n",
            " '노태' '노태악' '대리인' '대법관' '대법원' '대전' '대전고등법원' '대전고법' '대표' '대표이사' '대표이사직'\n",
            " '대표이사직도' '목록' '목적' '목적사항' '박정' '발행' '발행주식총수' '법리' '법원' '변경' '변호사' '별지'\n",
            " '보호' '본인' '부분' '부의' '분의' '불일치' '사건본인' '사항' '상대방' '상법' '상실' '생략' '생략대법관'\n",
            " '서면' '석명' '석명의무' '선수' '선임' '소명' '소명자료' '소송' '소송대리인' '소수' '소수주주' '소외'\n",
            " '소외인' '소외인의' '소집' '소집청구' '수정' '신청' '신청인' '심리' '안건' '예외적' '오' '오경' '오경미'\n",
            " '오원근' '외인' '원근' '원심' '원심결정' '원심법원' '원심판결' '의견' '의무' '의미' '의사' '의안' '이사'\n",
            " '이사직' '이사회' '이사회의' '이상' '이익' '인의' '일반적' '일부' '일치' '임시' '임시주주총회' '임시총회'\n",
            " '임시총회소집청구권' '임시총회소집청구서' '임시총회소집허가' '자' '자동적' '자료' '자신' '잘못' '재판' '재판장'\n",
            " '재항고' '재항고이유' '절차' '점' '정관' '정확' '제' '제안' '제출' '조치' '주식' '주식회사' '주심' '주장'\n",
            " '주주' '주주총회' '중' '즉시' '즉시항고장' '지배' '지배주주' '지적' '지지' '지체' '직도' '직접' '진술'\n",
            " '진행' '참조' '청구' '청구권' '청구서' '총수' '총회' '총회소집' '출한' '취지' '코리아' '파기' '판결'\n",
            " '판단' '필요' '하고자' '하나' '한편' '항고인' '항고장' '해당' '해임' '허가' '환송' '회사' '회의' '후임']\n",
            "(21, 164)\n"
          ]
        }
      ]
    },
    {
      "cell_type": "code",
      "source": [
        "new_pssh_replace=[]\n",
        "new_pgyj_replace=[]\n",
        "for p,pg in zip(pssh_replace,pgyj_replace):\n",
        "  t=map_and_combine(p,vectorizer.get_feature_names_out(),[])\n",
        "  j=map_and_combine(pg,vectorizer.get_feature_names_out(),[])\n",
        "  new_pssh_replace.append(t)\n",
        "  new_pgyj_replace.append(j)\n",
        "  if '<highlighted>' in j:\n",
        "    print('yay')"
      ],
      "metadata": {
        "colab": {
          "base_uri": "https://localhost:8080/"
        },
        "id": "3QM42S9wqtgQ",
        "outputId": "05d179bb-1114-4aaf-9dd4-cbc0eadb981b"
      },
      "execution_count": null,
      "outputs": [
        {
          "output_type": "stream",
          "name": "stdout",
          "text": [
            "yay\n",
            "yay\n",
            "yay\n",
            "yay\n",
            "yay\n",
            "yay\n",
            "yay\n",
            "yay\n",
            "yay\n",
            "yay\n",
            "yay\n",
            "yay\n",
            "yay\n",
            "yay\n",
            "yay\n",
            "yay\n",
            "yay\n",
            "yay\n",
            "yay\n",
            "yay\n"
          ]
        }
      ]
    },
    {
      "cell_type": "code",
      "source": [
        "highlighted_passage=pd.DataFrame([(pssh,pgyj) for pssh,pgyj in zip(new_pssh_replace,new_pgyj_replace)],columns=['jmreference_textrank','summary_textrank'])\n",
        "case_list_new=pd.concat([case,highlighted_passage],axis=1)\n",
        "case_list_new.drop(columns=['date','verdicttype'])\n",
        "highlighted_passage.to_csv('highlighted_passage.csv',index=False)\n",
        "case_list_new.to_csv('case_list_with_textrank.csv',index=False)"
      ],
      "metadata": {
        "id": "UD_TZDtmwQPn"
      },
      "execution_count": null,
      "outputs": []
    },
    {
      "cell_type": "markdown",
      "source": [
        "#REST"
      ],
      "metadata": {
        "id": "imMacK8_OJBn"
      }
    },
    {
      "cell_type": "code",
      "source": [
        "import numpy as np\n",
        "p1=pssh.copy()\n",
        "p2=pgyj.copy()\n",
        "p3=prny.copy()\n",
        "\n",
        "np.save('pssh.npy',np.array(p1))\n",
        "np.save('pgyj.npy',np.array(p2))\n",
        "np.save('prny.npy',np.array(p3))\n"
      ],
      "metadata": {
        "id": "fIM9_qdGWM2H"
      },
      "execution_count": null,
      "outputs": []
    },
    {
      "cell_type": "code",
      "source": [
        "np.unique(np.array(p1))"
      ],
      "metadata": {
        "id": "TUJgzKYje01Y"
      },
      "execution_count": null,
      "outputs": []
    },
    {
      "cell_type": "code",
      "source": [
        "import pandas as pd\n",
        "\n",
        "columns=['rank'+str(i+1) for i in range(10)]\n",
        "pd.DataFrame(p1,columns=columns).to_csv('/content/pssh.csv')\n",
        "pd.DataFrame(p2,columns=columns).to_csv('/content/pgyj.csv')\n",
        "pd.DataFrame(p3,columns=columns).to_csv('/content/prny.csv')"
      ],
      "metadata": {
        "id": "rY1EzdTRc_DT"
      },
      "execution_count": null,
      "outputs": []
    },
    {
      "cell_type": "code",
      "source": [
        "def insert_tag(words,paragraph):\n",
        "  "
      ],
      "metadata": {
        "id": "yTJOPlDHw9q1"
      },
      "execution_count": null,
      "outputs": []
    },
    {
      "cell_type": "code",
      "source": [
        "import os.path as osp\n",
        "\n",
        "#need work: search가 한 개만 찾아주는 반면 해당 word는 paragraph에 여러개 있을 수 있음\n",
        "class FindPlace:\n",
        "  def __init__ ( self,paragraph_list,textrank_list,name='data',dir='path'):\n",
        "    if len(paragraph_list)==len(textrank_list):\n",
        "      print('??')\n",
        "      self.dir=osp.join(dir,name)\n",
        "      self.find_places(paragraph_list,textrank_list)\n",
        "    else:\n",
        "      print('fail')\n",
        "  def find_place(self,paragraph,ranked_words,count):#하나의 paragraph에 대해\n",
        "    starts=[]\n",
        "    ends=[]\n",
        "    for word in ranked_words:\n",
        "      if isinstance(word,str) and word !='None':\n",
        "        try:\n",
        "          start=re.search(word, paragraph).start()\n",
        "          end=start+len(word)\n",
        "          starts.append(start)\n",
        "          ends.append(end) \n",
        "        except:\n",
        "          print(word,' is not in',paragraph)\n",
        "    pd.DataFrame({'start':starts,'end':ends}).to_json(osp.join(self.dir,str(count)+'.json'))\n",
        "\n",
        "  def find_places(self,paragraph_list,textrank_list):\n",
        "    count=0\n",
        "    for paragraph,ranked_text in zip(paragraph_list,textrank_list):\n",
        "      self.find_place(paragraph,ranked_text,count)\n",
        "      count+=1 \n"
      ],
      "metadata": {
        "id": "E8WZq6PZRRZf"
      },
      "execution_count": null,
      "outputs": []
    },
    {
      "cell_type": "code",
      "source": [
        "FindPlace(pre_process.filtered_df['판시사항'],pssh,name='pssh',dir='/content/jsons/')"
      ],
      "metadata": {
        "id": "Cc_iBcegeCN8"
      },
      "execution_count": null,
      "outputs": []
    },
    {
      "cell_type": "code",
      "source": [
        "\n",
        "FindPlace(pre_process.filtered_df['판결요지'],pgyj,name='pgyj',dir='/content/jsons')"
      ],
      "metadata": {
        "id": "lqE6BN4AfSTG"
      },
      "execution_count": null,
      "outputs": []
    },
    {
      "cell_type": "code",
      "source": [
        "\n",
        "FindPlace(pre_process.filtered_df['판례내용'],prny,name='prny',dir='/content/jsons')"
      ],
      "metadata": {
        "id": "478MM5uZfa13"
      },
      "execution_count": null,
      "outputs": []
    },
    {
      "cell_type": "code",
      "source": [
        "FindPlace(pre_process.filtered_df['판시사항'],pssh,name='pssh',dir='\\\\content\\\\jsons\\\\pssh')\n",
        "FindPlace(pre_process.filtered_df['판례내용'],prny,name='prny',dir='\\\\content\\\\jsons\\\\prny')"
      ],
      "metadata": {
        "id": "51fG6Y8lY3m2"
      },
      "execution_count": null,
      "outputs": []
    },
    {
      "cell_type": "markdown",
      "source": [],
      "metadata": {
        "id": "PtxKnU2sbe43"
      }
    }
  ]
}